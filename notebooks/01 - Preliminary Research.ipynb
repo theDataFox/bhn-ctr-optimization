{
 "cells": [
  {
   "cell_type": "code",
   "execution_count": 5,
   "metadata": {
    "collapsed": true,
    "pycharm": {
     "is_executing": false,
     "name": "#%% Intro\n"
    }
   },
   "outputs": [
    {
     "name": "stdout",
     "text": [
      "ga:country: (not set)\nDate range: 0\nga:sessions: 173\nga:country: Algeria\nDate range: 0\nga:sessions: 1\nga:country: Angola\nDate range: 0\nga:sessions: 1\nga:country: Antigua & Barbuda\nDate range: 0\nga:sessions: 1\nga:country: Argentina\nDate range: 0\nga:sessions: 13\nga:country: Armenia\nDate range: 0\nga:sessions: 1\nga:country: Australia\nDate range: 0\nga:sessions: 156\nga:country: Austria\nDate range: 0\nga:sessions: 26\nga:country: Bahrain\nDate range: 0\nga:sessions: 1\nga:country: Bangladesh\nDate range: 0\nga:sessions: 3\nga:country: Belarus\nDate range: 0\nga:sessions: 3\nga:country: Belgium\nDate range: 0\nga:sessions: 79\nga:country: Bermuda\nDate range: 0\nga:sessions: 1\nga:country: Bosnia & Herzegovina\nDate range: 0\nga:sessions: 2\nga:country: Botswana\nDate range: 0\nga:sessions: 2\nga:country: Brazil\nDate range: 0\nga:sessions: 17\nga:country: Bulgaria\nDate range: 0\nga:sessions: 16\nga:country: Cambodia\nDate range: 0\nga:sessions: 3\nga:country: Canada\nDate range: 0\nga:sessions: 310\nga:country: Cape Verde\nDate range: 0\nga:sessions: 1\nga:country: Central African Republic\nDate range: 0\nga:sessions: 2\nga:country: Chile\nDate range: 0\nga:sessions: 4\nga:country: China\nDate range: 0\nga:sessions: 17\nga:country: Colombia\nDate range: 0\nga:sessions: 11\nga:country: Congo - Kinshasa\nDate range: 0\nga:sessions: 1\nga:country: Costa Rica\nDate range: 0\nga:sessions: 3\nga:country: Croatia\nDate range: 0\nga:sessions: 12\nga:country: Cyprus\nDate range: 0\nga:sessions: 15\nga:country: Czechia\nDate range: 0\nga:sessions: 45\nga:country: Denmark\nDate range: 0\nga:sessions: 73\nga:country: Egypt\nDate range: 0\nga:sessions: 5\nga:country: Equatorial Guinea\nDate range: 0\nga:sessions: 2\nga:country: Estonia\nDate range: 0\nga:sessions: 1\nga:country: Finland\nDate range: 0\nga:sessions: 29\nga:country: France\nDate range: 0\nga:sessions: 312\nga:country: Germany\nDate range: 0\nga:sessions: 288\nga:country: Ghana\nDate range: 0\nga:sessions: 5\nga:country: Greece\nDate range: 0\nga:sessions: 53\nga:country: Guam\nDate range: 0\nga:sessions: 1\nga:country: Guernsey\nDate range: 0\nga:sessions: 5\nga:country: Haiti\nDate range: 0\nga:sessions: 1\nga:country: Hong Kong\nDate range: 0\nga:sessions: 18\nga:country: Hungary\nDate range: 0\nga:sessions: 13\nga:country: Iceland\nDate range: 0\nga:sessions: 2\nga:country: India\nDate range: 0\nga:sessions: 155\nga:country: Indonesia\nDate range: 0\nga:sessions: 14\nga:country: Iran\nDate range: 0\nga:sessions: 5\nga:country: Iraq\nDate range: 0\nga:sessions: 3\nga:country: Ireland\nDate range: 0\nga:sessions: 1015\nga:country: Israel\nDate range: 0\nga:sessions: 19\nga:country: Italy\nDate range: 0\nga:sessions: 92\nga:country: Jamaica\nDate range: 0\nga:sessions: 1\nga:country: Japan\nDate range: 0\nga:sessions: 34\nga:country: Jersey\nDate range: 0\nga:sessions: 29\nga:country: Kenya\nDate range: 0\nga:sessions: 9\nga:country: Kuwait\nDate range: 0\nga:sessions: 1\nga:country: Latvia\nDate range: 0\nga:sessions: 8\nga:country: Lebanon\nDate range: 0\nga:sessions: 1\nga:country: Libya\nDate range: 0\nga:sessions: 1\nga:country: Lithuania\nDate range: 0\nga:sessions: 15\nga:country: Luxembourg\nDate range: 0\nga:sessions: 7\nga:country: Malawi\nDate range: 0\nga:sessions: 1\nga:country: Malaysia\nDate range: 0\nga:sessions: 13\nga:country: Maldives\nDate range: 0\nga:sessions: 1\nga:country: Malta\nDate range: 0\nga:sessions: 2\nga:country: Mauritius\nDate range: 0\nga:sessions: 2\nga:country: Mexico\nDate range: 0\nga:sessions: 17\nga:country: Moldova\nDate range: 0\nga:sessions: 3\nga:country: Morocco\nDate range: 0\nga:sessions: 1\nga:country: Namibia\nDate range: 0\nga:sessions: 3\nga:country: Nepal\nDate range: 0\nga:sessions: 2\nga:country: Netherlands\nDate range: 0\nga:sessions: 206\nga:country: New Zealand\nDate range: 0\nga:sessions: 29\nga:country: Nigeria\nDate range: 0\nga:sessions: 5\nga:country: North Macedonia\nDate range: 0\nga:sessions: 3\nga:country: Norway\nDate range: 0\nga:sessions: 55\nga:country: Oman\nDate range: 0\nga:sessions: 1\nga:country: Pakistan\nDate range: 0\nga:sessions: 14\nga:country: Panama\nDate range: 0\nga:sessions: 2\nga:country: Peru\nDate range: 0\nga:sessions: 2\nga:country: Philippines\nDate range: 0\nga:sessions: 33\nga:country: Poland\nDate range: 0\nga:sessions: 63\nga:country: Portugal\nDate range: 0\nga:sessions: 28\nga:country: Puerto Rico\nDate range: 0\nga:sessions: 1\nga:country: Qatar\nDate range: 0\nga:sessions: 2\nga:country: Romania\nDate range: 0\nga:sessions: 50\nga:country: Russia\nDate range: 0\nga:sessions: 18\nga:country: Saudi Arabia\nDate range: 0\nga:sessions: 4\nga:country: Serbia\nDate range: 0\nga:sessions: 8\nga:country: Singapore\nDate range: 0\nga:sessions: 41\nga:country: Slovakia\nDate range: 0\nga:sessions: 9\nga:country: Slovenia\nDate range: 0\nga:sessions: 11\nga:country: Somalia\nDate range: 0\nga:sessions: 1\nga:country: South Africa\nDate range: 0\nga:sessions: 27\nga:country: South Korea\nDate range: 0\nga:sessions: 11\nga:country: Spain\nDate range: 0\nga:sessions: 160\nga:country: Sri Lanka\nDate range: 0\nga:sessions: 2\nga:country: Sudan\nDate range: 0\nga:sessions: 1\nga:country: Sweden\nDate range: 0\nga:sessions: 49\nga:country: Switzerland\nDate range: 0\nga:sessions: 114\nga:country: Taiwan\nDate range: 0\nga:sessions: 6\nga:country: Thailand\nDate range: 0\nga:sessions: 7\nga:country: Timor-Leste\nDate range: 0\nga:sessions: 1\nga:country: Trinidad & Tobago\nDate range: 0\nga:sessions: 1\nga:country: Tunisia\nDate range: 0\nga:sessions: 2\nga:country: Turkey\nDate range: 0\nga:sessions: 18\nga:country: Ukraine\nDate range: 0\nga:sessions: 14\nga:country: United Arab Emirates\nDate range: 0\nga:sessions: 19\nga:country: United Kingdom\nDate range: 0\nga:sessions: 62289\nga:country: United States\nDate range: 0\nga:sessions: 3768\nga:country: Uzbekistan\nDate range: 0\nga:sessions: 2\nga:country: Venezuela\nDate range: 0\nga:sessions: 1\nga:country: Vietnam\nDate range: 0\nga:sessions: 11\n"
     ],
     "output_type": "stream"
    }
   ],
   "source": [
    "\n",
    "\"\"\"Hello Analytics Reporting API V4.\"\"\"\n",
    "import os\n",
    "from googleapiclient.discovery import build\n",
    "from oauth2client.service_account import ServiceAccountCredentials\n",
    "\n",
    "SCOPES = ['https://www.googleapis.com/auth/analytics.readonly']\n",
    "KEY_FILE_LOCATION = os.path.join(os.path.abspath(os.path.join(os.getcwd(), os.pardir)), 'bhn-seo-tools-config.json')\n",
    "VIEW_ID = '140617562'\n",
    "\n",
    "\n",
    "def initialize_analytics_reporting():\n",
    "  \"\"\"Initializes an Analytics Reporting API V4 service object.\n",
    "\n",
    "  Returns:\n",
    "    An authorized Analytics Reporting API V4 service object.\n",
    "  \"\"\"\n",
    "  credentials = ServiceAccountCredentials.from_json_keyfile_name(\n",
    "      KEY_FILE_LOCATION, SCOPES)\n",
    "\n",
    "  # Build the service object.\n",
    "  analytics = build('analyticsreporting', 'v4', credentials=credentials)\n",
    "\n",
    "  return analytics\n",
    "\n",
    "\n",
    "def get_report(analytics):\n",
    "  \"\"\"Queries the Analytics Reporting API V4.\n",
    "\n",
    "  Args:\n",
    "    analytics: An authorized Analytics Reporting API V4 service object.\n",
    "  Returns:\n",
    "    The Analytics Reporting API V4 response.\n",
    "  \"\"\"\n",
    "  return analytics.reports().batchGet(\n",
    "      body={\n",
    "        'reportRequests': [\n",
    "        {\n",
    "          'viewId': VIEW_ID,\n",
    "          'dateRanges': [{'startDate': '7daysAgo', 'endDate': 'today'}],\n",
    "          'metrics': [{'expression': 'ga:sessions'}],\n",
    "          'dimensions': [{'name': 'ga:country'}]\n",
    "        }]\n",
    "      }\n",
    "  ).execute()\n",
    "\n",
    "\n",
    "def print_response(response):\n",
    "  \"\"\"Parses and prints the Analytics Reporting API V4 response.\n",
    "\n",
    "  Args:\n",
    "    response: An Analytics Reporting API V4 response.\n",
    "  \"\"\"\n",
    "  for report in response.get('reports', []):\n",
    "    column_header = report.get('columnHeader', {})\n",
    "    dimension_headers = column_header.get('dimensions', [])\n",
    "    metric_headers = column_header.get('metricHeader', {}).get('metricHeaderEntries', [])\n",
    "\n",
    "    for row in report.get('data', {}).get('rows', []):\n",
    "      dimensions = row.get('dimensions', [])\n",
    "      date_range_values = row.get('metrics', [])\n",
    "\n",
    "      for header, dimension in zip(dimension_headers, dimensions):\n",
    "        print(header + ': ' + dimension)\n",
    "\n",
    "      for i, values in enumerate(date_range_values):\n",
    "        print('Date range: ' + str(i))\n",
    "        for metricHeader, value in zip(metric_headers, values.get('values')):\n",
    "          print(metricHeader.get('name') + ': ' + value)\n",
    "\n",
    "\n",
    "def main():\n",
    "  analytics = initialize_analytics_reporting()\n",
    "  response = get_report(analytics)\n",
    "  print_response(response)\n",
    "\n",
    "if __name__ == '__main__':\n",
    "  main()\n"
   ]
  },
  {
   "cell_type": "markdown",
   "source": [
    "# Introduction"
   ],
   "metadata": {
    "collapsed": false
   }
  },
  {
   "cell_type": "markdown",
   "source": [
    "### Import Packages and Configuration\n"
   ],
   "metadata": {
    "collapsed": false
   }
  },
  {
   "cell_type": "markdown",
   "source": [
    "### Initializing Google Analytics Reporting API"
   ],
   "metadata": {
    "collapsed": false,
    "pycharm": {
     "name": "#%% md\n"
    }
   }
  },
  {
   "cell_type": "markdown",
   "source": [
    "# Data Pre_processing\n"
   ],
   "metadata": {
    "collapsed": false
   }
  },
  {
   "cell_type": "markdown",
   "source": [
    "# Exploratory Data Anlysis\n"
   ],
   "metadata": {
    "collapsed": false
   }
  },
  {
   "cell_type": "markdown",
   "source": [
    "# Modelling\n"
   ],
   "metadata": {
    "collapsed": false
   }
  },
  {
   "cell_type": "markdown",
   "source": [
    "## Training\n"
   ],
   "metadata": {
    "collapsed": false
   }
  },
  {
   "cell_type": "markdown",
   "source": [
    "## Evaluation\n"
   ],
   "metadata": {
    "collapsed": false
   }
  },
  {
   "cell_type": "markdown",
   "source": [
    "## Prediction\n"
   ],
   "metadata": {
    "collapsed": false
   }
  },
  {
   "cell_type": "markdown",
   "source": [
    "# Conclusion"
   ],
   "metadata": {
    "collapsed": false
   }
  }
 ],
 "metadata": {
  "language_info": {
   "codemirror_mode": {
    "name": "ipython",
    "version": 2
   },
   "file_extension": ".py",
   "mimetype": "text/x-python",
   "name": "python",
   "nbconvert_exporter": "python",
   "pygments_lexer": "ipython2",
   "version": "2.7.6"
  },
  "kernelspec": {
   "name": "python3",
   "language": "python",
   "display_name": "Python 3"
  },
  "pycharm": {
   "stem_cell": {
    "cell_type": "raw",
    "source": [],
    "metadata": {
     "collapsed": false
    }
   }
  }
 },
 "nbformat": 4,
 "nbformat_minor": 0
}