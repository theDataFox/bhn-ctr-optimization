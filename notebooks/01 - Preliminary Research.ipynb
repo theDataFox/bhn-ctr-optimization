{
 "cells": [
  {
   "cell_type": "markdown",
   "source": [
    "# Introduction\n",
    "The main goal of this workbook is to lay the foundation of the Propensity to Buy model that will be developed. The project's objective is to identify sessions on Google Analytics that have a higher than average propensity to buy.\n",
    "\n",
    "In this notebook basic Exploratory Data Analysis will be performed before moving onto the more advanced modelling and predictions. This is a preliminary notebook without prior knowledge of which techniques and models will and perform the best. \n",
    "\n",
    "The foundations laid here will lead to other areas of interest such as CTR on AdWords content and the propensity of a customer to churn, which will require other data sources. \n",
    "\n",
    "First a Google Analytics connection needs to be established to gather the required data."
   ],
   "metadata": {
    "collapsed": false
   }
  },
  {
   "cell_type": "markdown",
   "source": [
    "### Import Packages and Configuration"
   ],
   "metadata": {
    "collapsed": false
   }
  },
  {
   "cell_type": "code",
   "execution_count": 5,
   "outputs": [],
   "source": [
    "# Import necessary packages\n",
    "import os\n",
    "from googleapiclient.discovery import build\n",
    "from oauth2client.service_account import ServiceAccountCredentials\n",
    "import pandas as pd\n",
    "import matplotlib.pyplot as plt\n",
    "import seaborn as sns"
   ],
   "metadata": {
    "collapsed": false,
    "pycharm": {
     "name": "#%%\n",
     "is_executing": false
    }
   }
  },
  {
   "cell_type": "markdown",
   "source": [
    "### Initializing Google Analytics Reporting API"
   ],
   "metadata": {
    "collapsed": false,
    "pycharm": {
     "name": "#%% md\n"
    }
   }
  },
  {
   "cell_type": "code",
   "execution_count": 7,
   "outputs": [],
   "source": [
    "# define key variables used in analysis\n",
    "SCOPES = ['https://www.googleapis.com/auth/analytics.readonly']\n",
    "KEY_FILE_LOCATION = os.path.join(os.path.abspath(os.path.join(os.getcwd(), os.pardir)), 'bhn-seo-tools-analytics-key.json')\n",
    "VIEW_ID = '140617562'\n",
    "DIMENSIONS = ['ga:source', 'ga:medium']\n",
    "METRICS = ['ga:users', 'ga:sessions']\n"
   ],
   "metadata": {
    "collapsed": false,
    "pycharm": {
     "name": "#%%\n",
     "is_executing": false
    }
   }
  },
  {
   "cell_type": "code",
   "execution_count": 8,
   "outputs": [],
   "source": [
    "# create API connection\n",
    "def initialize_analytics_reporting():\n",
    "  \"\"\"Initializes an Analytics Reporting API V4 service object.\n",
    "\n",
    "  Returns:\n",
    "    An authorized Analytics Reporting API V4 service object.\n",
    "  \"\"\"\n",
    "  credentials = ServiceAccountCredentials.from_json_keyfile_name(\n",
    "      KEY_FILE_LOCATION, SCOPES)\n",
    "\n",
    "  # Build the service object.\n",
    "  analytics = build('analyticsreporting', 'v4', credentials=credentials)\n",
    "\n",
    "  return analytics"
   ],
   "metadata": {
    "collapsed": false,
    "pycharm": {
     "name": "#%%\n",
     "is_executing": false
    }
   }
  },
  {
   "cell_type": "markdown",
   "source": [
    "### Gather Data"
   ],
   "metadata": {
    "collapsed": false,
    "pycharm": {
     "name": "#%% md\n"
    }
   }
  },
  {
   "cell_type": "code",
   "execution_count": 9,
   "outputs": [],
   "source": [
    "# define report to return\n",
    "def get_report(analytics):\n",
    "  \"\"\"Queries the Analytics Reporting API V4.\n",
    "  https://ga-dev-tools.appspot.com/dimensions-metrics-explorer/ for all metrics and dimensions\n",
    "\n",
    "  Args:\n",
    "    analytics: An authorized Analytics Reporting API V4 service object.\n",
    "  Returns:\n",
    "    The Analytics Reporting API V4 response.\n",
    "  \"\"\"\n",
    "  return analytics.reports().batchGet(\n",
    "      body={\n",
    "        'reportRequests': [\n",
    "        {\n",
    "          'viewId': VIEW_ID,\n",
    "          'dateRanges': [{'startDate': '7daysAgo', 'endDate': 'today'}],\n",
    "            'metrics': [{'expression': i} for i in METRICS],\n",
    "            'dimensions': [{'name': j} for j in DIMENSIONS]\n",
    "        }]\n",
    "      }\n",
    "  ).execute()\n"
   ],
   "metadata": {
    "collapsed": false,
    "pycharm": {
     "name": "#%%\n",
     "is_executing": false
    }
   }
  },
  {
   "cell_type": "markdown",
   "source": [
    "# Data Pre-Processing"
   ],
   "metadata": {
    "collapsed": false
   }
  },
  {
   "cell_type": "code",
   "execution_count": 10,
   "outputs": [],
   "source": [
    "def convert_to_dataframe(response):\n",
    "    for report in response.get('reports', []):\n",
    "        column_header = report.get('columnHeader', {})\n",
    "        dimension_headers = column_header.get('dimensions', [])\n",
    "        metric_headers = [i.get('name', {}) for i in column_header.get('metricHeader', {}).get('metricHeaderEntries', [])]\n",
    "        final_rows = []\n",
    "\n",
    "        for row in report.get('data', {}).get('rows', []):\n",
    "            dimensions = row.get('dimensions', [])\n",
    "            metrics = row.get('metrics', [])[0].get('values', {})\n",
    "            row_object = {}\n",
    "\n",
    "            for header, dimension in zip(dimension_headers, dimensions):\n",
    "                row_object[header] = dimension\n",
    "\n",
    "            for metricHeader, metric in zip(metric_headers, metrics):\n",
    "                row_object[metricHeader] = metric\n",
    "\n",
    "            final_rows.append(row_object)\n",
    "\n",
    "    data_frame_format = pd.DataFrame(final_rows)\n",
    "    return data_frame_format"
   ],
   "metadata": {
    "collapsed": false,
    "pycharm": {
     "name": "#%%\n",
     "is_executing": false
    }
   }
  },
  {
   "cell_type": "code",
   "execution_count": null,
   "outputs": [],
   "source": [
    "# parse JSON response from API and print\n",
    "# todo: change to pandas df\n",
    "def print_response(response):\n",
    "  \"\"\"Parses and prints the Analytics Reporting API V4 response.\n",
    "\n",
    "  Args:\n",
    "    response: An Analytics Reporting API V4 response.\n",
    "  \"\"\"\n",
    "  for report in response.get('reports', []):\n",
    "    column_header = report.get('columnHeader', {})\n",
    "    dimension_headers = column_header.get('dimensions', [])\n",
    "    metric_headers = column_header.get('metricHeader', {}).get('metricHeaderEntries', [])\n",
    "\n",
    "    for row in report.get('data', {}).get('rows', []):\n",
    "      dimensions = row.get('dimensions', [])\n",
    "      date_range_values = row.get('metrics', [])\n",
    "\n",
    "      for header, dimension in zip(dimension_headers, dimensions):\n",
    "        print(header + ': ' + dimension)\n",
    "\n",
    "      for i, values in enumerate(date_range_values):\n",
    "        print('Date range: ' + str(i))\n",
    "        for metricHeader, value in zip(metric_headers, values.get('values')):\n",
    "          print(metricHeader.get('name') + ': ' + value)"
   ],
   "metadata": {
    "collapsed": false,
    "pycharm": {
     "name": "#%%\n"
    }
   }
  },
  {
   "cell_type": "code",
   "execution_count": 13,
   "outputs": [
    {
     "name": "stdout",
     "text": [
      "                                        ga:source   ga:medium ga:users  \\\n0                                        (direct)      (none)    13605   \n1                      10-Cycling-Myths-Uncovered      Social        7   \n2      10-Things-cyclists-wish-drivers-understood  newsletter        1   \n3    10-ways-to-encourage-people-to-cycle-to-work      social        1   \n4                               10.100.1.66:15871    referral        1   \n..                                            ...         ...      ...   \n995                         www-csuk.grgcloud.net    referral        2   \n996      www-cyclingweekly-com.cdn.ampproject.org    referral       13   \n997        www-telegraph-co-uk.cdn.ampproject.org    referral        2   \n998                              www1.emarsys.net    referral        8   \n999                               www2.worc.ac.uk    referral        1   \n\n    ga:sessions  \n0         19818  \n1             7  \n2             1  \n3             1  \n4             1  \n..          ...  \n995           5  \n996          19  \n997           2  \n998           9  \n999           1  \n\n[1000 rows x 4 columns]\n"
     ],
     "output_type": "stream"
    }
   ],
   "source": [
    "# run gatherer and print/df parse\n",
    "def main():\n",
    "  analytics = initialize_analytics_reporting()\n",
    "  response = get_report(analytics)\n",
    "  df = convert_to_dataframe(response)\n",
    "  print(df)\n",
    "\n",
    "if __name__ == '__main__':\n",
    "  main()\n"
   ],
   "metadata": {
    "collapsed": false,
    "pycharm": {
     "name": "#%%\n",
     "is_executing": false
    }
   }
  },
  {
   "cell_type": "markdown",
   "source": [
    "# Exploratory Data Analysis\n"
   ],
   "metadata": {
    "collapsed": false
   }
  },
  {
   "cell_type": "markdown",
   "source": [
    "# Feature Relevance\n"
   ],
   "metadata": {
    "collapsed": false
   }
  },
  {
   "cell_type": "markdown",
   "source": [
    "# Feature Engineering\n"
   ],
   "metadata": {
    "collapsed": false
   }
  },
  {
   "cell_type": "markdown",
   "source": [
    "# Modelling\n"
   ],
   "metadata": {
    "collapsed": false
   }
  },
  {
   "cell_type": "markdown",
   "source": [
    "## Training\n"
   ],
   "metadata": {
    "collapsed": false
   }
  },
  {
   "cell_type": "markdown",
   "source": [
    "## Evaluation\n"
   ],
   "metadata": {
    "collapsed": false
   }
  },
  {
   "cell_type": "markdown",
   "source": [
    "## Prediction\n"
   ],
   "metadata": {
    "collapsed": false
   }
  },
  {
   "cell_type": "markdown",
   "source": [
    "# Conclusion"
   ],
   "metadata": {
    "collapsed": false
   }
  }
 ],
 "metadata": {
  "language_info": {
   "codemirror_mode": {
    "name": "ipython",
    "version": 2
   },
   "file_extension": ".py",
   "mimetype": "text/x-python",
   "name": "python",
   "nbconvert_exporter": "python",
   "pygments_lexer": "ipython2",
   "version": "2.7.6"
  },
  "kernelspec": {
   "name": "python3",
   "language": "python",
   "display_name": "Python 3"
  },
  "pycharm": {
   "stem_cell": {
    "cell_type": "raw",
    "source": [],
    "metadata": {
     "collapsed": false
    }
   }
  }
 },
 "nbformat": 4,
 "nbformat_minor": 0
}