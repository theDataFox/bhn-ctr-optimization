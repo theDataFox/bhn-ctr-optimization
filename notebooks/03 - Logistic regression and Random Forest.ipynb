{
 "cells": [
  {
   "cell_type": "markdown",
   "metadata": {},
   "source": [
    "# Feature Engineering and Logistic Regression"
   ]
  },
  {
   "cell_type": "markdown",
   "metadata": {},
   "source": [
    "# Introduction"
   ]
  },
  {
   "cell_type": "markdown",
   "metadata": {},
   "source": [
    "Here I will create feature variables for use with the logistic regression model to create a baseline performance for predicting CTR on Google AdWords data."
   ]
  },
  {
   "cell_type": "markdown",
   "metadata": {},
   "source": [
    "# Load Processed Data"
   ]
  },
  {
   "cell_type": "code",
   "execution_count": 1,
   "metadata": {
    "pycharm": {
     "is_executing": false
    }
   },
   "outputs": [],
   "source": [
    "import numpy as np\n",
    "import matplotlib.pyplot as plt\n",
    "from sklearn.preprocessing import OrdinalEncoder, StandardScaler\n",
    "from sklearn.linear_model import LogisticRegression\n",
    "from sklearn.metrics import accuracy_score, f1_score, precision_score, recall_score\n",
    "from sklearn.model_selection import train_test_split\n",
    "%matplotlib inline"
   ]
  },
  {
   "cell_type": "code",
   "execution_count": 2,
   "metadata": {
    "pycharm": {
     "is_executing": false
    }
   },
   "outputs": [],
   "source": [
    "import pandas as pd\n",
    "train_data = pd.read_csv('../data/raw/train_data_no_text.csv', \n",
    "                        parse_dates=['Date'])"
   ]
  },
  {
   "cell_type": "code",
   "execution_count": 3,
   "metadata": {
    "pycharm": {
     "is_executing": false
    }
   },
   "outputs": [
    {
     "data": {
      "text/html": [
       "<div>\n",
       "<style scoped>\n",
       "    .dataframe tbody tr th:only-of-type {\n",
       "        vertical-align: middle;\n",
       "    }\n",
       "\n",
       "    .dataframe tbody tr th {\n",
       "        vertical-align: top;\n",
       "    }\n",
       "\n",
       "    .dataframe thead th {\n",
       "        text-align: right;\n",
       "    }\n",
       "</style>\n",
       "<table border=\"1\" class=\"dataframe\">\n",
       "  <thead>\n",
       "    <tr style=\"text-align: right;\">\n",
       "      <th></th>\n",
       "      <th>Unnamed: 0</th>\n",
       "      <th>Ad ID</th>\n",
       "      <th>Ad group ID</th>\n",
       "      <th>Campaign ID</th>\n",
       "      <th>Keyword ID</th>\n",
       "      <th>Search term match type</th>\n",
       "      <th>Date</th>\n",
       "      <th>Day of week</th>\n",
       "      <th>Device</th>\n",
       "      <th>Quality score</th>\n",
       "      <th>...</th>\n",
       "      <th>Landing page experience</th>\n",
       "      <th>Avg. position</th>\n",
       "      <th>Impressions</th>\n",
       "      <th>Clicks</th>\n",
       "      <th>Cost</th>\n",
       "      <th>Conversions</th>\n",
       "      <th>click_target</th>\n",
       "      <th>ctr</th>\n",
       "      <th>Month</th>\n",
       "      <th>Day of Month</th>\n",
       "    </tr>\n",
       "  </thead>\n",
       "  <tbody>\n",
       "    <tr>\n",
       "      <th>0</th>\n",
       "      <td>0</td>\n",
       "      <td>240574173525</td>\n",
       "      <td>46423626238</td>\n",
       "      <td>908117249</td>\n",
       "      <td>296868692064</td>\n",
       "      <td>Broad</td>\n",
       "      <td>2018-03-26</td>\n",
       "      <td>Monday</td>\n",
       "      <td>Mobile</td>\n",
       "      <td>--</td>\n",
       "      <td>...</td>\n",
       "      <td>--</td>\n",
       "      <td>2.0</td>\n",
       "      <td>1</td>\n",
       "      <td>0</td>\n",
       "      <td>0.00</td>\n",
       "      <td>0.0</td>\n",
       "      <td>0</td>\n",
       "      <td>0.0</td>\n",
       "      <td>3</td>\n",
       "      <td>26</td>\n",
       "    </tr>\n",
       "    <tr>\n",
       "      <th>1</th>\n",
       "      <td>1</td>\n",
       "      <td>217160772198</td>\n",
       "      <td>47045144564</td>\n",
       "      <td>908117249</td>\n",
       "      <td>347502862051</td>\n",
       "      <td>Exact</td>\n",
       "      <td>2017-09-01</td>\n",
       "      <td>Friday</td>\n",
       "      <td>Mobile</td>\n",
       "      <td>--</td>\n",
       "      <td>...</td>\n",
       "      <td>--</td>\n",
       "      <td>2.0</td>\n",
       "      <td>1</td>\n",
       "      <td>0</td>\n",
       "      <td>0.00</td>\n",
       "      <td>0.0</td>\n",
       "      <td>0</td>\n",
       "      <td>0.0</td>\n",
       "      <td>9</td>\n",
       "      <td>1</td>\n",
       "    </tr>\n",
       "    <tr>\n",
       "      <th>2</th>\n",
       "      <td>2</td>\n",
       "      <td>240574173525</td>\n",
       "      <td>46423626238</td>\n",
       "      <td>908117249</td>\n",
       "      <td>296868692064</td>\n",
       "      <td>Phrase</td>\n",
       "      <td>2018-04-30</td>\n",
       "      <td>Monday</td>\n",
       "      <td>Mobile</td>\n",
       "      <td>--</td>\n",
       "      <td>...</td>\n",
       "      <td>--</td>\n",
       "      <td>3.0</td>\n",
       "      <td>1</td>\n",
       "      <td>0</td>\n",
       "      <td>0.00</td>\n",
       "      <td>0.0</td>\n",
       "      <td>0</td>\n",
       "      <td>0.0</td>\n",
       "      <td>4</td>\n",
       "      <td>30</td>\n",
       "    </tr>\n",
       "    <tr>\n",
       "      <th>3</th>\n",
       "      <td>3</td>\n",
       "      <td>357859796080</td>\n",
       "      <td>53253585965</td>\n",
       "      <td>1376132377</td>\n",
       "      <td>442183914904</td>\n",
       "      <td>Exact</td>\n",
       "      <td>2019-07-05</td>\n",
       "      <td>Friday</td>\n",
       "      <td>Mobile</td>\n",
       "      <td>9</td>\n",
       "      <td>...</td>\n",
       "      <td>Above average</td>\n",
       "      <td>1.0</td>\n",
       "      <td>1</td>\n",
       "      <td>1</td>\n",
       "      <td>0.38</td>\n",
       "      <td>0.5</td>\n",
       "      <td>1</td>\n",
       "      <td>1.0</td>\n",
       "      <td>7</td>\n",
       "      <td>5</td>\n",
       "    </tr>\n",
       "    <tr>\n",
       "      <th>4</th>\n",
       "      <td>4</td>\n",
       "      <td>314179203506</td>\n",
       "      <td>53253584085</td>\n",
       "      <td>1376048789</td>\n",
       "      <td>354206717502</td>\n",
       "      <td>Exact</td>\n",
       "      <td>2019-07-06</td>\n",
       "      <td>Saturday</td>\n",
       "      <td>Desktop</td>\n",
       "      <td>9</td>\n",
       "      <td>...</td>\n",
       "      <td>Above average</td>\n",
       "      <td>1.0</td>\n",
       "      <td>1</td>\n",
       "      <td>1</td>\n",
       "      <td>0.27</td>\n",
       "      <td>0.0</td>\n",
       "      <td>1</td>\n",
       "      <td>1.0</td>\n",
       "      <td>7</td>\n",
       "      <td>6</td>\n",
       "    </tr>\n",
       "  </tbody>\n",
       "</table>\n",
       "<p>5 rows × 25 columns</p>\n",
       "</div>"
      ],
      "text/plain": [
       "   Unnamed: 0         Ad ID  Ad group ID  Campaign ID    Keyword ID  \\\n",
       "0           0  240574173525  46423626238    908117249  296868692064   \n",
       "1           1  217160772198  47045144564    908117249  347502862051   \n",
       "2           2  240574173525  46423626238    908117249  296868692064   \n",
       "3           3  357859796080  53253585965   1376132377  442183914904   \n",
       "4           4  314179203506  53253584085   1376048789  354206717502   \n",
       "\n",
       "  Search term match type       Date Day of week   Device Quality score  ...  \\\n",
       "0                  Broad 2018-03-26      Monday   Mobile            --  ...   \n",
       "1                  Exact 2017-09-01      Friday   Mobile            --  ...   \n",
       "2                 Phrase 2018-04-30      Monday   Mobile            --  ...   \n",
       "3                  Exact 2019-07-05      Friday   Mobile             9  ...   \n",
       "4                  Exact 2019-07-06    Saturday  Desktop             9  ...   \n",
       "\n",
       "  Landing page experience Avg. position  Impressions  Clicks  Cost  \\\n",
       "0                      --           2.0            1       0  0.00   \n",
       "1                      --           2.0            1       0  0.00   \n",
       "2                      --           3.0            1       0  0.00   \n",
       "3           Above average           1.0            1       1  0.38   \n",
       "4           Above average           1.0            1       1  0.27   \n",
       "\n",
       "  Conversions  click_target  ctr  Month  Day of Month  \n",
       "0         0.0             0  0.0      3            26  \n",
       "1         0.0             0  0.0      9             1  \n",
       "2         0.0             0  0.0      4            30  \n",
       "3         0.5             1  1.0      7             5  \n",
       "4         0.0             1  1.0      7             6  \n",
       "\n",
       "[5 rows x 25 columns]"
      ]
     },
     "execution_count": 3,
     "metadata": {},
     "output_type": "execute_result"
    }
   ],
   "source": [
    "train_data.head()"
   ]
  },
  {
   "cell_type": "code",
   "execution_count": 4,
   "metadata": {
    "pycharm": {
     "is_executing": false
    }
   },
   "outputs": [
    {
     "data": {
      "text/plain": [
       "Index(['Unnamed: 0', 'Ad ID', 'Ad group ID', 'Campaign ID', 'Keyword ID',\n",
       "       'Search term match type', 'Date', 'Day of week', 'Device',\n",
       "       'Quality score', 'Expected clickthrough rate', 'Ad relevance',\n",
       "       'Keyword max CPC', 'First position CPC', 'Top of page CPC',\n",
       "       'Landing page experience', 'Avg. position', 'Impressions', 'Clicks',\n",
       "       'Cost', 'Conversions', 'click_target', 'ctr', 'Month', 'Day of Month'],\n",
       "      dtype='object')"
      ]
     },
     "execution_count": 4,
     "metadata": {},
     "output_type": "execute_result"
    }
   ],
   "source": [
    "train_data.columns"
   ]
  },
  {
   "cell_type": "code",
   "execution_count": 5,
   "metadata": {
    "pycharm": {
     "is_executing": false
    }
   },
   "outputs": [],
   "source": [
    "# for drop text based features\n",
    "train_data.drop(columns=['Unnamed: 0', 'Ad group ID', 'Conversions'], inplace=True)"
   ]
  },
  {
   "cell_type": "code",
   "execution_count": 6,
   "metadata": {
    "pycharm": {
     "is_executing": false
    }
   },
   "outputs": [
    {
     "data": {
      "text/html": [
       "<div>\n",
       "<style scoped>\n",
       "    .dataframe tbody tr th:only-of-type {\n",
       "        vertical-align: middle;\n",
       "    }\n",
       "\n",
       "    .dataframe tbody tr th {\n",
       "        vertical-align: top;\n",
       "    }\n",
       "\n",
       "    .dataframe thead th {\n",
       "        text-align: right;\n",
       "    }\n",
       "</style>\n",
       "<table border=\"1\" class=\"dataframe\">\n",
       "  <thead>\n",
       "    <tr style=\"text-align: right;\">\n",
       "      <th></th>\n",
       "      <th>Ad ID</th>\n",
       "      <th>Campaign ID</th>\n",
       "      <th>Keyword ID</th>\n",
       "      <th>Search term match type</th>\n",
       "      <th>Date</th>\n",
       "      <th>Day of week</th>\n",
       "      <th>Device</th>\n",
       "      <th>Quality score</th>\n",
       "      <th>Expected clickthrough rate</th>\n",
       "      <th>Ad relevance</th>\n",
       "      <th>...</th>\n",
       "      <th>Top of page CPC</th>\n",
       "      <th>Landing page experience</th>\n",
       "      <th>Avg. position</th>\n",
       "      <th>Impressions</th>\n",
       "      <th>Clicks</th>\n",
       "      <th>Cost</th>\n",
       "      <th>click_target</th>\n",
       "      <th>ctr</th>\n",
       "      <th>Month</th>\n",
       "      <th>Day of Month</th>\n",
       "    </tr>\n",
       "  </thead>\n",
       "  <tbody>\n",
       "    <tr>\n",
       "      <th>0</th>\n",
       "      <td>240574173525</td>\n",
       "      <td>908117249</td>\n",
       "      <td>296868692064</td>\n",
       "      <td>Broad</td>\n",
       "      <td>2018-03-26</td>\n",
       "      <td>Monday</td>\n",
       "      <td>Mobile</td>\n",
       "      <td>--</td>\n",
       "      <td>--</td>\n",
       "      <td>--</td>\n",
       "      <td>...</td>\n",
       "      <td>0.80</td>\n",
       "      <td>--</td>\n",
       "      <td>2.0</td>\n",
       "      <td>1</td>\n",
       "      <td>0</td>\n",
       "      <td>0.00</td>\n",
       "      <td>0</td>\n",
       "      <td>0.0</td>\n",
       "      <td>3</td>\n",
       "      <td>26</td>\n",
       "    </tr>\n",
       "    <tr>\n",
       "      <th>1</th>\n",
       "      <td>217160772198</td>\n",
       "      <td>908117249</td>\n",
       "      <td>347502862051</td>\n",
       "      <td>Exact</td>\n",
       "      <td>2017-09-01</td>\n",
       "      <td>Friday</td>\n",
       "      <td>Mobile</td>\n",
       "      <td>--</td>\n",
       "      <td>--</td>\n",
       "      <td>--</td>\n",
       "      <td>...</td>\n",
       "      <td>0.35</td>\n",
       "      <td>--</td>\n",
       "      <td>2.0</td>\n",
       "      <td>1</td>\n",
       "      <td>0</td>\n",
       "      <td>0.00</td>\n",
       "      <td>0</td>\n",
       "      <td>0.0</td>\n",
       "      <td>9</td>\n",
       "      <td>1</td>\n",
       "    </tr>\n",
       "    <tr>\n",
       "      <th>2</th>\n",
       "      <td>240574173525</td>\n",
       "      <td>908117249</td>\n",
       "      <td>296868692064</td>\n",
       "      <td>Phrase</td>\n",
       "      <td>2018-04-30</td>\n",
       "      <td>Monday</td>\n",
       "      <td>Mobile</td>\n",
       "      <td>--</td>\n",
       "      <td>--</td>\n",
       "      <td>--</td>\n",
       "      <td>...</td>\n",
       "      <td>0.80</td>\n",
       "      <td>--</td>\n",
       "      <td>3.0</td>\n",
       "      <td>1</td>\n",
       "      <td>0</td>\n",
       "      <td>0.00</td>\n",
       "      <td>0</td>\n",
       "      <td>0.0</td>\n",
       "      <td>4</td>\n",
       "      <td>30</td>\n",
       "    </tr>\n",
       "    <tr>\n",
       "      <th>3</th>\n",
       "      <td>357859796080</td>\n",
       "      <td>1376132377</td>\n",
       "      <td>442183914904</td>\n",
       "      <td>Exact</td>\n",
       "      <td>2019-07-05</td>\n",
       "      <td>Friday</td>\n",
       "      <td>Mobile</td>\n",
       "      <td>9</td>\n",
       "      <td>Above average</td>\n",
       "      <td>Average</td>\n",
       "      <td>...</td>\n",
       "      <td>0.14</td>\n",
       "      <td>Above average</td>\n",
       "      <td>1.0</td>\n",
       "      <td>1</td>\n",
       "      <td>1</td>\n",
       "      <td>0.38</td>\n",
       "      <td>1</td>\n",
       "      <td>1.0</td>\n",
       "      <td>7</td>\n",
       "      <td>5</td>\n",
       "    </tr>\n",
       "    <tr>\n",
       "      <th>4</th>\n",
       "      <td>314179203506</td>\n",
       "      <td>1376048789</td>\n",
       "      <td>354206717502</td>\n",
       "      <td>Exact</td>\n",
       "      <td>2019-07-06</td>\n",
       "      <td>Saturday</td>\n",
       "      <td>Desktop</td>\n",
       "      <td>9</td>\n",
       "      <td>Above average</td>\n",
       "      <td>Average</td>\n",
       "      <td>...</td>\n",
       "      <td>0.12</td>\n",
       "      <td>Above average</td>\n",
       "      <td>1.0</td>\n",
       "      <td>1</td>\n",
       "      <td>1</td>\n",
       "      <td>0.27</td>\n",
       "      <td>1</td>\n",
       "      <td>1.0</td>\n",
       "      <td>7</td>\n",
       "      <td>6</td>\n",
       "    </tr>\n",
       "  </tbody>\n",
       "</table>\n",
       "<p>5 rows × 22 columns</p>\n",
       "</div>"
      ],
      "text/plain": [
       "          Ad ID  Campaign ID    Keyword ID Search term match type       Date  \\\n",
       "0  240574173525    908117249  296868692064                  Broad 2018-03-26   \n",
       "1  217160772198    908117249  347502862051                  Exact 2017-09-01   \n",
       "2  240574173525    908117249  296868692064                 Phrase 2018-04-30   \n",
       "3  357859796080   1376132377  442183914904                  Exact 2019-07-05   \n",
       "4  314179203506   1376048789  354206717502                  Exact 2019-07-06   \n",
       "\n",
       "  Day of week   Device Quality score Expected clickthrough rate Ad relevance  \\\n",
       "0      Monday   Mobile            --                         --           --   \n",
       "1      Friday   Mobile            --                         --           --   \n",
       "2      Monday   Mobile            --                         --           --   \n",
       "3      Friday   Mobile             9              Above average      Average   \n",
       "4    Saturday  Desktop             9              Above average      Average   \n",
       "\n",
       "   ...  Top of page CPC  Landing page experience  Avg. position Impressions  \\\n",
       "0  ...             0.80                       --            2.0           1   \n",
       "1  ...             0.35                       --            2.0           1   \n",
       "2  ...             0.80                       --            3.0           1   \n",
       "3  ...             0.14            Above average            1.0           1   \n",
       "4  ...             0.12            Above average            1.0           1   \n",
       "\n",
       "   Clicks  Cost  click_target  ctr  Month  Day of Month  \n",
       "0       0  0.00             0  0.0      3            26  \n",
       "1       0  0.00             0  0.0      9             1  \n",
       "2       0  0.00             0  0.0      4            30  \n",
       "3       1  0.38             1  1.0      7             5  \n",
       "4       1  0.27             1  1.0      7             6  \n",
       "\n",
       "[5 rows x 22 columns]"
      ]
     },
     "execution_count": 6,
     "metadata": {},
     "output_type": "execute_result"
    }
   ],
   "source": [
    "train_data.head()"
   ]
  },
  {
   "cell_type": "code",
   "execution_count": 7,
   "metadata": {
    "pycharm": {
     "is_executing": false
    }
   },
   "outputs": [
    {
     "data": {
      "text/plain": [
       "<matplotlib.axes._subplots.AxesSubplot at 0x21034bfb208>"
      ]
     },
     "execution_count": 7,
     "metadata": {},
     "output_type": "execute_result"
    },
    {
     "data": {
      "image/png": "[encoded data removed]",
      "text/plain": [
       "<Figure size 432x288 with 1 Axes>"
      ]
     },
     "metadata": {
      "needs_background": "light"
     },
     "output_type": "display_data"
    }
   ],
   "source": [
    "# a quick glance at class balance\n",
    "train_data.groupby('click_target').size().plot(kind = 'bar')"
   ]
  },
  {
   "cell_type": "markdown",
   "metadata": {},
   "source": [
    "There is class imbalance this will ned to tbe fixed before modelling"
   ]
  },
  {
   "cell_type": "markdown",
   "metadata": {},
   "source": [
    "# Pre-Processing"
   ]
  },
  {
   "cell_type": "code",
   "execution_count": 8,
   "metadata": {
    "pycharm": {
     "is_executing": false
    }
   },
   "outputs": [
    {
     "name": "stdout",
     "output_type": "stream",
     "text": [
      "0\n"
     ]
    }
   ],
   "source": [
    "# check for any NaN\n",
    "print(train_data.isna().values.sum())"
   ]
  },
  {
   "cell_type": "markdown",
   "metadata": {},
   "source": [
    "## Create new features from time\n"
   ]
  },
  {
   "cell_type": "code",
   "execution_count": 9,
   "metadata": {
    "pycharm": {
     "is_executing": false
    }
   },
   "outputs": [],
   "source": [
    "train_data['Day of Year'] = train_data['Date'].dt.dayofyear\n",
    "train_data['Week of Year'] = train_data['Date'].dt.week\n",
    "train_data['Day of Week'] = train_data['Date'].dt.dayofweek\n",
    "# drop redundant string version of day\n",
    "train_data.drop(columns='Day of week', inplace=True)"
   ]
  },
  {
   "cell_type": "markdown",
   "metadata": {},
   "source": [
    "### Remove all NaN "
   ]
  },
  {
   "cell_type": "code",
   "execution_count": 10,
   "metadata": {
    "pycharm": {
     "is_executing": false
    }
   },
   "outputs": [
    {
     "data": {
      "text/html": [
       "<div>\n",
       "<style scoped>\n",
       "    .dataframe tbody tr th:only-of-type {\n",
       "        vertical-align: middle;\n",
       "    }\n",
       "\n",
       "    .dataframe tbody tr th {\n",
       "        vertical-align: top;\n",
       "    }\n",
       "\n",
       "    .dataframe thead th {\n",
       "        text-align: right;\n",
       "    }\n",
       "</style>\n",
       "<table border=\"1\" class=\"dataframe\">\n",
       "  <thead>\n",
       "    <tr style=\"text-align: right;\">\n",
       "      <th></th>\n",
       "      <th>Ad ID</th>\n",
       "      <th>Campaign ID</th>\n",
       "      <th>Keyword ID</th>\n",
       "      <th>Search term match type</th>\n",
       "      <th>Date</th>\n",
       "      <th>Device</th>\n",
       "      <th>Quality score</th>\n",
       "      <th>Expected clickthrough rate</th>\n",
       "      <th>Ad relevance</th>\n",
       "      <th>Keyword max CPC</th>\n",
       "      <th>...</th>\n",
       "      <th>Impressions</th>\n",
       "      <th>Clicks</th>\n",
       "      <th>Cost</th>\n",
       "      <th>click_target</th>\n",
       "      <th>ctr</th>\n",
       "      <th>Month</th>\n",
       "      <th>Day of Month</th>\n",
       "      <th>Day of Year</th>\n",
       "      <th>Week of Year</th>\n",
       "      <th>Day of Week</th>\n",
       "    </tr>\n",
       "  </thead>\n",
       "  <tbody>\n",
       "    <tr>\n",
       "      <th>0</th>\n",
       "      <td>240574173525</td>\n",
       "      <td>908117249</td>\n",
       "      <td>296868692064</td>\n",
       "      <td>Broad</td>\n",
       "      <td>2018-03-26</td>\n",
       "      <td>Mobile</td>\n",
       "      <td>--</td>\n",
       "      <td>--</td>\n",
       "      <td>--</td>\n",
       "      <td>0.80</td>\n",
       "      <td>...</td>\n",
       "      <td>1</td>\n",
       "      <td>0</td>\n",
       "      <td>0.00</td>\n",
       "      <td>0</td>\n",
       "      <td>0.0</td>\n",
       "      <td>3</td>\n",
       "      <td>26</td>\n",
       "      <td>85</td>\n",
       "      <td>13</td>\n",
       "      <td>0</td>\n",
       "    </tr>\n",
       "    <tr>\n",
       "      <th>1</th>\n",
       "      <td>217160772198</td>\n",
       "      <td>908117249</td>\n",
       "      <td>347502862051</td>\n",
       "      <td>Exact</td>\n",
       "      <td>2017-09-01</td>\n",
       "      <td>Mobile</td>\n",
       "      <td>--</td>\n",
       "      <td>--</td>\n",
       "      <td>--</td>\n",
       "      <td>0.80</td>\n",
       "      <td>...</td>\n",
       "      <td>1</td>\n",
       "      <td>0</td>\n",
       "      <td>0.00</td>\n",
       "      <td>0</td>\n",
       "      <td>0.0</td>\n",
       "      <td>9</td>\n",
       "      <td>1</td>\n",
       "      <td>244</td>\n",
       "      <td>35</td>\n",
       "      <td>4</td>\n",
       "    </tr>\n",
       "    <tr>\n",
       "      <th>2</th>\n",
       "      <td>240574173525</td>\n",
       "      <td>908117249</td>\n",
       "      <td>296868692064</td>\n",
       "      <td>Phrase</td>\n",
       "      <td>2018-04-30</td>\n",
       "      <td>Mobile</td>\n",
       "      <td>--</td>\n",
       "      <td>--</td>\n",
       "      <td>--</td>\n",
       "      <td>0.80</td>\n",
       "      <td>...</td>\n",
       "      <td>1</td>\n",
       "      <td>0</td>\n",
       "      <td>0.00</td>\n",
       "      <td>0</td>\n",
       "      <td>0.0</td>\n",
       "      <td>4</td>\n",
       "      <td>30</td>\n",
       "      <td>120</td>\n",
       "      <td>18</td>\n",
       "      <td>0</td>\n",
       "    </tr>\n",
       "    <tr>\n",
       "      <th>3</th>\n",
       "      <td>357859796080</td>\n",
       "      <td>1376132377</td>\n",
       "      <td>442183914904</td>\n",
       "      <td>Exact</td>\n",
       "      <td>2019-07-05</td>\n",
       "      <td>Mobile</td>\n",
       "      <td>9</td>\n",
       "      <td>Above average</td>\n",
       "      <td>Average</td>\n",
       "      <td>0.51</td>\n",
       "      <td>...</td>\n",
       "      <td>1</td>\n",
       "      <td>1</td>\n",
       "      <td>0.38</td>\n",
       "      <td>1</td>\n",
       "      <td>1.0</td>\n",
       "      <td>7</td>\n",
       "      <td>5</td>\n",
       "      <td>186</td>\n",
       "      <td>27</td>\n",
       "      <td>4</td>\n",
       "    </tr>\n",
       "    <tr>\n",
       "      <th>4</th>\n",
       "      <td>314179203506</td>\n",
       "      <td>1376048789</td>\n",
       "      <td>354206717502</td>\n",
       "      <td>Exact</td>\n",
       "      <td>2019-07-06</td>\n",
       "      <td>Desktop</td>\n",
       "      <td>9</td>\n",
       "      <td>Above average</td>\n",
       "      <td>Average</td>\n",
       "      <td>0.60</td>\n",
       "      <td>...</td>\n",
       "      <td>1</td>\n",
       "      <td>1</td>\n",
       "      <td>0.27</td>\n",
       "      <td>1</td>\n",
       "      <td>1.0</td>\n",
       "      <td>7</td>\n",
       "      <td>6</td>\n",
       "      <td>187</td>\n",
       "      <td>27</td>\n",
       "      <td>5</td>\n",
       "    </tr>\n",
       "  </tbody>\n",
       "</table>\n",
       "<p>5 rows × 24 columns</p>\n",
       "</div>"
      ],
      "text/plain": [
       "          Ad ID  Campaign ID    Keyword ID Search term match type       Date  \\\n",
       "0  240574173525    908117249  296868692064                  Broad 2018-03-26   \n",
       "1  217160772198    908117249  347502862051                  Exact 2017-09-01   \n",
       "2  240574173525    908117249  296868692064                 Phrase 2018-04-30   \n",
       "3  357859796080   1376132377  442183914904                  Exact 2019-07-05   \n",
       "4  314179203506   1376048789  354206717502                  Exact 2019-07-06   \n",
       "\n",
       "    Device Quality score Expected clickthrough rate Ad relevance  \\\n",
       "0   Mobile            --                         --           --   \n",
       "1   Mobile            --                         --           --   \n",
       "2   Mobile            --                         --           --   \n",
       "3   Mobile             9              Above average      Average   \n",
       "4  Desktop             9              Above average      Average   \n",
       "\n",
       "   Keyword max CPC  ...  Impressions  Clicks  Cost  click_target  ctr  Month  \\\n",
       "0             0.80  ...            1       0  0.00             0  0.0      3   \n",
       "1             0.80  ...            1       0  0.00             0  0.0      9   \n",
       "2             0.80  ...            1       0  0.00             0  0.0      4   \n",
       "3             0.51  ...            1       1  0.38             1  1.0      7   \n",
       "4             0.60  ...            1       1  0.27             1  1.0      7   \n",
       "\n",
       "   Day of Month  Day of Year  Week of Year  Day of Week  \n",
       "0            26           85            13            0  \n",
       "1             1          244            35            4  \n",
       "2            30          120            18            0  \n",
       "3             5          186            27            4  \n",
       "4             6          187            27            5  \n",
       "\n",
       "[5 rows x 24 columns]"
      ]
     },
     "execution_count": 10,
     "metadata": {},
     "output_type": "execute_result"
    }
   ],
   "source": [
    "# take one value for sense checking\n",
    "train_data.head()"
   ]
  },
  {
   "cell_type": "markdown",
   "metadata": {},
   "source": [
    "### Replace '--' in AdWords Data with NaN"
   ]
  },
  {
   "cell_type": "code",
   "execution_count": 11,
   "metadata": {
    "pycharm": {
     "is_executing": false
    }
   },
   "outputs": [],
   "source": [
    "# replace '--' with NaN\n",
    "train_data = train_data.replace({'--': np.nan}, regex=True)"
   ]
  },
  {
   "cell_type": "code",
   "execution_count": 12,
   "metadata": {
    "pycharm": {
     "is_executing": false
    }
   },
   "outputs": [],
   "source": [
    "# remove all entries with NaN\n",
    "train_data = train_data.dropna()"
   ]
  },
  {
   "cell_type": "code",
   "execution_count": 13,
   "metadata": {
    "pycharm": {
     "is_executing": false
    }
   },
   "outputs": [
    {
     "name": "stdout",
     "output_type": "stream",
     "text": [
      "0\n"
     ]
    }
   ],
   "source": [
    "# check for any NaN\n",
    "print(train_data.isna().values.sum())"
   ]
  },
  {
   "cell_type": "code",
   "execution_count": 14,
   "metadata": {
    "pycharm": {
     "is_executing": false
    }
   },
   "outputs": [
    {
     "data": {
      "text/html": [
       "<div>\n",
       "<style scoped>\n",
       "    .dataframe tbody tr th:only-of-type {\n",
       "        vertical-align: middle;\n",
       "    }\n",
       "\n",
       "    .dataframe tbody tr th {\n",
       "        vertical-align: top;\n",
       "    }\n",
       "\n",
       "    .dataframe thead th {\n",
       "        text-align: right;\n",
       "    }\n",
       "</style>\n",
       "<table border=\"1\" class=\"dataframe\">\n",
       "  <thead>\n",
       "    <tr style=\"text-align: right;\">\n",
       "      <th></th>\n",
       "      <th>Ad ID</th>\n",
       "      <th>Campaign ID</th>\n",
       "      <th>Keyword ID</th>\n",
       "      <th>Search term match type</th>\n",
       "      <th>Date</th>\n",
       "      <th>Device</th>\n",
       "      <th>Quality score</th>\n",
       "      <th>Expected clickthrough rate</th>\n",
       "      <th>Ad relevance</th>\n",
       "      <th>Keyword max CPC</th>\n",
       "      <th>...</th>\n",
       "      <th>Impressions</th>\n",
       "      <th>Clicks</th>\n",
       "      <th>Cost</th>\n",
       "      <th>click_target</th>\n",
       "      <th>ctr</th>\n",
       "      <th>Month</th>\n",
       "      <th>Day of Month</th>\n",
       "      <th>Day of Year</th>\n",
       "      <th>Week of Year</th>\n",
       "      <th>Day of Week</th>\n",
       "    </tr>\n",
       "  </thead>\n",
       "  <tbody>\n",
       "    <tr>\n",
       "      <th>3</th>\n",
       "      <td>357859796080</td>\n",
       "      <td>1376132377</td>\n",
       "      <td>442183914904</td>\n",
       "      <td>Exact</td>\n",
       "      <td>2019-07-05</td>\n",
       "      <td>Mobile</td>\n",
       "      <td>9</td>\n",
       "      <td>Above average</td>\n",
       "      <td>Average</td>\n",
       "      <td>0.51</td>\n",
       "      <td>...</td>\n",
       "      <td>1</td>\n",
       "      <td>1</td>\n",
       "      <td>0.38</td>\n",
       "      <td>1</td>\n",
       "      <td>1.000000</td>\n",
       "      <td>7</td>\n",
       "      <td>5</td>\n",
       "      <td>186</td>\n",
       "      <td>27</td>\n",
       "      <td>4</td>\n",
       "    </tr>\n",
       "    <tr>\n",
       "      <th>4</th>\n",
       "      <td>314179203506</td>\n",
       "      <td>1376048789</td>\n",
       "      <td>354206717502</td>\n",
       "      <td>Exact</td>\n",
       "      <td>2019-07-06</td>\n",
       "      <td>Desktop</td>\n",
       "      <td>9</td>\n",
       "      <td>Above average</td>\n",
       "      <td>Average</td>\n",
       "      <td>0.60</td>\n",
       "      <td>...</td>\n",
       "      <td>1</td>\n",
       "      <td>1</td>\n",
       "      <td>0.27</td>\n",
       "      <td>1</td>\n",
       "      <td>1.000000</td>\n",
       "      <td>7</td>\n",
       "      <td>6</td>\n",
       "      <td>187</td>\n",
       "      <td>27</td>\n",
       "      <td>5</td>\n",
       "    </tr>\n",
       "    <tr>\n",
       "      <th>8</th>\n",
       "      <td>314179203965</td>\n",
       "      <td>1376133520</td>\n",
       "      <td>315359911820</td>\n",
       "      <td>Broad</td>\n",
       "      <td>2019-07-07</td>\n",
       "      <td>Tablet</td>\n",
       "      <td>8</td>\n",
       "      <td>Above average</td>\n",
       "      <td>Below average</td>\n",
       "      <td>0.51</td>\n",
       "      <td>...</td>\n",
       "      <td>2</td>\n",
       "      <td>0</td>\n",
       "      <td>0.00</td>\n",
       "      <td>0</td>\n",
       "      <td>0.000000</td>\n",
       "      <td>7</td>\n",
       "      <td>7</td>\n",
       "      <td>188</td>\n",
       "      <td>27</td>\n",
       "      <td>6</td>\n",
       "    </tr>\n",
       "    <tr>\n",
       "      <th>9</th>\n",
       "      <td>357859796818</td>\n",
       "      <td>1376524026</td>\n",
       "      <td>443040648236</td>\n",
       "      <td>Phrase</td>\n",
       "      <td>2019-07-17</td>\n",
       "      <td>Mobile</td>\n",
       "      <td>8</td>\n",
       "      <td>Above average</td>\n",
       "      <td>Below average</td>\n",
       "      <td>0.17</td>\n",
       "      <td>...</td>\n",
       "      <td>1</td>\n",
       "      <td>1</td>\n",
       "      <td>0.07</td>\n",
       "      <td>1</td>\n",
       "      <td>1.000000</td>\n",
       "      <td>7</td>\n",
       "      <td>17</td>\n",
       "      <td>198</td>\n",
       "      <td>29</td>\n",
       "      <td>2</td>\n",
       "    </tr>\n",
       "    <tr>\n",
       "      <th>11</th>\n",
       "      <td>314179203962</td>\n",
       "      <td>1376133520</td>\n",
       "      <td>441743760160</td>\n",
       "      <td>Broad</td>\n",
       "      <td>2019-07-17</td>\n",
       "      <td>Mobile</td>\n",
       "      <td>8</td>\n",
       "      <td>Above average</td>\n",
       "      <td>Below average</td>\n",
       "      <td>0.51</td>\n",
       "      <td>...</td>\n",
       "      <td>3</td>\n",
       "      <td>2</td>\n",
       "      <td>0.67</td>\n",
       "      <td>1</td>\n",
       "      <td>0.666667</td>\n",
       "      <td>7</td>\n",
       "      <td>17</td>\n",
       "      <td>198</td>\n",
       "      <td>29</td>\n",
       "      <td>2</td>\n",
       "    </tr>\n",
       "  </tbody>\n",
       "</table>\n",
       "<p>5 rows × 24 columns</p>\n",
       "</div>"
      ],
      "text/plain": [
       "           Ad ID  Campaign ID    Keyword ID Search term match type       Date  \\\n",
       "3   357859796080   1376132377  442183914904                  Exact 2019-07-05   \n",
       "4   314179203506   1376048789  354206717502                  Exact 2019-07-06   \n",
       "8   314179203965   1376133520  315359911820                  Broad 2019-07-07   \n",
       "9   357859796818   1376524026  443040648236                 Phrase 2019-07-17   \n",
       "11  314179203962   1376133520  441743760160                  Broad 2019-07-17   \n",
       "\n",
       "     Device Quality score Expected clickthrough rate   Ad relevance  \\\n",
       "3    Mobile             9              Above average        Average   \n",
       "4   Desktop             9              Above average        Average   \n",
       "8    Tablet             8              Above average  Below average   \n",
       "9    Mobile             8              Above average  Below average   \n",
       "11   Mobile             8              Above average  Below average   \n",
       "\n",
       "    Keyword max CPC  ...  Impressions  Clicks  Cost  click_target       ctr  \\\n",
       "3              0.51  ...            1       1  0.38             1  1.000000   \n",
       "4              0.60  ...            1       1  0.27             1  1.000000   \n",
       "8              0.51  ...            2       0  0.00             0  0.000000   \n",
       "9              0.17  ...            1       1  0.07             1  1.000000   \n",
       "11             0.51  ...            3       2  0.67             1  0.666667   \n",
       "\n",
       "    Month  Day of Month  Day of Year  Week of Year  Day of Week  \n",
       "3       7             5          186            27            4  \n",
       "4       7             6          187            27            5  \n",
       "8       7             7          188            27            6  \n",
       "9       7            17          198            29            2  \n",
       "11      7            17          198            29            2  \n",
       "\n",
       "[5 rows x 24 columns]"
      ]
     },
     "execution_count": 14,
     "metadata": {},
     "output_type": "execute_result"
    }
   ],
   "source": [
    "# take one value for sense checking\n",
    "train_data.head()"
   ]
  },
  {
   "cell_type": "markdown",
   "metadata": {},
   "source": [
    "## Create category data"
   ]
  },
  {
   "cell_type": "code",
   "execution_count": 15,
   "metadata": {
    "pycharm": {
     "is_executing": false
    }
   },
   "outputs": [],
   "source": [
    "# create category df\n",
    "cat_df = train_data.select_dtypes(include=['object']).apply(pd.Series.astype, dtype='category')"
   ]
  },
  {
   "cell_type": "code",
   "execution_count": 16,
   "metadata": {
    "pycharm": {
     "is_executing": false
    }
   },
   "outputs": [],
   "source": [
    "# remove object columns\n",
    "train_data_obj = train_data.select_dtypes(exclude=['object'])"
   ]
  },
  {
   "cell_type": "code",
   "execution_count": 17,
   "metadata": {
    "pycharm": {
     "is_executing": false
    }
   },
   "outputs": [],
   "source": [
    "# concat new cat columns\n",
    "train_data = pd.concat([train_data_obj, cat_df], axis=1)"
   ]
  },
  {
   "cell_type": "code",
   "execution_count": 18,
   "metadata": {
    "pycharm": {
     "is_executing": false
    }
   },
   "outputs": [
    {
     "name": "stdout",
     "output_type": "stream",
     "text": [
      "<class 'pandas.core.frame.DataFrame'>\n",
      "Int64Index: 118563 entries, 3 to 194263\n",
      "Data columns (total 24 columns):\n",
      "Ad ID                         118563 non-null int64\n",
      "Campaign ID                   118563 non-null int64\n",
      "Keyword ID                    118563 non-null int64\n",
      "Date                          118563 non-null datetime64[ns]\n",
      "Keyword max CPC               118563 non-null float64\n",
      "First position CPC            118563 non-null float64\n",
      "Top of page CPC               118563 non-null float64\n",
      "Avg. position                 118563 non-null float64\n",
      "Impressions                   118563 non-null int64\n",
      "Clicks                        118563 non-null int64\n",
      "Cost                          118563 non-null float64\n",
      "click_target                  118563 non-null int64\n",
      "ctr                           118563 non-null float64\n",
      "Month                         118563 non-null int64\n",
      "Day of Month                  118563 non-null int64\n",
      "Day of Year                   118563 non-null int64\n",
      "Week of Year                  118563 non-null int64\n",
      "Day of Week                   118563 non-null int64\n",
      "Search term match type        118563 non-null category\n",
      "Device                        118563 non-null category\n",
      "Quality score                 118563 non-null category\n",
      "Expected clickthrough rate    118563 non-null category\n",
      "Ad relevance                  118563 non-null category\n",
      "Landing page experience       118563 non-null category\n",
      "dtypes: category(6), datetime64[ns](1), float64(6), int64(11)\n",
      "memory usage: 17.9 MB\n"
     ]
    }
   ],
   "source": [
    "train_data.info()"
   ]
  },
  {
   "cell_type": "code",
   "execution_count": 19,
   "metadata": {},
   "outputs": [
    {
     "data": {
      "text/plain": [
       "2845512"
      ]
     },
     "execution_count": 19,
     "metadata": {},
     "output_type": "execute_result"
    }
   ],
   "source": [
    "train_data.size"
   ]
  },
  {
   "cell_type": "code",
   "execution_count": 20,
   "metadata": {},
   "outputs": [],
   "source": [
    "train_data.reset_index(inplace=True)"
   ]
  },
  {
   "cell_type": "code",
   "execution_count": 21,
   "metadata": {},
   "outputs": [],
   "source": [
    "train_data.drop(columns=['index'], inplace=True)"
   ]
  },
  {
   "cell_type": "code",
   "execution_count": 22,
   "metadata": {},
   "outputs": [
    {
     "data": {
      "text/html": [
       "<div>\n",
       "<style scoped>\n",
       "    .dataframe tbody tr th:only-of-type {\n",
       "        vertical-align: middle;\n",
       "    }\n",
       "\n",
       "    .dataframe tbody tr th {\n",
       "        vertical-align: top;\n",
       "    }\n",
       "\n",
       "    .dataframe thead th {\n",
       "        text-align: right;\n",
       "    }\n",
       "</style>\n",
       "<table border=\"1\" class=\"dataframe\">\n",
       "  <thead>\n",
       "    <tr style=\"text-align: right;\">\n",
       "      <th></th>\n",
       "      <th>Ad ID</th>\n",
       "      <th>Campaign ID</th>\n",
       "      <th>Keyword ID</th>\n",
       "      <th>Date</th>\n",
       "      <th>Keyword max CPC</th>\n",
       "      <th>First position CPC</th>\n",
       "      <th>Top of page CPC</th>\n",
       "      <th>Avg. position</th>\n",
       "      <th>Impressions</th>\n",
       "      <th>Clicks</th>\n",
       "      <th>...</th>\n",
       "      <th>Day of Month</th>\n",
       "      <th>Day of Year</th>\n",
       "      <th>Week of Year</th>\n",
       "      <th>Day of Week</th>\n",
       "      <th>Search term match type</th>\n",
       "      <th>Device</th>\n",
       "      <th>Quality score</th>\n",
       "      <th>Expected clickthrough rate</th>\n",
       "      <th>Ad relevance</th>\n",
       "      <th>Landing page experience</th>\n",
       "    </tr>\n",
       "  </thead>\n",
       "  <tbody>\n",
       "    <tr>\n",
       "      <th>0</th>\n",
       "      <td>357859796080</td>\n",
       "      <td>1376132377</td>\n",
       "      <td>442183914904</td>\n",
       "      <td>2019-07-05</td>\n",
       "      <td>0.51</td>\n",
       "      <td>0.75</td>\n",
       "      <td>0.14</td>\n",
       "      <td>1.00</td>\n",
       "      <td>1</td>\n",
       "      <td>1</td>\n",
       "      <td>...</td>\n",
       "      <td>5</td>\n",
       "      <td>186</td>\n",
       "      <td>27</td>\n",
       "      <td>4</td>\n",
       "      <td>Exact</td>\n",
       "      <td>Mobile</td>\n",
       "      <td>9</td>\n",
       "      <td>Above average</td>\n",
       "      <td>Average</td>\n",
       "      <td>Above average</td>\n",
       "    </tr>\n",
       "    <tr>\n",
       "      <th>1</th>\n",
       "      <td>314179203506</td>\n",
       "      <td>1376048789</td>\n",
       "      <td>354206717502</td>\n",
       "      <td>2019-07-06</td>\n",
       "      <td>0.60</td>\n",
       "      <td>0.12</td>\n",
       "      <td>0.12</td>\n",
       "      <td>1.00</td>\n",
       "      <td>1</td>\n",
       "      <td>1</td>\n",
       "      <td>...</td>\n",
       "      <td>6</td>\n",
       "      <td>187</td>\n",
       "      <td>27</td>\n",
       "      <td>5</td>\n",
       "      <td>Exact</td>\n",
       "      <td>Desktop</td>\n",
       "      <td>9</td>\n",
       "      <td>Above average</td>\n",
       "      <td>Average</td>\n",
       "      <td>Above average</td>\n",
       "    </tr>\n",
       "    <tr>\n",
       "      <th>2</th>\n",
       "      <td>314179203965</td>\n",
       "      <td>1376133520</td>\n",
       "      <td>315359911820</td>\n",
       "      <td>2019-07-07</td>\n",
       "      <td>0.51</td>\n",
       "      <td>0.34</td>\n",
       "      <td>0.18</td>\n",
       "      <td>1.00</td>\n",
       "      <td>2</td>\n",
       "      <td>0</td>\n",
       "      <td>...</td>\n",
       "      <td>7</td>\n",
       "      <td>188</td>\n",
       "      <td>27</td>\n",
       "      <td>6</td>\n",
       "      <td>Broad</td>\n",
       "      <td>Tablet</td>\n",
       "      <td>8</td>\n",
       "      <td>Above average</td>\n",
       "      <td>Below average</td>\n",
       "      <td>Above average</td>\n",
       "    </tr>\n",
       "    <tr>\n",
       "      <th>3</th>\n",
       "      <td>357859796818</td>\n",
       "      <td>1376524026</td>\n",
       "      <td>443040648236</td>\n",
       "      <td>2019-07-17</td>\n",
       "      <td>0.17</td>\n",
       "      <td>0.34</td>\n",
       "      <td>0.06</td>\n",
       "      <td>1.00</td>\n",
       "      <td>1</td>\n",
       "      <td>1</td>\n",
       "      <td>...</td>\n",
       "      <td>17</td>\n",
       "      <td>198</td>\n",
       "      <td>29</td>\n",
       "      <td>2</td>\n",
       "      <td>Phrase</td>\n",
       "      <td>Mobile</td>\n",
       "      <td>8</td>\n",
       "      <td>Above average</td>\n",
       "      <td>Below average</td>\n",
       "      <td>Above average</td>\n",
       "    </tr>\n",
       "    <tr>\n",
       "      <th>4</th>\n",
       "      <td>314179203962</td>\n",
       "      <td>1376133520</td>\n",
       "      <td>441743760160</td>\n",
       "      <td>2019-07-17</td>\n",
       "      <td>0.51</td>\n",
       "      <td>0.37</td>\n",
       "      <td>0.31</td>\n",
       "      <td>1.33</td>\n",
       "      <td>3</td>\n",
       "      <td>2</td>\n",
       "      <td>...</td>\n",
       "      <td>17</td>\n",
       "      <td>198</td>\n",
       "      <td>29</td>\n",
       "      <td>2</td>\n",
       "      <td>Broad</td>\n",
       "      <td>Mobile</td>\n",
       "      <td>8</td>\n",
       "      <td>Above average</td>\n",
       "      <td>Below average</td>\n",
       "      <td>Above average</td>\n",
       "    </tr>\n",
       "  </tbody>\n",
       "</table>\n",
       "<p>5 rows × 24 columns</p>\n",
       "</div>"
      ],
      "text/plain": [
       "          Ad ID  Campaign ID    Keyword ID       Date  Keyword max CPC  \\\n",
       "0  357859796080   1376132377  442183914904 2019-07-05             0.51   \n",
       "1  314179203506   1376048789  354206717502 2019-07-06             0.60   \n",
       "2  314179203965   1376133520  315359911820 2019-07-07             0.51   \n",
       "3  357859796818   1376524026  443040648236 2019-07-17             0.17   \n",
       "4  314179203962   1376133520  441743760160 2019-07-17             0.51   \n",
       "\n",
       "   First position CPC  Top of page CPC  Avg. position  Impressions  Clicks  \\\n",
       "0                0.75             0.14           1.00            1       1   \n",
       "1                0.12             0.12           1.00            1       1   \n",
       "2                0.34             0.18           1.00            2       0   \n",
       "3                0.34             0.06           1.00            1       1   \n",
       "4                0.37             0.31           1.33            3       2   \n",
       "\n",
       "   ...  Day of Month  Day of Year  Week of Year  Day of Week  \\\n",
       "0  ...             5          186            27            4   \n",
       "1  ...             6          187            27            5   \n",
       "2  ...             7          188            27            6   \n",
       "3  ...            17          198            29            2   \n",
       "4  ...            17          198            29            2   \n",
       "\n",
       "   Search term match type   Device  Quality score  Expected clickthrough rate  \\\n",
       "0                   Exact   Mobile              9               Above average   \n",
       "1                   Exact  Desktop              9               Above average   \n",
       "2                   Broad   Tablet              8               Above average   \n",
       "3                  Phrase   Mobile              8               Above average   \n",
       "4                   Broad   Mobile              8               Above average   \n",
       "\n",
       "    Ad relevance Landing page experience  \n",
       "0        Average           Above average  \n",
       "1        Average           Above average  \n",
       "2  Below average           Above average  \n",
       "3  Below average           Above average  \n",
       "4  Below average           Above average  \n",
       "\n",
       "[5 rows x 24 columns]"
      ]
     },
     "execution_count": 22,
     "metadata": {},
     "output_type": "execute_result"
    }
   ],
   "source": [
    "train_data.head()"
   ]
  },
  {
   "cell_type": "code",
   "execution_count": 23,
   "metadata": {},
   "outputs": [],
   "source": [
    "# select these cat columns for later\n",
    "categorical_columns = list(train_data.select_dtypes(['category']).columns)"
   ]
  },
  {
   "cell_type": "code",
   "execution_count": 24,
   "metadata": {},
   "outputs": [
    {
     "data": {
      "text/plain": [
       "['Search term match type',\n",
       " 'Device',\n",
       " 'Quality score',\n",
       " 'Expected clickthrough rate',\n",
       " 'Ad relevance',\n",
       " 'Landing page experience']"
      ]
     },
     "execution_count": 24,
     "metadata": {},
     "output_type": "execute_result"
    }
   ],
   "source": [
    "categorical_columns"
   ]
  },
  {
   "cell_type": "markdown",
   "metadata": {},
   "source": [
    "### Ordinal Data Encoding"
   ]
  },
  {
   "cell_type": "code",
   "execution_count": 25,
   "metadata": {},
   "outputs": [],
   "source": [
    "from category_encoders.ordinal import OrdinalEncoder"
   ]
  },
  {
   "cell_type": "markdown",
   "metadata": {},
   "source": [
    "`Quality score`, `Expected clickthrough rate`, `Ad relevance` and `Landing page experience` are all categorical variables that should be encoded as ordered data. The values have inherent information in relation to each other"
   ]
  },
  {
   "cell_type": "code",
   "execution_count": 31,
   "metadata": {},
   "outputs": [],
   "source": [
    "ordinal_categorical_columns = categorical_columns[2:]"
   ]
  },
  {
   "cell_type": "code",
   "execution_count": 34,
   "metadata": {},
   "outputs": [],
   "source": [
    "one_hot_categorical_columns = list(categorical_columns[i] for i in [0, 1] )"
   ]
  },
  {
   "cell_type": "code",
   "execution_count": 35,
   "metadata": {},
   "outputs": [
    {
     "data": {
      "text/plain": [
       "['Search term match type', 'Device']"
      ]
     },
     "execution_count": 35,
     "metadata": {},
     "output_type": "execute_result"
    }
   ],
   "source": [
    "one_hot_categorical_columns"
   ]
  },
  {
   "cell_type": "code",
   "execution_count": 36,
   "metadata": {},
   "outputs": [
    {
     "data": {
      "text/plain": [
       "['Quality score',\n",
       " 'Expected clickthrough rate',\n",
       " 'Ad relevance',\n",
       " 'Landing page experience']"
      ]
     },
     "execution_count": 36,
     "metadata": {},
     "output_type": "execute_result"
    }
   ],
   "source": [
    "ordinal_categorical_columns"
   ]
  },
  {
   "cell_type": "code",
   "execution_count": 38,
   "metadata": {},
   "outputs": [],
   "source": [
    "ordinal_col_mapping = [{\n",
    "    \"col\": \"Quality score\",\n",
    "    \"mapping\": {\n",
    "        '10': 6,\n",
    "        '9': 5,\n",
    "        '8': 4,\n",
    "        '7': 3,\n",
    "        '6': 2,\n",
    "        '5': 1,\n",
    "        '4': 0\n",
    "    }}, {\n",
    "    \"col\": \"Expected clickthrough rate\",\n",
    "    \"mapping\": {\n",
    "        'Above average': 1,\n",
    "        'Average': 0\n",
    "    }},\n",
    "    {\n",
    "    \"col\": \"Ad relevance\",\n",
    "    \"mapping\": {\n",
    "        'Above average': 2,\n",
    "        'Average': 1,\n",
    "        'Below average': 0\n",
    "    }},\n",
    "    {\n",
    "    \"col\": \"Landing page experience\",\n",
    "    \"mapping\": {\n",
    "        'Above average': 2,\n",
    "        'Average': 1,\n",
    "        'Below average': 0\n",
    "    }}\n",
    "] "
   ]
  },
  {
   "cell_type": "code",
   "execution_count": 39,
   "metadata": {},
   "outputs": [
    {
     "data": {
      "text/plain": [
       "OrdinalEncoder(cols=['Search term match type', 'Device', 'Quality score',\n",
       "                     'Expected clickthrough rate', 'Ad relevance',\n",
       "                     'Landing page experience'],\n",
       "               drop_invariant=False, handle_missing='value',\n",
       "               handle_unknown='value',\n",
       "               mapping=[{'col': 'Quality score',\n",
       "                         'mapping': {'10': 6, '4': 0, '5': 1, '6': 2, '7': 3,\n",
       "                                     '8': 4, '9': 5}},\n",
       "                        {'col': 'Expected clickthrough rate',\n",
       "                         'mapping': {'Above average': 1, 'Average': 0}},\n",
       "                        {'col': 'Ad relevance',\n",
       "                         'mapping': {'Above average': 2, 'Average': 1,\n",
       "                                     'Below average': 0}},\n",
       "                        {'col': 'Landing page experience',\n",
       "                         'mapping': {'Above average': 2, 'Average': 1,\n",
       "                                     'Below average': 0}}],\n",
       "               return_df=True, verbose=0)"
      ]
     },
     "execution_count": 39,
     "metadata": {},
     "output_type": "execute_result"
    }
   ],
   "source": [
    "# create encoder instance\n",
    "ord_enc = OrdinalEncoder(cols=categorical_columns, mapping=ordinal_col_mapping, return_df=True)\n",
    "ord_enc"
   ]
  },
  {
   "cell_type": "markdown",
   "metadata": {},
   "source": [
    "### Create New Transformed DF"
   ]
  },
  {
   "cell_type": "code",
   "execution_count": 82,
   "metadata": {},
   "outputs": [
    {
     "data": {
      "text/html": [
       "<div>\n",
       "<style scoped>\n",
       "    .dataframe tbody tr th:only-of-type {\n",
       "        vertical-align: middle;\n",
       "    }\n",
       "\n",
       "    .dataframe tbody tr th {\n",
       "        vertical-align: top;\n",
       "    }\n",
       "\n",
       "    .dataframe thead th {\n",
       "        text-align: right;\n",
       "    }\n",
       "</style>\n",
       "<table border=\"1\" class=\"dataframe\">\n",
       "  <thead>\n",
       "    <tr style=\"text-align: right;\">\n",
       "      <th></th>\n",
       "      <th>Ad ID</th>\n",
       "      <th>Campaign ID</th>\n",
       "      <th>Keyword ID</th>\n",
       "      <th>Date</th>\n",
       "      <th>Keyword max CPC</th>\n",
       "      <th>First position CPC</th>\n",
       "      <th>Top of page CPC</th>\n",
       "      <th>Avg. position</th>\n",
       "      <th>Impressions</th>\n",
       "      <th>Clicks</th>\n",
       "      <th>...</th>\n",
       "      <th>Day of Month</th>\n",
       "      <th>Day of Year</th>\n",
       "      <th>Week of Year</th>\n",
       "      <th>Day of Week</th>\n",
       "      <th>Search term match type</th>\n",
       "      <th>Device</th>\n",
       "      <th>Quality score</th>\n",
       "      <th>Expected clickthrough rate</th>\n",
       "      <th>Ad relevance</th>\n",
       "      <th>Landing page experience</th>\n",
       "    </tr>\n",
       "  </thead>\n",
       "  <tbody>\n",
       "    <tr>\n",
       "      <th>0</th>\n",
       "      <td>357859796080</td>\n",
       "      <td>1376132377</td>\n",
       "      <td>442183914904</td>\n",
       "      <td>2019-07-05</td>\n",
       "      <td>0.51</td>\n",
       "      <td>0.75</td>\n",
       "      <td>0.14</td>\n",
       "      <td>1.00</td>\n",
       "      <td>1</td>\n",
       "      <td>1</td>\n",
       "      <td>...</td>\n",
       "      <td>5</td>\n",
       "      <td>186</td>\n",
       "      <td>27</td>\n",
       "      <td>4</td>\n",
       "      <td>Exact</td>\n",
       "      <td>Mobile</td>\n",
       "      <td>5</td>\n",
       "      <td>1</td>\n",
       "      <td>1</td>\n",
       "      <td>2</td>\n",
       "    </tr>\n",
       "    <tr>\n",
       "      <th>1</th>\n",
       "      <td>314179203506</td>\n",
       "      <td>1376048789</td>\n",
       "      <td>354206717502</td>\n",
       "      <td>2019-07-06</td>\n",
       "      <td>0.60</td>\n",
       "      <td>0.12</td>\n",
       "      <td>0.12</td>\n",
       "      <td>1.00</td>\n",
       "      <td>1</td>\n",
       "      <td>1</td>\n",
       "      <td>...</td>\n",
       "      <td>6</td>\n",
       "      <td>187</td>\n",
       "      <td>27</td>\n",
       "      <td>5</td>\n",
       "      <td>Exact</td>\n",
       "      <td>Desktop</td>\n",
       "      <td>5</td>\n",
       "      <td>1</td>\n",
       "      <td>1</td>\n",
       "      <td>2</td>\n",
       "    </tr>\n",
       "    <tr>\n",
       "      <th>2</th>\n",
       "      <td>314179203965</td>\n",
       "      <td>1376133520</td>\n",
       "      <td>315359911820</td>\n",
       "      <td>2019-07-07</td>\n",
       "      <td>0.51</td>\n",
       "      <td>0.34</td>\n",
       "      <td>0.18</td>\n",
       "      <td>1.00</td>\n",
       "      <td>2</td>\n",
       "      <td>0</td>\n",
       "      <td>...</td>\n",
       "      <td>7</td>\n",
       "      <td>188</td>\n",
       "      <td>27</td>\n",
       "      <td>6</td>\n",
       "      <td>Broad</td>\n",
       "      <td>Tablet</td>\n",
       "      <td>4</td>\n",
       "      <td>1</td>\n",
       "      <td>0</td>\n",
       "      <td>2</td>\n",
       "    </tr>\n",
       "    <tr>\n",
       "      <th>3</th>\n",
       "      <td>357859796818</td>\n",
       "      <td>1376524026</td>\n",
       "      <td>443040648236</td>\n",
       "      <td>2019-07-17</td>\n",
       "      <td>0.17</td>\n",
       "      <td>0.34</td>\n",
       "      <td>0.06</td>\n",
       "      <td>1.00</td>\n",
       "      <td>1</td>\n",
       "      <td>1</td>\n",
       "      <td>...</td>\n",
       "      <td>17</td>\n",
       "      <td>198</td>\n",
       "      <td>29</td>\n",
       "      <td>2</td>\n",
       "      <td>Phrase</td>\n",
       "      <td>Mobile</td>\n",
       "      <td>4</td>\n",
       "      <td>1</td>\n",
       "      <td>0</td>\n",
       "      <td>2</td>\n",
       "    </tr>\n",
       "    <tr>\n",
       "      <th>4</th>\n",
       "      <td>314179203962</td>\n",
       "      <td>1376133520</td>\n",
       "      <td>441743760160</td>\n",
       "      <td>2019-07-17</td>\n",
       "      <td>0.51</td>\n",
       "      <td>0.37</td>\n",
       "      <td>0.31</td>\n",
       "      <td>1.33</td>\n",
       "      <td>3</td>\n",
       "      <td>2</td>\n",
       "      <td>...</td>\n",
       "      <td>17</td>\n",
       "      <td>198</td>\n",
       "      <td>29</td>\n",
       "      <td>2</td>\n",
       "      <td>Broad</td>\n",
       "      <td>Mobile</td>\n",
       "      <td>4</td>\n",
       "      <td>1</td>\n",
       "      <td>0</td>\n",
       "      <td>2</td>\n",
       "    </tr>\n",
       "  </tbody>\n",
       "</table>\n",
       "<p>5 rows × 24 columns</p>\n",
       "</div>"
      ],
      "text/plain": [
       "          Ad ID  Campaign ID    Keyword ID       Date  Keyword max CPC  \\\n",
       "0  357859796080   1376132377  442183914904 2019-07-05             0.51   \n",
       "1  314179203506   1376048789  354206717502 2019-07-06             0.60   \n",
       "2  314179203965   1376133520  315359911820 2019-07-07             0.51   \n",
       "3  357859796818   1376524026  443040648236 2019-07-17             0.17   \n",
       "4  314179203962   1376133520  441743760160 2019-07-17             0.51   \n",
       "\n",
       "   First position CPC  Top of page CPC  Avg. position  Impressions  Clicks  \\\n",
       "0                0.75             0.14           1.00            1       1   \n",
       "1                0.12             0.12           1.00            1       1   \n",
       "2                0.34             0.18           1.00            2       0   \n",
       "3                0.34             0.06           1.00            1       1   \n",
       "4                0.37             0.31           1.33            3       2   \n",
       "\n",
       "   ...  Day of Month  Day of Year  Week of Year  Day of Week  \\\n",
       "0  ...             5          186            27            4   \n",
       "1  ...             6          187            27            5   \n",
       "2  ...             7          188            27            6   \n",
       "3  ...            17          198            29            2   \n",
       "4  ...            17          198            29            2   \n",
       "\n",
       "   Search term match type   Device  Quality score  Expected clickthrough rate  \\\n",
       "0                   Exact   Mobile              5                           1   \n",
       "1                   Exact  Desktop              5                           1   \n",
       "2                   Broad   Tablet              4                           1   \n",
       "3                  Phrase   Mobile              4                           1   \n",
       "4                   Broad   Mobile              4                           1   \n",
       "\n",
       "  Ad relevance Landing page experience  \n",
       "0            1                       2  \n",
       "1            1                       2  \n",
       "2            0                       2  \n",
       "3            0                       2  \n",
       "4            0                       2  \n",
       "\n",
       "[5 rows x 24 columns]"
      ]
     },
     "execution_count": 82,
     "metadata": {},
     "output_type": "execute_result"
    }
   ],
   "source": [
    "# fit ordinal encoding and tranform\n",
    "df_train = ord_enc.fit_transform(train_data)\n",
    "df_train.head()"
   ]
  },
  {
   "cell_type": "code",
   "execution_count": 83,
   "metadata": {},
   "outputs": [
    {
     "data": {
      "text/plain": [
       "Index(['Ad ID', 'Campaign ID', 'Keyword ID', 'Date', 'Keyword max CPC',\n",
       "       'First position CPC', 'Top of page CPC', 'Avg. position', 'Impressions',\n",
       "       'Clicks', 'Cost', 'click_target', 'ctr', 'Month', 'Day of Month',\n",
       "       'Day of Year', 'Week of Year', 'Day of Week', 'Search term match type',\n",
       "       'Device', 'Quality score', 'Expected clickthrough rate', 'Ad relevance',\n",
       "       'Landing page experience'],\n",
       "      dtype='object')"
      ]
     },
     "execution_count": 83,
     "metadata": {},
     "output_type": "execute_result"
    }
   ],
   "source": [
    "df_train.columns"
   ]
  },
  {
   "cell_type": "markdown",
   "metadata": {},
   "source": [
    "### One-Hot Encoding"
   ]
  },
  {
   "cell_type": "code",
   "execution_count": 84,
   "metadata": {},
   "outputs": [],
   "source": [
    "# get dummies encoding                                                                      \n",
    "df_train = pd.concat([df_train, pd.get_dummies(df_train[one_hot_categorical_columns])], axis=1)"
   ]
  },
  {
   "cell_type": "code",
   "execution_count": 85,
   "metadata": {},
   "outputs": [],
   "source": [
    "# drop transformed columns\n",
    "df_train.drop(columns=one_hot_categorical_columns, inplace=True)"
   ]
  },
  {
   "cell_type": "code",
   "execution_count": 86,
   "metadata": {},
   "outputs": [
    {
     "data": {
      "text/plain": [
       "Index(['Ad ID', 'Campaign ID', 'Keyword ID', 'Date', 'Keyword max CPC',\n",
       "       'First position CPC', 'Top of page CPC', 'Avg. position', 'Impressions',\n",
       "       'Clicks', 'Cost', 'click_target', 'ctr', 'Month', 'Day of Month',\n",
       "       'Day of Year', 'Week of Year', 'Day of Week', 'Quality score',\n",
       "       'Expected clickthrough rate', 'Ad relevance', 'Landing page experience',\n",
       "       'Search term match type_Broad', 'Search term match type_Exact',\n",
       "       'Search term match type_Phrase', 'Device_Desktop', 'Device_Mobile',\n",
       "       'Device_Tablet'],\n",
       "      dtype='object')"
      ]
     },
     "execution_count": 86,
     "metadata": {},
     "output_type": "execute_result"
    }
   ],
   "source": [
    "df_train.columns"
   ]
  },
  {
   "cell_type": "markdown",
   "metadata": {},
   "source": [
    "## Cyclical Encoding of Time"
   ]
  },
  {
   "cell_type": "markdown",
   "metadata": {},
   "source": [
    "A common method for encoding cyclical data is to transform the data into two dimensions using a sine and consine transformation.\n",
    "\n",
    "We can do that using the following transformations:\n",
    "\n",
    "$x_{sin} = \\sin(\\frac{2 * \\pi * x}{\\max(x)})$\n",
    "\n",
    "$x_{cos} = \\cos(\\frac{2 * \\pi * x}{\\max(x)})$\n",
    "\n",
    "Let's do this for the time components that are cyclical"
   ]
  },
  {
   "cell_type": "code",
   "execution_count": 87,
   "metadata": {},
   "outputs": [
    {
     "name": "stdout",
     "output_type": "stream",
     "text": [
      "<class 'pandas.core.frame.DataFrame'>\n",
      "RangeIndex: 118563 entries, 0 to 118562\n",
      "Data columns (total 28 columns):\n",
      "Ad ID                            118563 non-null int64\n",
      "Campaign ID                      118563 non-null int64\n",
      "Keyword ID                       118563 non-null int64\n",
      "Date                             118563 non-null datetime64[ns]\n",
      "Keyword max CPC                  118563 non-null float64\n",
      "First position CPC               118563 non-null float64\n",
      "Top of page CPC                  118563 non-null float64\n",
      "Avg. position                    118563 non-null float64\n",
      "Impressions                      118563 non-null int64\n",
      "Clicks                           118563 non-null int64\n",
      "Cost                             118563 non-null float64\n",
      "click_target                     118563 non-null int64\n",
      "ctr                              118563 non-null float64\n",
      "Month                            118563 non-null int64\n",
      "Day of Month                     118563 non-null int64\n",
      "Day of Year                      118563 non-null int64\n",
      "Week of Year                     118563 non-null int64\n",
      "Day of Week                      118563 non-null int64\n",
      "Quality score                    118563 non-null int32\n",
      "Expected clickthrough rate       118563 non-null int32\n",
      "Ad relevance                     118563 non-null int32\n",
      "Landing page experience          118563 non-null int32\n",
      "Search term match type_Broad     118563 non-null uint8\n",
      "Search term match type_Exact     118563 non-null uint8\n",
      "Search term match type_Phrase    118563 non-null uint8\n",
      "Device_Desktop                   118563 non-null uint8\n",
      "Device_Mobile                    118563 non-null uint8\n",
      "Device_Tablet                    118563 non-null uint8\n",
      "dtypes: datetime64[ns](1), float64(6), int32(4), int64(11), uint8(6)\n",
      "memory usage: 18.8 MB\n"
     ]
    }
   ],
   "source": [
    "# check dtypes before continuing\n",
    "df_train.info()"
   ]
  },
  {
   "cell_type": "code",
   "execution_count": 88,
   "metadata": {},
   "outputs": [],
   "source": [
    "# encoding cyclical features\n",
    "df_train['day_of_week_sin'] = np.sin(df_train['Day of Week'])*(2.*np.pi/7)\n",
    "df_train['day_of_week_cos'] = np.cos(df_train['Day of Week'])*(2.*np.pi/7)\n",
    "df_train['month_sin'] = np.sin((df_train['Month']-1)*(2.*np.pi/12))\n",
    "df_train['month_cos'] = np.cos((df_train['Month']-1)*(2.*np.pi/12))\n",
    "df_train['day_of_year_sin'] = np.sin((df_train['Day of Year']-1)*(2.*np.pi/365))\n",
    "df_train['day_of_year_cos'] = np.cos((df_train['Day of Year']-1)*(2.*np.pi/365))\n",
    "# date or day of month is a potential to investigate later ie. 31, 26 etc"
   ]
  },
  {
   "cell_type": "code",
   "execution_count": 89,
   "metadata": {},
   "outputs": [],
   "source": [
    "# after this we can drop the Date column as it will not be used\n",
    "df_train.drop(columns='Date', inplace=True)"
   ]
  },
  {
   "cell_type": "code",
   "execution_count": 90,
   "metadata": {},
   "outputs": [
    {
     "data": {
      "text/html": [
       "<div>\n",
       "<style scoped>\n",
       "    .dataframe tbody tr th:only-of-type {\n",
       "        vertical-align: middle;\n",
       "    }\n",
       "\n",
       "    .dataframe tbody tr th {\n",
       "        vertical-align: top;\n",
       "    }\n",
       "\n",
       "    .dataframe thead th {\n",
       "        text-align: right;\n",
       "    }\n",
       "</style>\n",
       "<table border=\"1\" class=\"dataframe\">\n",
       "  <thead>\n",
       "    <tr style=\"text-align: right;\">\n",
       "      <th></th>\n",
       "      <th>Ad ID</th>\n",
       "      <th>Campaign ID</th>\n",
       "      <th>Keyword ID</th>\n",
       "      <th>Keyword max CPC</th>\n",
       "      <th>First position CPC</th>\n",
       "      <th>Top of page CPC</th>\n",
       "      <th>Avg. position</th>\n",
       "      <th>Impressions</th>\n",
       "      <th>Clicks</th>\n",
       "      <th>Cost</th>\n",
       "      <th>...</th>\n",
       "      <th>Search term match type_Phrase</th>\n",
       "      <th>Device_Desktop</th>\n",
       "      <th>Device_Mobile</th>\n",
       "      <th>Device_Tablet</th>\n",
       "      <th>day_of_week_sin</th>\n",
       "      <th>day_of_week_cos</th>\n",
       "      <th>month_sin</th>\n",
       "      <th>month_cos</th>\n",
       "      <th>day_of_year_sin</th>\n",
       "      <th>day_of_year_cos</th>\n",
       "    </tr>\n",
       "  </thead>\n",
       "  <tbody>\n",
       "    <tr>\n",
       "      <th>0</th>\n",
       "      <td>357859796080</td>\n",
       "      <td>1376132377</td>\n",
       "      <td>442183914904</td>\n",
       "      <td>0.51</td>\n",
       "      <td>0.75</td>\n",
       "      <td>0.14</td>\n",
       "      <td>1.00</td>\n",
       "      <td>1</td>\n",
       "      <td>1</td>\n",
       "      <td>0.38</td>\n",
       "      <td>...</td>\n",
       "      <td>0</td>\n",
       "      <td>0</td>\n",
       "      <td>1</td>\n",
       "      <td>0</td>\n",
       "      <td>-0.679304</td>\n",
       "      <td>-0.586709</td>\n",
       "      <td>1.224647e-16</td>\n",
       "      <td>-1.0</td>\n",
       "      <td>-0.043022</td>\n",
       "      <td>-0.999074</td>\n",
       "    </tr>\n",
       "    <tr>\n",
       "      <th>1</th>\n",
       "      <td>314179203506</td>\n",
       "      <td>1376048789</td>\n",
       "      <td>354206717502</td>\n",
       "      <td>0.60</td>\n",
       "      <td>0.12</td>\n",
       "      <td>0.12</td>\n",
       "      <td>1.00</td>\n",
       "      <td>1</td>\n",
       "      <td>1</td>\n",
       "      <td>0.27</td>\n",
       "      <td>...</td>\n",
       "      <td>0</td>\n",
       "      <td>1</td>\n",
       "      <td>0</td>\n",
       "      <td>0</td>\n",
       "      <td>-0.860728</td>\n",
       "      <td>0.254615</td>\n",
       "      <td>1.224647e-16</td>\n",
       "      <td>-1.0</td>\n",
       "      <td>-0.060213</td>\n",
       "      <td>-0.998186</td>\n",
       "    </tr>\n",
       "    <tr>\n",
       "      <th>2</th>\n",
       "      <td>314179203965</td>\n",
       "      <td>1376133520</td>\n",
       "      <td>315359911820</td>\n",
       "      <td>0.51</td>\n",
       "      <td>0.34</td>\n",
       "      <td>0.18</td>\n",
       "      <td>1.00</td>\n",
       "      <td>2</td>\n",
       "      <td>0</td>\n",
       "      <td>0.00</td>\n",
       "      <td>...</td>\n",
       "      <td>0</td>\n",
       "      <td>0</td>\n",
       "      <td>0</td>\n",
       "      <td>1</td>\n",
       "      <td>-0.250803</td>\n",
       "      <td>0.861847</td>\n",
       "      <td>1.224647e-16</td>\n",
       "      <td>-1.0</td>\n",
       "      <td>-0.077386</td>\n",
       "      <td>-0.997001</td>\n",
       "    </tr>\n",
       "    <tr>\n",
       "      <th>3</th>\n",
       "      <td>357859796818</td>\n",
       "      <td>1376524026</td>\n",
       "      <td>443040648236</td>\n",
       "      <td>0.17</td>\n",
       "      <td>0.34</td>\n",
       "      <td>0.06</td>\n",
       "      <td>1.00</td>\n",
       "      <td>1</td>\n",
       "      <td>1</td>\n",
       "      <td>0.07</td>\n",
       "      <td>...</td>\n",
       "      <td>1</td>\n",
       "      <td>0</td>\n",
       "      <td>1</td>\n",
       "      <td>0</td>\n",
       "      <td>0.816183</td>\n",
       "      <td>-0.373533</td>\n",
       "      <td>1.224647e-16</td>\n",
       "      <td>-1.0</td>\n",
       "      <td>-0.247022</td>\n",
       "      <td>-0.969010</td>\n",
       "    </tr>\n",
       "    <tr>\n",
       "      <th>4</th>\n",
       "      <td>314179203962</td>\n",
       "      <td>1376133520</td>\n",
       "      <td>441743760160</td>\n",
       "      <td>0.51</td>\n",
       "      <td>0.37</td>\n",
       "      <td>0.31</td>\n",
       "      <td>1.33</td>\n",
       "      <td>3</td>\n",
       "      <td>2</td>\n",
       "      <td>0.67</td>\n",
       "      <td>...</td>\n",
       "      <td>0</td>\n",
       "      <td>0</td>\n",
       "      <td>1</td>\n",
       "      <td>0</td>\n",
       "      <td>0.816183</td>\n",
       "      <td>-0.373533</td>\n",
       "      <td>1.224647e-16</td>\n",
       "      <td>-1.0</td>\n",
       "      <td>-0.247022</td>\n",
       "      <td>-0.969010</td>\n",
       "    </tr>\n",
       "  </tbody>\n",
       "</table>\n",
       "<p>5 rows × 33 columns</p>\n",
       "</div>"
      ],
      "text/plain": [
       "          Ad ID  Campaign ID    Keyword ID  Keyword max CPC  \\\n",
       "0  357859796080   1376132377  442183914904             0.51   \n",
       "1  314179203506   1376048789  354206717502             0.60   \n",
       "2  314179203965   1376133520  315359911820             0.51   \n",
       "3  357859796818   1376524026  443040648236             0.17   \n",
       "4  314179203962   1376133520  441743760160             0.51   \n",
       "\n",
       "   First position CPC  Top of page CPC  Avg. position  Impressions  Clicks  \\\n",
       "0                0.75             0.14           1.00            1       1   \n",
       "1                0.12             0.12           1.00            1       1   \n",
       "2                0.34             0.18           1.00            2       0   \n",
       "3                0.34             0.06           1.00            1       1   \n",
       "4                0.37             0.31           1.33            3       2   \n",
       "\n",
       "   Cost  ...  Search term match type_Phrase  Device_Desktop  Device_Mobile  \\\n",
       "0  0.38  ...                              0               0              1   \n",
       "1  0.27  ...                              0               1              0   \n",
       "2  0.00  ...                              0               0              0   \n",
       "3  0.07  ...                              1               0              1   \n",
       "4  0.67  ...                              0               0              1   \n",
       "\n",
       "   Device_Tablet  day_of_week_sin  day_of_week_cos     month_sin  month_cos  \\\n",
       "0              0        -0.679304        -0.586709  1.224647e-16       -1.0   \n",
       "1              0        -0.860728         0.254615  1.224647e-16       -1.0   \n",
       "2              1        -0.250803         0.861847  1.224647e-16       -1.0   \n",
       "3              0         0.816183        -0.373533  1.224647e-16       -1.0   \n",
       "4              0         0.816183        -0.373533  1.224647e-16       -1.0   \n",
       "\n",
       "   day_of_year_sin  day_of_year_cos  \n",
       "0        -0.043022        -0.999074  \n",
       "1        -0.060213        -0.998186  \n",
       "2        -0.077386        -0.997001  \n",
       "3        -0.247022        -0.969010  \n",
       "4        -0.247022        -0.969010  \n",
       "\n",
       "[5 rows x 33 columns]"
      ]
     },
     "execution_count": 90,
     "metadata": {},
     "output_type": "execute_result"
    }
   ],
   "source": [
    "# preview data once more\n",
    "df_train.head()"
   ]
  },
  {
   "cell_type": "code",
   "execution_count": 91,
   "metadata": {},
   "outputs": [
    {
     "data": {
      "text/plain": [
       "8"
      ]
     },
     "execution_count": 91,
     "metadata": {},
     "output_type": "execute_result"
    }
   ],
   "source": [
    "# how many campaigns are in here?\n",
    "df_train['Campaign ID'].unique().size"
   ]
  },
  {
   "cell_type": "markdown",
   "metadata": {},
   "source": [
    "### Removing Irrelevant Variables"
   ]
  },
  {
   "cell_type": "markdown",
   "metadata": {},
   "source": [
    "Future work will use the textual based columns to retrieve word embeddings and use Word2Vec algorithms to enable them as features"
   ]
  },
  {
   "cell_type": "code",
   "execution_count": 114,
   "metadata": {},
   "outputs": [
    {
     "data": {
      "text/html": [
       "<div>\n",
       "<style scoped>\n",
       "    .dataframe tbody tr th:only-of-type {\n",
       "        vertical-align: middle;\n",
       "    }\n",
       "\n",
       "    .dataframe tbody tr th {\n",
       "        vertical-align: top;\n",
       "    }\n",
       "\n",
       "    .dataframe thead th {\n",
       "        text-align: right;\n",
       "    }\n",
       "</style>\n",
       "<table border=\"1\" class=\"dataframe\">\n",
       "  <thead>\n",
       "    <tr style=\"text-align: right;\">\n",
       "      <th></th>\n",
       "      <th>Ad ID</th>\n",
       "      <th>Campaign ID</th>\n",
       "      <th>Keyword ID</th>\n",
       "      <th>Keyword max CPC</th>\n",
       "      <th>First position CPC</th>\n",
       "      <th>Top of page CPC</th>\n",
       "      <th>Avg. position</th>\n",
       "      <th>Impressions</th>\n",
       "      <th>Clicks</th>\n",
       "      <th>Cost</th>\n",
       "      <th>...</th>\n",
       "      <th>Search term match type_Phrase</th>\n",
       "      <th>Device_Desktop</th>\n",
       "      <th>Device_Mobile</th>\n",
       "      <th>Device_Tablet</th>\n",
       "      <th>day_of_week_sin</th>\n",
       "      <th>day_of_week_cos</th>\n",
       "      <th>month_sin</th>\n",
       "      <th>month_cos</th>\n",
       "      <th>day_of_year_sin</th>\n",
       "      <th>day_of_year_cos</th>\n",
       "    </tr>\n",
       "  </thead>\n",
       "  <tbody>\n",
       "    <tr>\n",
       "      <th>0</th>\n",
       "      <td>357859796080</td>\n",
       "      <td>1376132377</td>\n",
       "      <td>442183914904</td>\n",
       "      <td>0.51</td>\n",
       "      <td>0.75</td>\n",
       "      <td>0.14</td>\n",
       "      <td>1.00</td>\n",
       "      <td>1</td>\n",
       "      <td>1</td>\n",
       "      <td>0.38</td>\n",
       "      <td>...</td>\n",
       "      <td>0</td>\n",
       "      <td>0</td>\n",
       "      <td>1</td>\n",
       "      <td>0</td>\n",
       "      <td>-0.679304</td>\n",
       "      <td>-0.586709</td>\n",
       "      <td>1.224647e-16</td>\n",
       "      <td>-1.0</td>\n",
       "      <td>-0.043022</td>\n",
       "      <td>-0.999074</td>\n",
       "    </tr>\n",
       "    <tr>\n",
       "      <th>1</th>\n",
       "      <td>314179203506</td>\n",
       "      <td>1376048789</td>\n",
       "      <td>354206717502</td>\n",
       "      <td>0.60</td>\n",
       "      <td>0.12</td>\n",
       "      <td>0.12</td>\n",
       "      <td>1.00</td>\n",
       "      <td>1</td>\n",
       "      <td>1</td>\n",
       "      <td>0.27</td>\n",
       "      <td>...</td>\n",
       "      <td>0</td>\n",
       "      <td>1</td>\n",
       "      <td>0</td>\n",
       "      <td>0</td>\n",
       "      <td>-0.860728</td>\n",
       "      <td>0.254615</td>\n",
       "      <td>1.224647e-16</td>\n",
       "      <td>-1.0</td>\n",
       "      <td>-0.060213</td>\n",
       "      <td>-0.998186</td>\n",
       "    </tr>\n",
       "    <tr>\n",
       "      <th>2</th>\n",
       "      <td>314179203965</td>\n",
       "      <td>1376133520</td>\n",
       "      <td>315359911820</td>\n",
       "      <td>0.51</td>\n",
       "      <td>0.34</td>\n",
       "      <td>0.18</td>\n",
       "      <td>1.00</td>\n",
       "      <td>2</td>\n",
       "      <td>0</td>\n",
       "      <td>0.00</td>\n",
       "      <td>...</td>\n",
       "      <td>0</td>\n",
       "      <td>0</td>\n",
       "      <td>0</td>\n",
       "      <td>1</td>\n",
       "      <td>-0.250803</td>\n",
       "      <td>0.861847</td>\n",
       "      <td>1.224647e-16</td>\n",
       "      <td>-1.0</td>\n",
       "      <td>-0.077386</td>\n",
       "      <td>-0.997001</td>\n",
       "    </tr>\n",
       "    <tr>\n",
       "      <th>3</th>\n",
       "      <td>357859796818</td>\n",
       "      <td>1376524026</td>\n",
       "      <td>443040648236</td>\n",
       "      <td>0.17</td>\n",
       "      <td>0.34</td>\n",
       "      <td>0.06</td>\n",
       "      <td>1.00</td>\n",
       "      <td>1</td>\n",
       "      <td>1</td>\n",
       "      <td>0.07</td>\n",
       "      <td>...</td>\n",
       "      <td>1</td>\n",
       "      <td>0</td>\n",
       "      <td>1</td>\n",
       "      <td>0</td>\n",
       "      <td>0.816183</td>\n",
       "      <td>-0.373533</td>\n",
       "      <td>1.224647e-16</td>\n",
       "      <td>-1.0</td>\n",
       "      <td>-0.247022</td>\n",
       "      <td>-0.969010</td>\n",
       "    </tr>\n",
       "    <tr>\n",
       "      <th>4</th>\n",
       "      <td>314179203962</td>\n",
       "      <td>1376133520</td>\n",
       "      <td>441743760160</td>\n",
       "      <td>0.51</td>\n",
       "      <td>0.37</td>\n",
       "      <td>0.31</td>\n",
       "      <td>1.33</td>\n",
       "      <td>3</td>\n",
       "      <td>2</td>\n",
       "      <td>0.67</td>\n",
       "      <td>...</td>\n",
       "      <td>0</td>\n",
       "      <td>0</td>\n",
       "      <td>1</td>\n",
       "      <td>0</td>\n",
       "      <td>0.816183</td>\n",
       "      <td>-0.373533</td>\n",
       "      <td>1.224647e-16</td>\n",
       "      <td>-1.0</td>\n",
       "      <td>-0.247022</td>\n",
       "      <td>-0.969010</td>\n",
       "    </tr>\n",
       "  </tbody>\n",
       "</table>\n",
       "<p>5 rows × 33 columns</p>\n",
       "</div>"
      ],
      "text/plain": [
       "          Ad ID  Campaign ID    Keyword ID  Keyword max CPC  \\\n",
       "0  357859796080   1376132377  442183914904             0.51   \n",
       "1  314179203506   1376048789  354206717502             0.60   \n",
       "2  314179203965   1376133520  315359911820             0.51   \n",
       "3  357859796818   1376524026  443040648236             0.17   \n",
       "4  314179203962   1376133520  441743760160             0.51   \n",
       "\n",
       "   First position CPC  Top of page CPC  Avg. position  Impressions  Clicks  \\\n",
       "0                0.75             0.14           1.00            1       1   \n",
       "1                0.12             0.12           1.00            1       1   \n",
       "2                0.34             0.18           1.00            2       0   \n",
       "3                0.34             0.06           1.00            1       1   \n",
       "4                0.37             0.31           1.33            3       2   \n",
       "\n",
       "   Cost  ...  Search term match type_Phrase  Device_Desktop  Device_Mobile  \\\n",
       "0  0.38  ...                              0               0              1   \n",
       "1  0.27  ...                              0               1              0   \n",
       "2  0.00  ...                              0               0              0   \n",
       "3  0.07  ...                              1               0              1   \n",
       "4  0.67  ...                              0               0              1   \n",
       "\n",
       "   Device_Tablet  day_of_week_sin  day_of_week_cos     month_sin  month_cos  \\\n",
       "0              0        -0.679304        -0.586709  1.224647e-16       -1.0   \n",
       "1              0        -0.860728         0.254615  1.224647e-16       -1.0   \n",
       "2              1        -0.250803         0.861847  1.224647e-16       -1.0   \n",
       "3              0         0.816183        -0.373533  1.224647e-16       -1.0   \n",
       "4              0         0.816183        -0.373533  1.224647e-16       -1.0   \n",
       "\n",
       "   day_of_year_sin  day_of_year_cos  \n",
       "0        -0.043022        -0.999074  \n",
       "1        -0.060213        -0.998186  \n",
       "2        -0.077386        -0.997001  \n",
       "3        -0.247022        -0.969010  \n",
       "4        -0.247022        -0.969010  \n",
       "\n",
       "[5 rows x 33 columns]"
      ]
     },
     "execution_count": 114,
     "metadata": {},
     "output_type": "execute_result"
    }
   ],
   "source": [
    "df_train.head()"
   ]
  },
  {
   "cell_type": "code",
   "execution_count": 115,
   "metadata": {},
   "outputs": [
    {
     "data": {
      "text/plain": [
       "Index(['Ad ID', 'Campaign ID', 'Keyword ID', 'Keyword max CPC',\n",
       "       'First position CPC', 'Top of page CPC', 'Avg. position', 'Impressions',\n",
       "       'Clicks', 'Cost', 'click_target', 'ctr', 'Month', 'Day of Month',\n",
       "       'Day of Year', 'Week of Year', 'Day of Week', 'Quality score',\n",
       "       'Expected clickthrough rate', 'Ad relevance', 'Landing page experience',\n",
       "       'Search term match type_Broad', 'Search term match type_Exact',\n",
       "       'Search term match type_Phrase', 'Device_Desktop', 'Device_Mobile',\n",
       "       'Device_Tablet', 'day_of_week_sin', 'day_of_week_cos', 'month_sin',\n",
       "       'month_cos', 'day_of_year_sin', 'day_of_year_cos'],\n",
       "      dtype='object')"
      ]
     },
     "execution_count": 115,
     "metadata": {},
     "output_type": "execute_result"
    }
   ],
   "source": [
    "df_train.columns"
   ]
  },
  {
   "cell_type": "code",
   "execution_count": 116,
   "metadata": {},
   "outputs": [],
   "source": [
    "df_train.drop(columns=['Ad ID','Campaign ID', 'Keyword ID', 'ctr'], inplace=True)"
   ]
  },
  {
   "cell_type": "code",
   "execution_count": 117,
   "metadata": {},
   "outputs": [
    {
     "data": {
      "text/html": [
       "<div>\n",
       "<style scoped>\n",
       "    .dataframe tbody tr th:only-of-type {\n",
       "        vertical-align: middle;\n",
       "    }\n",
       "\n",
       "    .dataframe tbody tr th {\n",
       "        vertical-align: top;\n",
       "    }\n",
       "\n",
       "    .dataframe thead th {\n",
       "        text-align: right;\n",
       "    }\n",
       "</style>\n",
       "<table border=\"1\" class=\"dataframe\">\n",
       "  <thead>\n",
       "    <tr style=\"text-align: right;\">\n",
       "      <th></th>\n",
       "      <th>Keyword max CPC</th>\n",
       "      <th>First position CPC</th>\n",
       "      <th>Top of page CPC</th>\n",
       "      <th>Avg. position</th>\n",
       "      <th>Impressions</th>\n",
       "      <th>Clicks</th>\n",
       "      <th>Cost</th>\n",
       "      <th>click_target</th>\n",
       "      <th>Month</th>\n",
       "      <th>Day of Month</th>\n",
       "      <th>...</th>\n",
       "      <th>Search term match type_Phrase</th>\n",
       "      <th>Device_Desktop</th>\n",
       "      <th>Device_Mobile</th>\n",
       "      <th>Device_Tablet</th>\n",
       "      <th>day_of_week_sin</th>\n",
       "      <th>day_of_week_cos</th>\n",
       "      <th>month_sin</th>\n",
       "      <th>month_cos</th>\n",
       "      <th>day_of_year_sin</th>\n",
       "      <th>day_of_year_cos</th>\n",
       "    </tr>\n",
       "  </thead>\n",
       "  <tbody>\n",
       "    <tr>\n",
       "      <th>0</th>\n",
       "      <td>0.51</td>\n",
       "      <td>0.75</td>\n",
       "      <td>0.14</td>\n",
       "      <td>1.00</td>\n",
       "      <td>1</td>\n",
       "      <td>1</td>\n",
       "      <td>0.38</td>\n",
       "      <td>1</td>\n",
       "      <td>7</td>\n",
       "      <td>5</td>\n",
       "      <td>...</td>\n",
       "      <td>0</td>\n",
       "      <td>0</td>\n",
       "      <td>1</td>\n",
       "      <td>0</td>\n",
       "      <td>-0.679304</td>\n",
       "      <td>-0.586709</td>\n",
       "      <td>1.224647e-16</td>\n",
       "      <td>-1.0</td>\n",
       "      <td>-0.043022</td>\n",
       "      <td>-0.999074</td>\n",
       "    </tr>\n",
       "    <tr>\n",
       "      <th>1</th>\n",
       "      <td>0.60</td>\n",
       "      <td>0.12</td>\n",
       "      <td>0.12</td>\n",
       "      <td>1.00</td>\n",
       "      <td>1</td>\n",
       "      <td>1</td>\n",
       "      <td>0.27</td>\n",
       "      <td>1</td>\n",
       "      <td>7</td>\n",
       "      <td>6</td>\n",
       "      <td>...</td>\n",
       "      <td>0</td>\n",
       "      <td>1</td>\n",
       "      <td>0</td>\n",
       "      <td>0</td>\n",
       "      <td>-0.860728</td>\n",
       "      <td>0.254615</td>\n",
       "      <td>1.224647e-16</td>\n",
       "      <td>-1.0</td>\n",
       "      <td>-0.060213</td>\n",
       "      <td>-0.998186</td>\n",
       "    </tr>\n",
       "    <tr>\n",
       "      <th>2</th>\n",
       "      <td>0.51</td>\n",
       "      <td>0.34</td>\n",
       "      <td>0.18</td>\n",
       "      <td>1.00</td>\n",
       "      <td>2</td>\n",
       "      <td>0</td>\n",
       "      <td>0.00</td>\n",
       "      <td>0</td>\n",
       "      <td>7</td>\n",
       "      <td>7</td>\n",
       "      <td>...</td>\n",
       "      <td>0</td>\n",
       "      <td>0</td>\n",
       "      <td>0</td>\n",
       "      <td>1</td>\n",
       "      <td>-0.250803</td>\n",
       "      <td>0.861847</td>\n",
       "      <td>1.224647e-16</td>\n",
       "      <td>-1.0</td>\n",
       "      <td>-0.077386</td>\n",
       "      <td>-0.997001</td>\n",
       "    </tr>\n",
       "    <tr>\n",
       "      <th>3</th>\n",
       "      <td>0.17</td>\n",
       "      <td>0.34</td>\n",
       "      <td>0.06</td>\n",
       "      <td>1.00</td>\n",
       "      <td>1</td>\n",
       "      <td>1</td>\n",
       "      <td>0.07</td>\n",
       "      <td>1</td>\n",
       "      <td>7</td>\n",
       "      <td>17</td>\n",
       "      <td>...</td>\n",
       "      <td>1</td>\n",
       "      <td>0</td>\n",
       "      <td>1</td>\n",
       "      <td>0</td>\n",
       "      <td>0.816183</td>\n",
       "      <td>-0.373533</td>\n",
       "      <td>1.224647e-16</td>\n",
       "      <td>-1.0</td>\n",
       "      <td>-0.247022</td>\n",
       "      <td>-0.969010</td>\n",
       "    </tr>\n",
       "    <tr>\n",
       "      <th>4</th>\n",
       "      <td>0.51</td>\n",
       "      <td>0.37</td>\n",
       "      <td>0.31</td>\n",
       "      <td>1.33</td>\n",
       "      <td>3</td>\n",
       "      <td>2</td>\n",
       "      <td>0.67</td>\n",
       "      <td>1</td>\n",
       "      <td>7</td>\n",
       "      <td>17</td>\n",
       "      <td>...</td>\n",
       "      <td>0</td>\n",
       "      <td>0</td>\n",
       "      <td>1</td>\n",
       "      <td>0</td>\n",
       "      <td>0.816183</td>\n",
       "      <td>-0.373533</td>\n",
       "      <td>1.224647e-16</td>\n",
       "      <td>-1.0</td>\n",
       "      <td>-0.247022</td>\n",
       "      <td>-0.969010</td>\n",
       "    </tr>\n",
       "  </tbody>\n",
       "</table>\n",
       "<p>5 rows × 29 columns</p>\n",
       "</div>"
      ],
      "text/plain": [
       "   Keyword max CPC  First position CPC  Top of page CPC  Avg. position  \\\n",
       "0             0.51                0.75             0.14           1.00   \n",
       "1             0.60                0.12             0.12           1.00   \n",
       "2             0.51                0.34             0.18           1.00   \n",
       "3             0.17                0.34             0.06           1.00   \n",
       "4             0.51                0.37             0.31           1.33   \n",
       "\n",
       "   Impressions  Clicks  Cost  click_target  Month  Day of Month  ...  \\\n",
       "0            1       1  0.38             1      7             5  ...   \n",
       "1            1       1  0.27             1      7             6  ...   \n",
       "2            2       0  0.00             0      7             7  ...   \n",
       "3            1       1  0.07             1      7            17  ...   \n",
       "4            3       2  0.67             1      7            17  ...   \n",
       "\n",
       "   Search term match type_Phrase  Device_Desktop  Device_Mobile  \\\n",
       "0                              0               0              1   \n",
       "1                              0               1              0   \n",
       "2                              0               0              0   \n",
       "3                              1               0              1   \n",
       "4                              0               0              1   \n",
       "\n",
       "   Device_Tablet  day_of_week_sin  day_of_week_cos     month_sin  month_cos  \\\n",
       "0              0        -0.679304        -0.586709  1.224647e-16       -1.0   \n",
       "1              0        -0.860728         0.254615  1.224647e-16       -1.0   \n",
       "2              1        -0.250803         0.861847  1.224647e-16       -1.0   \n",
       "3              0         0.816183        -0.373533  1.224647e-16       -1.0   \n",
       "4              0         0.816183        -0.373533  1.224647e-16       -1.0   \n",
       "\n",
       "   day_of_year_sin  day_of_year_cos  \n",
       "0        -0.043022        -0.999074  \n",
       "1        -0.060213        -0.998186  \n",
       "2        -0.077386        -0.997001  \n",
       "3        -0.247022        -0.969010  \n",
       "4        -0.247022        -0.969010  \n",
       "\n",
       "[5 rows x 29 columns]"
      ]
     },
     "execution_count": 117,
     "metadata": {},
     "output_type": "execute_result"
    }
   ],
   "source": [
    "df_train.head()"
   ]
  },
  {
   "cell_type": "markdown",
   "metadata": {},
   "source": [
    "# Getting Data Ready for Modelling"
   ]
  },
  {
   "cell_type": "code",
   "execution_count": null,
   "metadata": {},
   "outputs": [],
   "source": [
    "# stratify\n",
    "import pandas as pd\n",
    "from sklearn.model_selection import KFold, StratifiedKFold, cross_val_score \n",
    "from sklearn.datasets import make_classification\n",
    "from sklearn.naive_bayes import GaussianNB\n",
    "RNG = 42\n",
    "# Make some synthetic imbalanced binary classification data\n",
    "X, y = make_classification(n_classes=2, class_sep=2, \n",
    "\tweights=[0.95, 0.05], \n",
    "\tn_informative=2, n_redundant=5, \n",
    "\tflip_y=0.05, n_features=50, \n",
    "\tn_clusters_per_class=1, \n",
    "\tn_samples=1000, random_state=RNG)\n",
    "\n",
    "metric_names = ['f1', 'roc_auc', 'average_precision', 'accuracy', 'precision', 'recall']\n",
    "scores_df = pd.DataFrame(index=metric_names, columns=['Random-CV', 'Stratified-CV']) # to store the scores\n",
    "cv = KFold(n_splits=3)\n",
    "scv = StratifiedKFold(n_splits=3)\n",
    "clf = GaussianNB()\n",
    "for metric in metric_names:\n",
    "    score1 = cross_val_score(clf, X, y, scoring=metric, cv=cv).mean()\n",
    "    score2 = cross_val_score(clf, X, y, scoring=metric, cv=scv).mean()\n",
    "    scores_df.loc[metric] = [score1, score2]"
   ]
  },
  {
   "cell_type": "code",
   "execution_count": 141,
   "metadata": {},
   "outputs": [],
   "source": [
    "# Separate input features and target\n",
    "y = df_train.click_target\n",
    "X = df_train.drop('click_target', axis=1)\n",
    "# setting up testing and training sets\n",
    "X_train, X_test, y_train, y_test = train_test_split(X, y, test_size=0.25, random_state=42)"
   ]
  },
  {
   "cell_type": "code",
   "execution_count": 142,
   "metadata": {},
   "outputs": [
    {
     "name": "stdout",
     "output_type": "stream",
     "text": [
      "Number transactions X_train dataset:  (88922, 28)\n",
      "Number transactions y_train dataset:  (88922,)\n",
      "Number transactions X_test dataset:  (29641, 28)\n",
      "Number transactions y_test dataset:  (29641,)\n"
     ]
    }
   ],
   "source": [
    "print(\"Number records X_train dataset: \", X_train.shape)\n",
    "print(\"Number records y_train dataset: \", y_train.shape)\n",
    "print(\"Number records X_test dataset: \", X_test.shape)\n",
    "print(\"Number records y_test dataset: \", y_test.shape)"
   ]
  },
  {
   "cell_type": "code",
   "execution_count": 143,
   "metadata": {},
   "outputs": [
    {
     "name": "stdout",
     "output_type": "stream",
     "text": [
      "88922 total examples in y_train\n",
      "class 0: 53668 examples, 60.35%\n",
      "class 1: 35254 examples, 39.65%\n",
      "\n",
      "29641 total examples in y_test\n",
      "class 0: 18273 examples, 61.65%\n",
      "class 1: 11368 examples, 38.35%\n",
      "\n"
     ]
    }
   ],
   "source": [
    "# Show the class distribution in each label set\n",
    "def get_class_dist(data, name):\n",
    "    unique, counts = np.unique(data, return_counts=True)\n",
    "    pct = 100*(counts/len(data))\n",
    "    d = dict(zip(unique, zip(counts, pct)))\n",
    "    print(len(data), 'total examples in %s' % name)\n",
    "    for key, values in d.items():\n",
    "        print('class %d: %d examples,' % (key, values[0]), \"{0:.2f}%\".format(values[1]))\n",
    "    print('')\n",
    "    return\n",
    "\n",
    "get_class_dist(data=y_train, name='y_train')\n",
    "get_class_dist(data=y_test, name='y_test')"
   ]
  },
  {
   "cell_type": "markdown",
   "metadata": {},
   "source": [
    "## Correcting Class Imbalance"
   ]
  },
  {
   "cell_type": "markdown",
   "metadata": {},
   "source": [
    "It is important to perform class balancing on **only the training data**. As shown earlier the entries that are clicked are far less then those that are un-clicked and therefore will not produce a good logistic regression baseline.\n",
    "\n",
    "Despite the advantage of balancing classes, these techniques also have their weaknesses (there is no free lunch). The simplest implementation of over-sampling is to duplicate random records from the minority class, which can cause overfitting. In under-sampling, the simplest technique involves removing random records from the majority class, which can cause loss of information."
   ]
  },
  {
   "cell_type": "markdown",
   "metadata": {},
   "source": [
    "### Upsampling"
   ]
  },
  {
   "cell_type": "code",
   "execution_count": 118,
   "metadata": {},
   "outputs": [],
   "source": [
    "from sklearn.utils import resample\n",
    "# concatenate our training data back together\n",
    "X = pd.concat([X_train, y_train], axis=1)"
   ]
  },
  {
   "cell_type": "code",
   "execution_count": 122,
   "metadata": {},
   "outputs": [
    {
     "data": {
      "text/plain": [
       "1    53668\n",
       "0    53668\n",
       "Name: click_target, dtype: int64"
      ]
     },
     "execution_count": 122,
     "metadata": {},
     "output_type": "execute_result"
    }
   ],
   "source": [
    "# separate minority and majority classes\n",
    "not_clicked = X[X.click_target==0]\n",
    "clicked = X[X.click_target==1]\n",
    "\n",
    "# up sample minority\n",
    "clicked_upsampled = resample(clicked,\n",
    "                          replace=True, # sample with replacement\n",
    "                          n_samples=len(not_clicked), # match number in majority class\n",
    "                          random_state=42) # reproducible results\n",
    "\n",
    "# combine majority and upsampled minority\n",
    "upsampled = pd.concat([not_clicked, clicked_upsampled])\n",
    "\n",
    "# check new class counts\n",
    "upsampled.click_target.value_counts()"
   ]
  },
  {
   "cell_type": "code",
   "execution_count": 129,
   "metadata": {},
   "outputs": [
    {
     "data": {
      "image/png": "[encoded data removed]",
      "text/plain": [
       "<Figure size 432x288 with 1 Axes>"
      ]
     },
     "metadata": {
      "needs_background": "light"
     },
     "output_type": "display_data"
    }
   ],
   "source": [
    "upsampled.click_target.value_counts().plot(kind='bar', title='Count (click_target)');"
   ]
  },
  {
   "cell_type": "code",
   "execution_count": 134,
   "metadata": {},
   "outputs": [
    {
     "data": {
      "text/plain": [
       "3112744"
      ]
     },
     "execution_count": 134,
     "metadata": {},
     "output_type": "execute_result"
    }
   ],
   "source": [
    "upsampled.size"
   ]
  },
  {
   "cell_type": "markdown",
   "metadata": {},
   "source": [
    "### Down sampling"
   ]
  },
  {
   "cell_type": "markdown",
   "metadata": {},
   "source": [
    "Doing the opposite to experiment to find the best results for the logistic regression"
   ]
  },
  {
   "cell_type": "code",
   "execution_count": 123,
   "metadata": {},
   "outputs": [
    {
     "data": {
      "text/plain": [
       "1    35254\n",
       "0    35254\n",
       "Name: click_target, dtype: int64"
      ]
     },
     "execution_count": 123,
     "metadata": {},
     "output_type": "execute_result"
    }
   ],
   "source": [
    "# still using our separated classes clicked and not_clicked from above\n",
    "# down sample majority\n",
    "not_click_downsampled = resample(not_clicked,\n",
    "                                replace = False, # sample without replacement\n",
    "                                n_samples = len(clicked), # match minority n\n",
    "                                random_state = 42) # reproducible results\n",
    "\n",
    "# combine minority and downsampled majority\n",
    "downsampled = pd.concat([not_click_downsampled, clicked])\n",
    "\n",
    "# checking counts\n",
    "downsampled.click_target.value_counts()"
   ]
  },
  {
   "cell_type": "code",
   "execution_count": 130,
   "metadata": {},
   "outputs": [
    {
     "data": {
      "image/png": "[encoded data removed]",
      "text/plain": [
       "<Figure size 432x288 with 1 Axes>"
      ]
     },
     "metadata": {
      "needs_background": "light"
     },
     "output_type": "display_data"
    }
   ],
   "source": [
    "downsampled.click_target.value_counts().plot(kind='bar', title='Count (click_target)');"
   ]
  },
  {
   "cell_type": "markdown",
   "metadata": {},
   "source": [
    "### SMOTE Resampling"
   ]
  },
  {
   "cell_type": "code",
   "execution_count": 138,
   "metadata": {},
   "outputs": [],
   "source": [
    "from imblearn.over_sampling import SMOTE"
   ]
  },
  {
   "cell_type": "code",
   "execution_count": 146,
   "metadata": {},
   "outputs": [
    {
     "name": "stdout",
     "output_type": "stream",
     "text": [
      "Before OverSampling, counts of label '1': 35254\n",
      "Before OverSampling, counts of label '0': 53668 \n",
      "\n",
      "After OverSampling, the shape of train_X: (107336, 28)\n",
      "After OverSampling, the shape of train_y: (107336,) \n",
      "\n",
      "After OverSampling, counts of label '1': 53668\n",
      "After OverSampling, counts of label '0': 53668 \n",
      "\n",
      "107336 total examples in y_train_res\n",
      "class 0: 53668 examples, 50.00%\n",
      "class 1: 53668 examples, 50.00%\n",
      "\n"
     ]
    }
   ],
   "source": [
    "print(\"Before OverSampling, counts of label '1': {}\".format(sum(y_train==1)))\n",
    "print(\"Before OverSampling, counts of label '0': {} \\n\".format(sum(y_train==0)))\n",
    "\n",
    "sm = SMOTE(random_state=42)\n",
    "X_train_res, y_train_res = sm.fit_sample(X_train, y_train.ravel())\n",
    "\n",
    "print('After OverSampling, the shape of train_X: {}'.format(X_train_res.shape))\n",
    "print('After OverSampling, the shape of train_y: {} \\n'.format(y_train_res.shape))\n",
    "\n",
    "print(\"After OverSampling, counts of label '1': {}\".format(sum(y_train_res==1)))\n",
    "print(\"After OverSampling, counts of label '0': {} \\n\".format(sum(y_train_res==0)))\n",
    "get_class_dist(data=y_train_res, name='y_train_res')"
   ]
  },
  {
   "cell_type": "code",
   "execution_count": 127,
   "metadata": {},
   "outputs": [],
   "source": [
    "# create plotting function\n",
    "def plot_2d_space(X, y, label='click_target'):   \n",
    "    colors = ['#1F77B4', '#FF7F0E']\n",
    "    markers = ['o', 's']\n",
    "    for l, c, m in zip(np.unique(y), colors, markers):\n",
    "        plt.scatter(\n",
    "            X[y==l, 0],\n",
    "            X[y==l, 1],\n",
    "            c=c, label=l, marker=m, alpha=0.3\n",
    "        )\n",
    "    plt.title(label)\n",
    "    plt.legend(loc='upper right')\n",
    "    plt.show()"
   ]
  },
  {
   "cell_type": "code",
   "execution_count": 145,
   "metadata": {},
   "outputs": [
    {
     "data": {
      "image/png": "[encoded data removed]",
      "text/plain": [
       "<Figure size 432x288 with 1 Axes>"
      ]
     },
     "metadata": {
      "needs_background": "light"
     },
     "output_type": "display_data"
    }
   ],
   "source": [
    "# plot the new resampling\n",
    "plot_2d_space(X_train_res, y_train_res, 'SMOTE over-sampling')"
   ]
  },
  {
   "cell_type": "code",
   "execution_count": null,
   "metadata": {},
   "outputs": [],
   "source": [
    "from sklearn.model_selection import GridSearchCV\n",
    "from sklearn.linear_model import LogisticRegression\n",
    "from sklearn.metrics import confusion_matrix, precision_recall_curve, auc, roc_auc_score, roc_curve, recall_score, classification_report\n",
    "\n",
    "parameters = {\n",
    "    'C': np.linspace(1, 10, 10)\n",
    "             }\n",
    "lr = LogisticRegression()\n",
    "clf = GridSearchCV(lr, parameters, cv=5, verbose=5, n_jobs=3)\n",
    "clf.fit(X_train_res, y_train_res.ravel())"
   ]
  },
  {
   "cell_type": "markdown",
   "metadata": {},
   "source": [
    "## Not Correcting Imbalance"
   ]
  },
  {
   "cell_type": "code",
   "execution_count": null,
   "metadata": {},
   "outputs": [],
   "source": [
    "from sklearn.utils.class_weight import compute_class_weight\n",
    "class_weights = compute_class_weight('balanced', np.unique(y), y)"
   ]
  },
  {
   "cell_type": "markdown",
   "metadata": {},
   "source": [
    "# Feature Selection"
   ]
  },
  {
   "cell_type": "code",
   "execution_count": null,
   "metadata": {},
   "outputs": [],
   "source": [
    "# Recursive Feature Elimination\n",
    "from sklearn import datasets\n",
    "from sklearn.feature_selection import RFE\n",
    "from sklearn.linear_model import LogisticRegression\n",
    "# load the iris dataset\n",
    "dataset = datasets.load_iris()\n",
    "# create a base classifier used to evaluate a subset of attributes\n",
    "model = LogisticRegression()\n",
    "# create the RFE model and select 3 attributes\n",
    "rfe = RFE(model, 3)\n",
    "rfe = rfe.fit(dataset.data, dataset.target)\n",
    "# summarize the selection of the attributes\n",
    "print(rfe.support_)\n",
    "print(rfe.ranking_)"
   ]
  },
  {
   "cell_type": "code",
   "execution_count": null,
   "metadata": {},
   "outputs": [],
   "source": [
    "# Feature Importance\n",
    "from sklearn import datasets\n",
    "from sklearn import metrics\n",
    "from sklearn.ensemble import ExtraTreesClassifier\n",
    "# load the iris datasets\n",
    "dataset = datasets.load_iris()\n",
    "# fit an Extra Trees model to the data\n",
    "model = ExtraTreesClassifier()\n",
    "model.fit(dataset.data, dataset.target)\n",
    "# display the relative importance of each attribute\n",
    "print(model.feature_importances_)"
   ]
  },
  {
   "cell_type": "code",
   "execution_count": null,
   "metadata": {},
   "outputs": [],
   "source": [
    "from sklearn.model_selection import train_test_split\n",
    "\n",
    "data_train, data_test = train_test_split(data, test_size=0.4)\n",
    "data_test, data_val = train_test_split(data_test, test_size=0.5)\n"
   ]
  },
  {
   "cell_type": "markdown",
   "metadata": {},
   "source": [
    "# Standardization "
   ]
  },
  {
   "cell_type": "code",
   "execution_count": null,
   "metadata": {},
   "outputs": [],
   "source": [
    "# Standardise and normalise\n",
    "from sklearn.preprocessing import StandardScaler\n",
    "X_train, X_test, y_train, y_test = train_test_split(StandardScaler().fit_transform(X), y, test_size=0.33, random_state=42)"
   ]
  },
  {
   "cell_type": "markdown",
   "metadata": {},
   "source": [
    "# Evaluation Metrics"
   ]
  },
  {
   "cell_type": "markdown",
   "metadata": {},
   "source": [
    "Change the performance metric\n",
    "\n",
    "As we saw above, accuracy is not the best metric to use when evaluating imbalanced datasets as it can be very misleading. Metrics that can provide better insight include:\n",
    "1. Confusion Matrix: a table showing correct predictions and types of incorrect predictions.\n",
    "\n",
    "2. Precision: the number of true positives divided by all positive predictions. Precision is also called Positive Predictive Value. It is a measure of a classifier’s exactness. Low precision indicates a high number of false positives.\n",
    "3. Recall: the number of true positives divided by the number of positive values in the test data. Recall is also called Sensitivity or the True Positive Rate. It is a measure of a classifier’s completeness. Low recall indicates a high number of false negatives.\n",
    "4. F1: Score: the weighted average of precision and recall."
   ]
  },
  {
   "cell_type": "code",
   "execution_count": null,
   "metadata": {},
   "outputs": [],
   "source": [
    "from sklearn.metrics import confusion_matrix\n",
    "from matplotlib import pyplot as plt\n",
    "\n",
    "conf_mat = confusion_matrix(y_true=y_test, y_pred=y_pred)\n",
    "print('Confusion matrix:\\n', conf_mat)\n",
    "\n",
    "labels = ['Class 0', 'Class 1']\n",
    "fig = plt.figure()\n",
    "ax = fig.add_subplot(111)\n",
    "cax = ax.matshow(conf_mat, cmap=plt.cm.Blues)\n",
    "fig.colorbar(cax)\n",
    "ax.set_xticklabels([''] + labels)\n",
    "ax.set_yticklabels([''] + labels)\n",
    "plt.xlabel('Predicted')\n",
    "plt.ylabel('Expected')\n",
    "plt.show()"
   ]
  },
  {
   "cell_type": "markdown",
   "metadata": {},
   "source": [
    "### F1-score as a fucntion of regularization (penalty) parameter"
   ]
  },
  {
   "cell_type": "code",
   "execution_count": 193,
   "metadata": {},
   "outputs": [
    {
     "data": {
      "image/png": "[encoded data removed]",
      "text/plain": [
       "<matplotlib.figure.Figure at 0x2acbec964e0>"
      ]
     },
     "metadata": {},
     "output_type": "display_data"
    }
   ],
   "source": [
    "from sklearn.linear_model import LogisticRegression\n",
    "from sklearn.metrics import classification_report\n",
    "nsimu=201\n",
    "penalty=[0]*nsimu\n",
    "logmodel=[0]*nsimu\n",
    "predictions =[0]*nsimu\n",
    "class_report = [0]*nsimu\n",
    "f1=[0]*nsimu\n",
    "for i in range(1,nsimu):\n",
    "        logmodel[i] =(LogisticRegression(C=i/1000,tol=1e-4, max_iter=100,n_jobs=4))\n",
    "        logmodel[i].fit(X_train,y_train)\n",
    "        predictions[i] = logmodel[i].predict(X_test)\n",
    "        class_report[i] = classification_report(y_test,predictions[i])\n",
    "        l=class_report[i].split()\n",
    "        f1[i] = l[len(l)-2]\n",
    "        penalty[i]=1000/i\n",
    "\n",
    "plt.scatter(penalty[1:len(penalty)-2],f1[1:len(f1)-2])\n",
    "plt.title(\"F1-score vs. regularization parameter\",fontsize=20)\n",
    "plt.xlabel(\"Penalty parameter\",fontsize=17)\n",
    "plt.ylabel(\"F1-score on test data\",fontsize=17)\n",
    "plt.show()"
   ]
  },
  {
   "cell_type": "markdown",
   "metadata": {},
   "source": [
    "### F1-score as a function of test set size (fraction)"
   ]
  },
  {
   "cell_type": "code",
   "execution_count": 197,
   "metadata": {},
   "outputs": [
    {
     "data": {
      "image/png": "[encoded data removed]",
      "text/plain": [
       "<matplotlib.figure.Figure at 0x2acbcc90d30>"
      ]
     },
     "metadata": {},
     "output_type": "display_data"
    }
   ],
   "source": [
    "nsimu=101\n",
    "class_report = [0]*nsimu\n",
    "f1=[0]*nsimu\n",
    "test_fraction =[0]*nsimu\n",
    "for i in range(1,nsimu):\n",
    "        X_train, X_test, y_train, y_test = train_test_split(train.drop('Survived',axis=1), \n",
    "                                                    train['Survived'], test_size=0.1+(i-1)*0.007, \n",
    "                                                    random_state=111)\n",
    "        logmodel =(LogisticRegression(C=1,tol=1e-4, max_iter=1000,n_jobs=4))\n",
    "        logmodel.fit(X_train,y_train)\n",
    "        predictions = logmodel.predict(X_test)\n",
    "        class_report[i] = classification_report(y_test,predictions)\n",
    "        l=class_report[i].split()\n",
    "        f1[i] = l[len(l)-2]\n",
    "        test_fraction[i]=0.1+(i-1)*0.007\n",
    "\n",
    "plt.plot(test_fraction[1:len(test_fraction)-2],f1[1:len(f1)-2])\n",
    "plt.title(\"F1-score vs. test set size (fraction)\",fontsize=20)\n",
    "plt.xlabel(\"Test set size (fraction)\",fontsize=17)\n",
    "plt.ylabel(\"F1-score on test data\",fontsize=17)\n",
    "plt.show()"
   ]
  }
 ],
 "metadata": {
  "kernelspec": {
   "display_name": "PyCharm (bhn-ctr-optimization)",
   "language": "python",
   "name": "pycharm-23409a61"
  },
  "language_info": {
   "codemirror_mode": {
    "name": "ipython",
    "version": 3
   },
   "file_extension": ".py",
   "mimetype": "text/x-python",
   "name": "python",
   "nbconvert_exporter": "python",
   "pygments_lexer": "ipython3",
   "version": "3.7.1"
  },
  "pycharm": {
   "stem_cell": {
    "cell_type": "raw",
    "metadata": {
     "collapsed": false
    },
    "source": []
   }
  }
 },
 "nbformat": 4,
 "nbformat_minor": 4
}
