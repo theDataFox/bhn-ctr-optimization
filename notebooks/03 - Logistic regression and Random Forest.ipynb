{
 "cells": [
  {
   "cell_type": "markdown",
   "metadata": {},
   "source": [
    "# Feature Engineering and Logistic Regression"
   ]
  },
  {
   "cell_type": "markdown",
   "metadata": {},
   "source": [
    "# Introduction"
   ]
  },
  {
   "cell_type": "markdown",
   "metadata": {},
   "source": [
    "Here I will create feature variables for use with the logistic regerssion model to create a baseline performance for predicting CTR on Google AdWords data."
   ]
  },
  {
   "cell_type": "markdown",
   "metadata": {},
   "source": [
    "# Load Processed Data"
   ]
  },
  {
   "cell_type": "code",
   "execution_count": 232,
   "metadata": {},
   "outputs": [],
   "source": [
    "import numpy as np\n",
    "import matplotlib.pyplot as plt\n",
    "from sklearn.preprocessing import OrdinalEncoder, StandardScaler\n",
    "%matplotlib inline"
   ]
  },
  {
   "cell_type": "code",
   "execution_count": 209,
   "metadata": {},
   "outputs": [],
   "source": [
    "import pandas as pd\n",
    "train_data = pd.read_csv('train_data_no_text.csv', \n",
    "                        parse_dates=['Date'])"
   ]
  },
  {
   "cell_type": "code",
   "execution_count": 210,
   "metadata": {},
   "outputs": [
    {
     "data": {
      "text/html": [
       "<div>\n",
       "<style scoped>\n",
       "    .dataframe tbody tr th:only-of-type {\n",
       "        vertical-align: middle;\n",
       "    }\n",
       "\n",
       "    .dataframe tbody tr th {\n",
       "        vertical-align: top;\n",
       "    }\n",
       "\n",
       "    .dataframe thead th {\n",
       "        text-align: right;\n",
       "    }\n",
       "</style>\n",
       "<table border=\"1\" class=\"dataframe\">\n",
       "  <thead>\n",
       "    <tr style=\"text-align: right;\">\n",
       "      <th></th>\n",
       "      <th>Unnamed: 0</th>\n",
       "      <th>Ad ID</th>\n",
       "      <th>Ad group ID</th>\n",
       "      <th>Campaign ID</th>\n",
       "      <th>Keyword ID</th>\n",
       "      <th>Search term match type</th>\n",
       "      <th>Date</th>\n",
       "      <th>Day of week</th>\n",
       "      <th>Device</th>\n",
       "      <th>Quality score</th>\n",
       "      <th>...</th>\n",
       "      <th>Landing page experience</th>\n",
       "      <th>Avg. position</th>\n",
       "      <th>Impressions</th>\n",
       "      <th>Clicks</th>\n",
       "      <th>Cost</th>\n",
       "      <th>Conversions</th>\n",
       "      <th>click_target</th>\n",
       "      <th>ctr</th>\n",
       "      <th>Month</th>\n",
       "      <th>Day of Month</th>\n",
       "    </tr>\n",
       "  </thead>\n",
       "  <tbody>\n",
       "    <tr>\n",
       "      <th>0</th>\n",
       "      <td>0</td>\n",
       "      <td>240574173525</td>\n",
       "      <td>46423626238</td>\n",
       "      <td>908117249</td>\n",
       "      <td>296868692064</td>\n",
       "      <td>Broad</td>\n",
       "      <td>2018-03-26</td>\n",
       "      <td>Monday</td>\n",
       "      <td>Mobile</td>\n",
       "      <td>--</td>\n",
       "      <td>...</td>\n",
       "      <td>--</td>\n",
       "      <td>2.0</td>\n",
       "      <td>1</td>\n",
       "      <td>0</td>\n",
       "      <td>0.00</td>\n",
       "      <td>0.0</td>\n",
       "      <td>0</td>\n",
       "      <td>0.0</td>\n",
       "      <td>3</td>\n",
       "      <td>26</td>\n",
       "    </tr>\n",
       "    <tr>\n",
       "      <th>1</th>\n",
       "      <td>1</td>\n",
       "      <td>217160772198</td>\n",
       "      <td>47045144564</td>\n",
       "      <td>908117249</td>\n",
       "      <td>347502862051</td>\n",
       "      <td>Exact</td>\n",
       "      <td>2017-09-01</td>\n",
       "      <td>Friday</td>\n",
       "      <td>Mobile</td>\n",
       "      <td>--</td>\n",
       "      <td>...</td>\n",
       "      <td>--</td>\n",
       "      <td>2.0</td>\n",
       "      <td>1</td>\n",
       "      <td>0</td>\n",
       "      <td>0.00</td>\n",
       "      <td>0.0</td>\n",
       "      <td>0</td>\n",
       "      <td>0.0</td>\n",
       "      <td>9</td>\n",
       "      <td>1</td>\n",
       "    </tr>\n",
       "    <tr>\n",
       "      <th>2</th>\n",
       "      <td>2</td>\n",
       "      <td>240574173525</td>\n",
       "      <td>46423626238</td>\n",
       "      <td>908117249</td>\n",
       "      <td>296868692064</td>\n",
       "      <td>Phrase</td>\n",
       "      <td>2018-04-30</td>\n",
       "      <td>Monday</td>\n",
       "      <td>Mobile</td>\n",
       "      <td>--</td>\n",
       "      <td>...</td>\n",
       "      <td>--</td>\n",
       "      <td>3.0</td>\n",
       "      <td>1</td>\n",
       "      <td>0</td>\n",
       "      <td>0.00</td>\n",
       "      <td>0.0</td>\n",
       "      <td>0</td>\n",
       "      <td>0.0</td>\n",
       "      <td>4</td>\n",
       "      <td>30</td>\n",
       "    </tr>\n",
       "    <tr>\n",
       "      <th>3</th>\n",
       "      <td>3</td>\n",
       "      <td>357859796080</td>\n",
       "      <td>53253585965</td>\n",
       "      <td>1376132377</td>\n",
       "      <td>442183914904</td>\n",
       "      <td>Exact</td>\n",
       "      <td>2019-07-05</td>\n",
       "      <td>Friday</td>\n",
       "      <td>Mobile</td>\n",
       "      <td>9</td>\n",
       "      <td>...</td>\n",
       "      <td>Above average</td>\n",
       "      <td>1.0</td>\n",
       "      <td>1</td>\n",
       "      <td>1</td>\n",
       "      <td>0.38</td>\n",
       "      <td>0.5</td>\n",
       "      <td>1</td>\n",
       "      <td>1.0</td>\n",
       "      <td>7</td>\n",
       "      <td>5</td>\n",
       "    </tr>\n",
       "    <tr>\n",
       "      <th>4</th>\n",
       "      <td>4</td>\n",
       "      <td>314179203506</td>\n",
       "      <td>53253584085</td>\n",
       "      <td>1376048789</td>\n",
       "      <td>354206717502</td>\n",
       "      <td>Exact</td>\n",
       "      <td>2019-07-06</td>\n",
       "      <td>Saturday</td>\n",
       "      <td>Desktop</td>\n",
       "      <td>9</td>\n",
       "      <td>...</td>\n",
       "      <td>Above average</td>\n",
       "      <td>1.0</td>\n",
       "      <td>1</td>\n",
       "      <td>1</td>\n",
       "      <td>0.27</td>\n",
       "      <td>0.0</td>\n",
       "      <td>1</td>\n",
       "      <td>1.0</td>\n",
       "      <td>7</td>\n",
       "      <td>6</td>\n",
       "    </tr>\n",
       "  </tbody>\n",
       "</table>\n",
       "<p>5 rows × 25 columns</p>\n",
       "</div>"
      ],
      "text/plain": [
       "   Unnamed: 0         Ad ID  Ad group ID  Campaign ID    Keyword ID  \\\n",
       "0           0  240574173525  46423626238    908117249  296868692064   \n",
       "1           1  217160772198  47045144564    908117249  347502862051   \n",
       "2           2  240574173525  46423626238    908117249  296868692064   \n",
       "3           3  357859796080  53253585965   1376132377  442183914904   \n",
       "4           4  314179203506  53253584085   1376048789  354206717502   \n",
       "\n",
       "  Search term match type       Date Day of week   Device Quality score  ...  \\\n",
       "0                  Broad 2018-03-26      Monday   Mobile            --  ...   \n",
       "1                  Exact 2017-09-01      Friday   Mobile            --  ...   \n",
       "2                 Phrase 2018-04-30      Monday   Mobile            --  ...   \n",
       "3                  Exact 2019-07-05      Friday   Mobile             9  ...   \n",
       "4                  Exact 2019-07-06    Saturday  Desktop             9  ...   \n",
       "\n",
       "  Landing page experience Avg. position  Impressions  Clicks  Cost  \\\n",
       "0                      --           2.0            1       0  0.00   \n",
       "1                      --           2.0            1       0  0.00   \n",
       "2                      --           3.0            1       0  0.00   \n",
       "3           Above average           1.0            1       1  0.38   \n",
       "4           Above average           1.0            1       1  0.27   \n",
       "\n",
       "  Conversions  click_target  ctr  Month  Day of Month  \n",
       "0         0.0             0  0.0      3            26  \n",
       "1         0.0             0  0.0      9             1  \n",
       "2         0.0             0  0.0      4            30  \n",
       "3         0.5             1  1.0      7             5  \n",
       "4         0.0             1  1.0      7             6  \n",
       "\n",
       "[5 rows x 25 columns]"
      ]
     },
     "execution_count": 210,
     "metadata": {},
     "output_type": "execute_result"
    }
   ],
   "source": [
    "train_data.head()"
   ]
  },
  {
   "cell_type": "code",
   "execution_count": 211,
   "metadata": {},
   "outputs": [
    {
     "data": {
      "text/plain": [
       "Index(['Unnamed: 0', 'Ad ID', 'Ad group ID', 'Campaign ID', 'Keyword ID',\n",
       "       'Search term match type', 'Date', 'Day of week', 'Device',\n",
       "       'Quality score', 'Expected clickthrough rate', 'Ad relevance',\n",
       "       'Keyword max CPC', 'First position CPC', 'Top of page CPC',\n",
       "       'Landing page experience', 'Avg. position', 'Impressions', 'Clicks',\n",
       "       'Cost', 'Conversions', 'click_target', 'ctr', 'Month', 'Day of Month'],\n",
       "      dtype='object')"
      ]
     },
     "execution_count": 211,
     "metadata": {},
     "output_type": "execute_result"
    }
   ],
   "source": [
    "train_data.columns"
   ]
  },
  {
   "cell_type": "code",
   "execution_count": 212,
   "metadata": {},
   "outputs": [],
   "source": [
    "# for drop text based features\n",
    "train_data.drop(columns=['Unnamed: 0', 'Ad group ID', 'Conversions'], inplace=True)"
   ]
  },
  {
   "cell_type": "code",
   "execution_count": 213,
   "metadata": {},
   "outputs": [
    {
     "data": {
      "text/html": [
       "<div>\n",
       "<style scoped>\n",
       "    .dataframe tbody tr th:only-of-type {\n",
       "        vertical-align: middle;\n",
       "    }\n",
       "\n",
       "    .dataframe tbody tr th {\n",
       "        vertical-align: top;\n",
       "    }\n",
       "\n",
       "    .dataframe thead th {\n",
       "        text-align: right;\n",
       "    }\n",
       "</style>\n",
       "<table border=\"1\" class=\"dataframe\">\n",
       "  <thead>\n",
       "    <tr style=\"text-align: right;\">\n",
       "      <th></th>\n",
       "      <th>Ad ID</th>\n",
       "      <th>Campaign ID</th>\n",
       "      <th>Keyword ID</th>\n",
       "      <th>Search term match type</th>\n",
       "      <th>Date</th>\n",
       "      <th>Day of week</th>\n",
       "      <th>Device</th>\n",
       "      <th>Quality score</th>\n",
       "      <th>Expected clickthrough rate</th>\n",
       "      <th>Ad relevance</th>\n",
       "      <th>...</th>\n",
       "      <th>Top of page CPC</th>\n",
       "      <th>Landing page experience</th>\n",
       "      <th>Avg. position</th>\n",
       "      <th>Impressions</th>\n",
       "      <th>Clicks</th>\n",
       "      <th>Cost</th>\n",
       "      <th>click_target</th>\n",
       "      <th>ctr</th>\n",
       "      <th>Month</th>\n",
       "      <th>Day of Month</th>\n",
       "    </tr>\n",
       "  </thead>\n",
       "  <tbody>\n",
       "    <tr>\n",
       "      <th>0</th>\n",
       "      <td>240574173525</td>\n",
       "      <td>908117249</td>\n",
       "      <td>296868692064</td>\n",
       "      <td>Broad</td>\n",
       "      <td>2018-03-26</td>\n",
       "      <td>Monday</td>\n",
       "      <td>Mobile</td>\n",
       "      <td>--</td>\n",
       "      <td>--</td>\n",
       "      <td>--</td>\n",
       "      <td>...</td>\n",
       "      <td>0.80</td>\n",
       "      <td>--</td>\n",
       "      <td>2.0</td>\n",
       "      <td>1</td>\n",
       "      <td>0</td>\n",
       "      <td>0.00</td>\n",
       "      <td>0</td>\n",
       "      <td>0.0</td>\n",
       "      <td>3</td>\n",
       "      <td>26</td>\n",
       "    </tr>\n",
       "    <tr>\n",
       "      <th>1</th>\n",
       "      <td>217160772198</td>\n",
       "      <td>908117249</td>\n",
       "      <td>347502862051</td>\n",
       "      <td>Exact</td>\n",
       "      <td>2017-09-01</td>\n",
       "      <td>Friday</td>\n",
       "      <td>Mobile</td>\n",
       "      <td>--</td>\n",
       "      <td>--</td>\n",
       "      <td>--</td>\n",
       "      <td>...</td>\n",
       "      <td>0.35</td>\n",
       "      <td>--</td>\n",
       "      <td>2.0</td>\n",
       "      <td>1</td>\n",
       "      <td>0</td>\n",
       "      <td>0.00</td>\n",
       "      <td>0</td>\n",
       "      <td>0.0</td>\n",
       "      <td>9</td>\n",
       "      <td>1</td>\n",
       "    </tr>\n",
       "    <tr>\n",
       "      <th>2</th>\n",
       "      <td>240574173525</td>\n",
       "      <td>908117249</td>\n",
       "      <td>296868692064</td>\n",
       "      <td>Phrase</td>\n",
       "      <td>2018-04-30</td>\n",
       "      <td>Monday</td>\n",
       "      <td>Mobile</td>\n",
       "      <td>--</td>\n",
       "      <td>--</td>\n",
       "      <td>--</td>\n",
       "      <td>...</td>\n",
       "      <td>0.80</td>\n",
       "      <td>--</td>\n",
       "      <td>3.0</td>\n",
       "      <td>1</td>\n",
       "      <td>0</td>\n",
       "      <td>0.00</td>\n",
       "      <td>0</td>\n",
       "      <td>0.0</td>\n",
       "      <td>4</td>\n",
       "      <td>30</td>\n",
       "    </tr>\n",
       "    <tr>\n",
       "      <th>3</th>\n",
       "      <td>357859796080</td>\n",
       "      <td>1376132377</td>\n",
       "      <td>442183914904</td>\n",
       "      <td>Exact</td>\n",
       "      <td>2019-07-05</td>\n",
       "      <td>Friday</td>\n",
       "      <td>Mobile</td>\n",
       "      <td>9</td>\n",
       "      <td>Above average</td>\n",
       "      <td>Average</td>\n",
       "      <td>...</td>\n",
       "      <td>0.14</td>\n",
       "      <td>Above average</td>\n",
       "      <td>1.0</td>\n",
       "      <td>1</td>\n",
       "      <td>1</td>\n",
       "      <td>0.38</td>\n",
       "      <td>1</td>\n",
       "      <td>1.0</td>\n",
       "      <td>7</td>\n",
       "      <td>5</td>\n",
       "    </tr>\n",
       "    <tr>\n",
       "      <th>4</th>\n",
       "      <td>314179203506</td>\n",
       "      <td>1376048789</td>\n",
       "      <td>354206717502</td>\n",
       "      <td>Exact</td>\n",
       "      <td>2019-07-06</td>\n",
       "      <td>Saturday</td>\n",
       "      <td>Desktop</td>\n",
       "      <td>9</td>\n",
       "      <td>Above average</td>\n",
       "      <td>Average</td>\n",
       "      <td>...</td>\n",
       "      <td>0.12</td>\n",
       "      <td>Above average</td>\n",
       "      <td>1.0</td>\n",
       "      <td>1</td>\n",
       "      <td>1</td>\n",
       "      <td>0.27</td>\n",
       "      <td>1</td>\n",
       "      <td>1.0</td>\n",
       "      <td>7</td>\n",
       "      <td>6</td>\n",
       "    </tr>\n",
       "  </tbody>\n",
       "</table>\n",
       "<p>5 rows × 22 columns</p>\n",
       "</div>"
      ],
      "text/plain": [
       "          Ad ID  Campaign ID    Keyword ID Search term match type       Date  \\\n",
       "0  240574173525    908117249  296868692064                  Broad 2018-03-26   \n",
       "1  217160772198    908117249  347502862051                  Exact 2017-09-01   \n",
       "2  240574173525    908117249  296868692064                 Phrase 2018-04-30   \n",
       "3  357859796080   1376132377  442183914904                  Exact 2019-07-05   \n",
       "4  314179203506   1376048789  354206717502                  Exact 2019-07-06   \n",
       "\n",
       "  Day of week   Device Quality score Expected clickthrough rate Ad relevance  \\\n",
       "0      Monday   Mobile            --                         --           --   \n",
       "1      Friday   Mobile            --                         --           --   \n",
       "2      Monday   Mobile            --                         --           --   \n",
       "3      Friday   Mobile             9              Above average      Average   \n",
       "4    Saturday  Desktop             9              Above average      Average   \n",
       "\n",
       "   ...  Top of page CPC  Landing page experience  Avg. position Impressions  \\\n",
       "0  ...             0.80                       --            2.0           1   \n",
       "1  ...             0.35                       --            2.0           1   \n",
       "2  ...             0.80                       --            3.0           1   \n",
       "3  ...             0.14            Above average            1.0           1   \n",
       "4  ...             0.12            Above average            1.0           1   \n",
       "\n",
       "   Clicks  Cost  click_target  ctr  Month  Day of Month  \n",
       "0       0  0.00             0  0.0      3            26  \n",
       "1       0  0.00             0  0.0      9             1  \n",
       "2       0  0.00             0  0.0      4            30  \n",
       "3       1  0.38             1  1.0      7             5  \n",
       "4       1  0.27             1  1.0      7             6  \n",
       "\n",
       "[5 rows x 22 columns]"
      ]
     },
     "execution_count": 213,
     "metadata": {},
     "output_type": "execute_result"
    }
   ],
   "source": [
    "train_data.head()"
   ]
  },
  {
   "cell_type": "code",
   "execution_count": 214,
   "metadata": {},
   "outputs": [
    {
     "data": {
      "text/plain": [
       "<matplotlib.axes._subplots.AxesSubplot at 0x1be4a0e0c50>"
      ]
     },
     "execution_count": 214,
     "metadata": {},
     "output_type": "execute_result"
    },
    {
     "data": {
      "image/png": "[encoded data removed]",
      "text/plain": [
       "<Figure size 432x288 with 1 Axes>"
      ]
     },
     "metadata": {
      "needs_background": "light"
     },
     "output_type": "display_data"
    }
   ],
   "source": [
    "# a quick glance at class balance\n",
    "train_data.groupby('click_target').size().plot(kind = 'bar')"
   ]
  },
  {
   "cell_type": "markdown",
   "metadata": {},
   "source": [
    "There is class imbalnce this will ned to tbe fixed before modelling"
   ]
  },
  {
   "cell_type": "markdown",
   "metadata": {},
   "source": [
    "# Pre-Processing"
   ]
  },
  {
   "cell_type": "code",
   "execution_count": 215,
   "metadata": {},
   "outputs": [
    {
     "name": "stdout",
     "output_type": "stream",
     "text": [
      "0\n"
     ]
    }
   ],
   "source": [
    "# check for any NaN\n",
    "print(train_data.isna().values.sum())"
   ]
  },
  {
   "cell_type": "markdown",
   "metadata": {},
   "source": [
    "## Create new features from time\n"
   ]
  },
  {
   "cell_type": "code",
   "execution_count": 216,
   "metadata": {},
   "outputs": [],
   "source": [
    "train_data['Day of Year'] = train_data['Date'].dt.dayofyear\n",
    "train_data['Week of Year'] = train_data['Date'].dt.week\n",
    "train_data['Day of Week'] = train_data['Date'].dt.dayofweek"
   ]
  },
  {
   "cell_type": "markdown",
   "metadata": {},
   "source": [
    "### Remove all NaN "
   ]
  },
  {
   "cell_type": "code",
   "execution_count": 217,
   "metadata": {},
   "outputs": [
    {
     "data": {
      "text/html": [
       "<div>\n",
       "<style scoped>\n",
       "    .dataframe tbody tr th:only-of-type {\n",
       "        vertical-align: middle;\n",
       "    }\n",
       "\n",
       "    .dataframe tbody tr th {\n",
       "        vertical-align: top;\n",
       "    }\n",
       "\n",
       "    .dataframe thead th {\n",
       "        text-align: right;\n",
       "    }\n",
       "</style>\n",
       "<table border=\"1\" class=\"dataframe\">\n",
       "  <thead>\n",
       "    <tr style=\"text-align: right;\">\n",
       "      <th></th>\n",
       "      <th>Ad ID</th>\n",
       "      <th>Campaign ID</th>\n",
       "      <th>Keyword ID</th>\n",
       "      <th>Search term match type</th>\n",
       "      <th>Date</th>\n",
       "      <th>Day of week</th>\n",
       "      <th>Device</th>\n",
       "      <th>Quality score</th>\n",
       "      <th>Expected clickthrough rate</th>\n",
       "      <th>Ad relevance</th>\n",
       "      <th>...</th>\n",
       "      <th>Impressions</th>\n",
       "      <th>Clicks</th>\n",
       "      <th>Cost</th>\n",
       "      <th>click_target</th>\n",
       "      <th>ctr</th>\n",
       "      <th>Month</th>\n",
       "      <th>Day of Month</th>\n",
       "      <th>Day of Year</th>\n",
       "      <th>Week of Year</th>\n",
       "      <th>Day of Week</th>\n",
       "    </tr>\n",
       "  </thead>\n",
       "  <tbody>\n",
       "    <tr>\n",
       "      <th>0</th>\n",
       "      <td>240574173525</td>\n",
       "      <td>908117249</td>\n",
       "      <td>296868692064</td>\n",
       "      <td>Broad</td>\n",
       "      <td>2018-03-26</td>\n",
       "      <td>Monday</td>\n",
       "      <td>Mobile</td>\n",
       "      <td>--</td>\n",
       "      <td>--</td>\n",
       "      <td>--</td>\n",
       "      <td>...</td>\n",
       "      <td>1</td>\n",
       "      <td>0</td>\n",
       "      <td>0.00</td>\n",
       "      <td>0</td>\n",
       "      <td>0.0</td>\n",
       "      <td>3</td>\n",
       "      <td>26</td>\n",
       "      <td>85</td>\n",
       "      <td>13</td>\n",
       "      <td>0</td>\n",
       "    </tr>\n",
       "    <tr>\n",
       "      <th>1</th>\n",
       "      <td>217160772198</td>\n",
       "      <td>908117249</td>\n",
       "      <td>347502862051</td>\n",
       "      <td>Exact</td>\n",
       "      <td>2017-09-01</td>\n",
       "      <td>Friday</td>\n",
       "      <td>Mobile</td>\n",
       "      <td>--</td>\n",
       "      <td>--</td>\n",
       "      <td>--</td>\n",
       "      <td>...</td>\n",
       "      <td>1</td>\n",
       "      <td>0</td>\n",
       "      <td>0.00</td>\n",
       "      <td>0</td>\n",
       "      <td>0.0</td>\n",
       "      <td>9</td>\n",
       "      <td>1</td>\n",
       "      <td>244</td>\n",
       "      <td>35</td>\n",
       "      <td>4</td>\n",
       "    </tr>\n",
       "    <tr>\n",
       "      <th>2</th>\n",
       "      <td>240574173525</td>\n",
       "      <td>908117249</td>\n",
       "      <td>296868692064</td>\n",
       "      <td>Phrase</td>\n",
       "      <td>2018-04-30</td>\n",
       "      <td>Monday</td>\n",
       "      <td>Mobile</td>\n",
       "      <td>--</td>\n",
       "      <td>--</td>\n",
       "      <td>--</td>\n",
       "      <td>...</td>\n",
       "      <td>1</td>\n",
       "      <td>0</td>\n",
       "      <td>0.00</td>\n",
       "      <td>0</td>\n",
       "      <td>0.0</td>\n",
       "      <td>4</td>\n",
       "      <td>30</td>\n",
       "      <td>120</td>\n",
       "      <td>18</td>\n",
       "      <td>0</td>\n",
       "    </tr>\n",
       "    <tr>\n",
       "      <th>3</th>\n",
       "      <td>357859796080</td>\n",
       "      <td>1376132377</td>\n",
       "      <td>442183914904</td>\n",
       "      <td>Exact</td>\n",
       "      <td>2019-07-05</td>\n",
       "      <td>Friday</td>\n",
       "      <td>Mobile</td>\n",
       "      <td>9</td>\n",
       "      <td>Above average</td>\n",
       "      <td>Average</td>\n",
       "      <td>...</td>\n",
       "      <td>1</td>\n",
       "      <td>1</td>\n",
       "      <td>0.38</td>\n",
       "      <td>1</td>\n",
       "      <td>1.0</td>\n",
       "      <td>7</td>\n",
       "      <td>5</td>\n",
       "      <td>186</td>\n",
       "      <td>27</td>\n",
       "      <td>4</td>\n",
       "    </tr>\n",
       "    <tr>\n",
       "      <th>4</th>\n",
       "      <td>314179203506</td>\n",
       "      <td>1376048789</td>\n",
       "      <td>354206717502</td>\n",
       "      <td>Exact</td>\n",
       "      <td>2019-07-06</td>\n",
       "      <td>Saturday</td>\n",
       "      <td>Desktop</td>\n",
       "      <td>9</td>\n",
       "      <td>Above average</td>\n",
       "      <td>Average</td>\n",
       "      <td>...</td>\n",
       "      <td>1</td>\n",
       "      <td>1</td>\n",
       "      <td>0.27</td>\n",
       "      <td>1</td>\n",
       "      <td>1.0</td>\n",
       "      <td>7</td>\n",
       "      <td>6</td>\n",
       "      <td>187</td>\n",
       "      <td>27</td>\n",
       "      <td>5</td>\n",
       "    </tr>\n",
       "  </tbody>\n",
       "</table>\n",
       "<p>5 rows × 25 columns</p>\n",
       "</div>"
      ],
      "text/plain": [
       "          Ad ID  Campaign ID    Keyword ID Search term match type       Date  \\\n",
       "0  240574173525    908117249  296868692064                  Broad 2018-03-26   \n",
       "1  217160772198    908117249  347502862051                  Exact 2017-09-01   \n",
       "2  240574173525    908117249  296868692064                 Phrase 2018-04-30   \n",
       "3  357859796080   1376132377  442183914904                  Exact 2019-07-05   \n",
       "4  314179203506   1376048789  354206717502                  Exact 2019-07-06   \n",
       "\n",
       "  Day of week   Device Quality score Expected clickthrough rate Ad relevance  \\\n",
       "0      Monday   Mobile            --                         --           --   \n",
       "1      Friday   Mobile            --                         --           --   \n",
       "2      Monday   Mobile            --                         --           --   \n",
       "3      Friday   Mobile             9              Above average      Average   \n",
       "4    Saturday  Desktop             9              Above average      Average   \n",
       "\n",
       "   ...  Impressions  Clicks  Cost click_target  ctr  Month  Day of Month  \\\n",
       "0  ...            1       0  0.00            0  0.0      3            26   \n",
       "1  ...            1       0  0.00            0  0.0      9             1   \n",
       "2  ...            1       0  0.00            0  0.0      4            30   \n",
       "3  ...            1       1  0.38            1  1.0      7             5   \n",
       "4  ...            1       1  0.27            1  1.0      7             6   \n",
       "\n",
       "   Day of Year  Week of Year  Day of Week  \n",
       "0           85            13            0  \n",
       "1          244            35            4  \n",
       "2          120            18            0  \n",
       "3          186            27            4  \n",
       "4          187            27            5  \n",
       "\n",
       "[5 rows x 25 columns]"
      ]
     },
     "execution_count": 217,
     "metadata": {},
     "output_type": "execute_result"
    }
   ],
   "source": [
    "# take one value for sense checking\n",
    "train_data.head()"
   ]
  },
  {
   "cell_type": "markdown",
   "metadata": {},
   "source": [
    "### Replace '--' in AdWords Data with NaN"
   ]
  },
  {
   "cell_type": "code",
   "execution_count": 218,
   "metadata": {},
   "outputs": [],
   "source": [
    "# replace '--' with NaN\n",
    "train_data = train_data.replace({'--': np.nan}, regex=True)"
   ]
  },
  {
   "cell_type": "code",
   "execution_count": 219,
   "metadata": {},
   "outputs": [],
   "source": [
    "# remove all entries with NaN\n",
    "train_data = train_data.dropna()"
   ]
  },
  {
   "cell_type": "code",
   "execution_count": 220,
   "metadata": {},
   "outputs": [
    {
     "name": "stdout",
     "output_type": "stream",
     "text": [
      "0\n"
     ]
    }
   ],
   "source": [
    "# check for any NaN\n",
    "print(train_data.isna().values.sum())"
   ]
  },
  {
   "cell_type": "code",
   "execution_count": 221,
   "metadata": {},
   "outputs": [
    {
     "data": {
      "text/html": [
       "<div>\n",
       "<style scoped>\n",
       "    .dataframe tbody tr th:only-of-type {\n",
       "        vertical-align: middle;\n",
       "    }\n",
       "\n",
       "    .dataframe tbody tr th {\n",
       "        vertical-align: top;\n",
       "    }\n",
       "\n",
       "    .dataframe thead th {\n",
       "        text-align: right;\n",
       "    }\n",
       "</style>\n",
       "<table border=\"1\" class=\"dataframe\">\n",
       "  <thead>\n",
       "    <tr style=\"text-align: right;\">\n",
       "      <th></th>\n",
       "      <th>Ad ID</th>\n",
       "      <th>Campaign ID</th>\n",
       "      <th>Keyword ID</th>\n",
       "      <th>Search term match type</th>\n",
       "      <th>Date</th>\n",
       "      <th>Day of week</th>\n",
       "      <th>Device</th>\n",
       "      <th>Quality score</th>\n",
       "      <th>Expected clickthrough rate</th>\n",
       "      <th>Ad relevance</th>\n",
       "      <th>...</th>\n",
       "      <th>Impressions</th>\n",
       "      <th>Clicks</th>\n",
       "      <th>Cost</th>\n",
       "      <th>click_target</th>\n",
       "      <th>ctr</th>\n",
       "      <th>Month</th>\n",
       "      <th>Day of Month</th>\n",
       "      <th>Day of Year</th>\n",
       "      <th>Week of Year</th>\n",
       "      <th>Day of Week</th>\n",
       "    </tr>\n",
       "  </thead>\n",
       "  <tbody>\n",
       "    <tr>\n",
       "      <th>3</th>\n",
       "      <td>357859796080</td>\n",
       "      <td>1376132377</td>\n",
       "      <td>442183914904</td>\n",
       "      <td>Exact</td>\n",
       "      <td>2019-07-05</td>\n",
       "      <td>Friday</td>\n",
       "      <td>Mobile</td>\n",
       "      <td>9</td>\n",
       "      <td>Above average</td>\n",
       "      <td>Average</td>\n",
       "      <td>...</td>\n",
       "      <td>1</td>\n",
       "      <td>1</td>\n",
       "      <td>0.38</td>\n",
       "      <td>1</td>\n",
       "      <td>1.000000</td>\n",
       "      <td>7</td>\n",
       "      <td>5</td>\n",
       "      <td>186</td>\n",
       "      <td>27</td>\n",
       "      <td>4</td>\n",
       "    </tr>\n",
       "    <tr>\n",
       "      <th>4</th>\n",
       "      <td>314179203506</td>\n",
       "      <td>1376048789</td>\n",
       "      <td>354206717502</td>\n",
       "      <td>Exact</td>\n",
       "      <td>2019-07-06</td>\n",
       "      <td>Saturday</td>\n",
       "      <td>Desktop</td>\n",
       "      <td>9</td>\n",
       "      <td>Above average</td>\n",
       "      <td>Average</td>\n",
       "      <td>...</td>\n",
       "      <td>1</td>\n",
       "      <td>1</td>\n",
       "      <td>0.27</td>\n",
       "      <td>1</td>\n",
       "      <td>1.000000</td>\n",
       "      <td>7</td>\n",
       "      <td>6</td>\n",
       "      <td>187</td>\n",
       "      <td>27</td>\n",
       "      <td>5</td>\n",
       "    </tr>\n",
       "    <tr>\n",
       "      <th>8</th>\n",
       "      <td>314179203965</td>\n",
       "      <td>1376133520</td>\n",
       "      <td>315359911820</td>\n",
       "      <td>Broad</td>\n",
       "      <td>2019-07-07</td>\n",
       "      <td>Sunday</td>\n",
       "      <td>Tablet</td>\n",
       "      <td>8</td>\n",
       "      <td>Above average</td>\n",
       "      <td>Below average</td>\n",
       "      <td>...</td>\n",
       "      <td>2</td>\n",
       "      <td>0</td>\n",
       "      <td>0.00</td>\n",
       "      <td>0</td>\n",
       "      <td>0.000000</td>\n",
       "      <td>7</td>\n",
       "      <td>7</td>\n",
       "      <td>188</td>\n",
       "      <td>27</td>\n",
       "      <td>6</td>\n",
       "    </tr>\n",
       "    <tr>\n",
       "      <th>9</th>\n",
       "      <td>357859796818</td>\n",
       "      <td>1376524026</td>\n",
       "      <td>443040648236</td>\n",
       "      <td>Phrase</td>\n",
       "      <td>2019-07-17</td>\n",
       "      <td>Wednesday</td>\n",
       "      <td>Mobile</td>\n",
       "      <td>8</td>\n",
       "      <td>Above average</td>\n",
       "      <td>Below average</td>\n",
       "      <td>...</td>\n",
       "      <td>1</td>\n",
       "      <td>1</td>\n",
       "      <td>0.07</td>\n",
       "      <td>1</td>\n",
       "      <td>1.000000</td>\n",
       "      <td>7</td>\n",
       "      <td>17</td>\n",
       "      <td>198</td>\n",
       "      <td>29</td>\n",
       "      <td>2</td>\n",
       "    </tr>\n",
       "    <tr>\n",
       "      <th>11</th>\n",
       "      <td>314179203962</td>\n",
       "      <td>1376133520</td>\n",
       "      <td>441743760160</td>\n",
       "      <td>Broad</td>\n",
       "      <td>2019-07-17</td>\n",
       "      <td>Wednesday</td>\n",
       "      <td>Mobile</td>\n",
       "      <td>8</td>\n",
       "      <td>Above average</td>\n",
       "      <td>Below average</td>\n",
       "      <td>...</td>\n",
       "      <td>3</td>\n",
       "      <td>2</td>\n",
       "      <td>0.67</td>\n",
       "      <td>1</td>\n",
       "      <td>0.666667</td>\n",
       "      <td>7</td>\n",
       "      <td>17</td>\n",
       "      <td>198</td>\n",
       "      <td>29</td>\n",
       "      <td>2</td>\n",
       "    </tr>\n",
       "  </tbody>\n",
       "</table>\n",
       "<p>5 rows × 25 columns</p>\n",
       "</div>"
      ],
      "text/plain": [
       "           Ad ID  Campaign ID    Keyword ID Search term match type       Date  \\\n",
       "3   357859796080   1376132377  442183914904                  Exact 2019-07-05   \n",
       "4   314179203506   1376048789  354206717502                  Exact 2019-07-06   \n",
       "8   314179203965   1376133520  315359911820                  Broad 2019-07-07   \n",
       "9   357859796818   1376524026  443040648236                 Phrase 2019-07-17   \n",
       "11  314179203962   1376133520  441743760160                  Broad 2019-07-17   \n",
       "\n",
       "   Day of week   Device Quality score Expected clickthrough rate  \\\n",
       "3       Friday   Mobile             9              Above average   \n",
       "4     Saturday  Desktop             9              Above average   \n",
       "8       Sunday   Tablet             8              Above average   \n",
       "9    Wednesday   Mobile             8              Above average   \n",
       "11   Wednesday   Mobile             8              Above average   \n",
       "\n",
       "     Ad relevance  ...  Impressions  Clicks  Cost click_target       ctr  \\\n",
       "3         Average  ...            1       1  0.38            1  1.000000   \n",
       "4         Average  ...            1       1  0.27            1  1.000000   \n",
       "8   Below average  ...            2       0  0.00            0  0.000000   \n",
       "9   Below average  ...            1       1  0.07            1  1.000000   \n",
       "11  Below average  ...            3       2  0.67            1  0.666667   \n",
       "\n",
       "    Month  Day of Month  Day of Year  Week of Year  Day of Week  \n",
       "3       7             5          186            27            4  \n",
       "4       7             6          187            27            5  \n",
       "8       7             7          188            27            6  \n",
       "9       7            17          198            29            2  \n",
       "11      7            17          198            29            2  \n",
       "\n",
       "[5 rows x 25 columns]"
      ]
     },
     "execution_count": 221,
     "metadata": {},
     "output_type": "execute_result"
    }
   ],
   "source": [
    "# take one value for sense checking\n",
    "train_data.head()"
   ]
  },
  {
   "cell_type": "markdown",
   "metadata": {},
   "source": [
    "## Create category data"
   ]
  },
  {
   "cell_type": "code",
   "execution_count": 222,
   "metadata": {},
   "outputs": [],
   "source": [
    "# create cateogry df\n",
    "cat_df = train_data.select_dtypes(include=['object']).apply(pd.Series.astype, dtype='category')"
   ]
  },
  {
   "cell_type": "code",
   "execution_count": 223,
   "metadata": {},
   "outputs": [],
   "source": [
    "# remove object columns\n",
    "train_data_obj = train_data.select_dtypes(exclude=['object'])"
   ]
  },
  {
   "cell_type": "code",
   "execution_count": 224,
   "metadata": {},
   "outputs": [],
   "source": [
    "# concat new cat columns\n",
    "train_data = pd.concat([train_data_obj, cat_df], axis=1)"
   ]
  },
  {
   "cell_type": "code",
   "execution_count": 225,
   "metadata": {},
   "outputs": [
    {
     "name": "stdout",
     "output_type": "stream",
     "text": [
      "<class 'pandas.core.frame.DataFrame'>\n",
      "Int64Index: 118563 entries, 3 to 194263\n",
      "Data columns (total 25 columns):\n",
      "Ad ID                         118563 non-null int64\n",
      "Campaign ID                   118563 non-null int64\n",
      "Keyword ID                    118563 non-null int64\n",
      "Date                          118563 non-null datetime64[ns]\n",
      "Keyword max CPC               118563 non-null float64\n",
      "First position CPC            118563 non-null float64\n",
      "Top of page CPC               118563 non-null float64\n",
      "Avg. position                 118563 non-null float64\n",
      "Impressions                   118563 non-null int64\n",
      "Clicks                        118563 non-null int64\n",
      "Cost                          118563 non-null float64\n",
      "click_target                  118563 non-null int64\n",
      "ctr                           118563 non-null float64\n",
      "Month                         118563 non-null int64\n",
      "Day of Month                  118563 non-null int64\n",
      "Day of Year                   118563 non-null int64\n",
      "Week of Year                  118563 non-null int64\n",
      "Day of Week                   118563 non-null int64\n",
      "Search term match type        118563 non-null category\n",
      "Day of week                   118563 non-null category\n",
      "Device                        118563 non-null category\n",
      "Quality score                 118563 non-null category\n",
      "Expected clickthrough rate    118563 non-null category\n",
      "Ad relevance                  118563 non-null category\n",
      "Landing page experience       118563 non-null category\n",
      "dtypes: category(7), datetime64[ns](1), float64(6), int64(11)\n",
      "memory usage: 18.0 MB\n"
     ]
    }
   ],
   "source": [
    "train_data.info()"
   ]
  },
  {
   "cell_type": "code",
   "execution_count": 226,
   "metadata": {},
   "outputs": [
    {
     "data": {
      "text/plain": [
       "2964075"
      ]
     },
     "execution_count": 226,
     "metadata": {},
     "output_type": "execute_result"
    }
   ],
   "source": [
    "train_data.size"
   ]
  },
  {
   "cell_type": "code",
   "execution_count": 227,
   "metadata": {},
   "outputs": [],
   "source": [
    "train_data.reset_index(inplace=True)"
   ]
  },
  {
   "cell_type": "code",
   "execution_count": 230,
   "metadata": {},
   "outputs": [],
   "source": [
    "train_data.drop(columns=['index'], inplace=True)"
   ]
  },
  {
   "cell_type": "code",
   "execution_count": 231,
   "metadata": {},
   "outputs": [
    {
     "data": {
      "text/html": [
       "<div>\n",
       "<style scoped>\n",
       "    .dataframe tbody tr th:only-of-type {\n",
       "        vertical-align: middle;\n",
       "    }\n",
       "\n",
       "    .dataframe tbody tr th {\n",
       "        vertical-align: top;\n",
       "    }\n",
       "\n",
       "    .dataframe thead th {\n",
       "        text-align: right;\n",
       "    }\n",
       "</style>\n",
       "<table border=\"1\" class=\"dataframe\">\n",
       "  <thead>\n",
       "    <tr style=\"text-align: right;\">\n",
       "      <th></th>\n",
       "      <th>Ad ID</th>\n",
       "      <th>Campaign ID</th>\n",
       "      <th>Keyword ID</th>\n",
       "      <th>Date</th>\n",
       "      <th>Keyword max CPC</th>\n",
       "      <th>First position CPC</th>\n",
       "      <th>Top of page CPC</th>\n",
       "      <th>Avg. position</th>\n",
       "      <th>Impressions</th>\n",
       "      <th>Clicks</th>\n",
       "      <th>...</th>\n",
       "      <th>Day of Year</th>\n",
       "      <th>Week of Year</th>\n",
       "      <th>Day of Week</th>\n",
       "      <th>Search term match type</th>\n",
       "      <th>Day of week</th>\n",
       "      <th>Device</th>\n",
       "      <th>Quality score</th>\n",
       "      <th>Expected clickthrough rate</th>\n",
       "      <th>Ad relevance</th>\n",
       "      <th>Landing page experience</th>\n",
       "    </tr>\n",
       "  </thead>\n",
       "  <tbody>\n",
       "    <tr>\n",
       "      <th>0</th>\n",
       "      <td>357859796080</td>\n",
       "      <td>1376132377</td>\n",
       "      <td>442183914904</td>\n",
       "      <td>2019-07-05</td>\n",
       "      <td>0.51</td>\n",
       "      <td>0.75</td>\n",
       "      <td>0.14</td>\n",
       "      <td>1.00</td>\n",
       "      <td>1</td>\n",
       "      <td>1</td>\n",
       "      <td>...</td>\n",
       "      <td>186</td>\n",
       "      <td>27</td>\n",
       "      <td>4</td>\n",
       "      <td>Exact</td>\n",
       "      <td>Friday</td>\n",
       "      <td>Mobile</td>\n",
       "      <td>9</td>\n",
       "      <td>Above average</td>\n",
       "      <td>Average</td>\n",
       "      <td>Above average</td>\n",
       "    </tr>\n",
       "    <tr>\n",
       "      <th>1</th>\n",
       "      <td>314179203506</td>\n",
       "      <td>1376048789</td>\n",
       "      <td>354206717502</td>\n",
       "      <td>2019-07-06</td>\n",
       "      <td>0.60</td>\n",
       "      <td>0.12</td>\n",
       "      <td>0.12</td>\n",
       "      <td>1.00</td>\n",
       "      <td>1</td>\n",
       "      <td>1</td>\n",
       "      <td>...</td>\n",
       "      <td>187</td>\n",
       "      <td>27</td>\n",
       "      <td>5</td>\n",
       "      <td>Exact</td>\n",
       "      <td>Saturday</td>\n",
       "      <td>Desktop</td>\n",
       "      <td>9</td>\n",
       "      <td>Above average</td>\n",
       "      <td>Average</td>\n",
       "      <td>Above average</td>\n",
       "    </tr>\n",
       "    <tr>\n",
       "      <th>2</th>\n",
       "      <td>314179203965</td>\n",
       "      <td>1376133520</td>\n",
       "      <td>315359911820</td>\n",
       "      <td>2019-07-07</td>\n",
       "      <td>0.51</td>\n",
       "      <td>0.34</td>\n",
       "      <td>0.18</td>\n",
       "      <td>1.00</td>\n",
       "      <td>2</td>\n",
       "      <td>0</td>\n",
       "      <td>...</td>\n",
       "      <td>188</td>\n",
       "      <td>27</td>\n",
       "      <td>6</td>\n",
       "      <td>Broad</td>\n",
       "      <td>Sunday</td>\n",
       "      <td>Tablet</td>\n",
       "      <td>8</td>\n",
       "      <td>Above average</td>\n",
       "      <td>Below average</td>\n",
       "      <td>Above average</td>\n",
       "    </tr>\n",
       "    <tr>\n",
       "      <th>3</th>\n",
       "      <td>357859796818</td>\n",
       "      <td>1376524026</td>\n",
       "      <td>443040648236</td>\n",
       "      <td>2019-07-17</td>\n",
       "      <td>0.17</td>\n",
       "      <td>0.34</td>\n",
       "      <td>0.06</td>\n",
       "      <td>1.00</td>\n",
       "      <td>1</td>\n",
       "      <td>1</td>\n",
       "      <td>...</td>\n",
       "      <td>198</td>\n",
       "      <td>29</td>\n",
       "      <td>2</td>\n",
       "      <td>Phrase</td>\n",
       "      <td>Wednesday</td>\n",
       "      <td>Mobile</td>\n",
       "      <td>8</td>\n",
       "      <td>Above average</td>\n",
       "      <td>Below average</td>\n",
       "      <td>Above average</td>\n",
       "    </tr>\n",
       "    <tr>\n",
       "      <th>4</th>\n",
       "      <td>314179203962</td>\n",
       "      <td>1376133520</td>\n",
       "      <td>441743760160</td>\n",
       "      <td>2019-07-17</td>\n",
       "      <td>0.51</td>\n",
       "      <td>0.37</td>\n",
       "      <td>0.31</td>\n",
       "      <td>1.33</td>\n",
       "      <td>3</td>\n",
       "      <td>2</td>\n",
       "      <td>...</td>\n",
       "      <td>198</td>\n",
       "      <td>29</td>\n",
       "      <td>2</td>\n",
       "      <td>Broad</td>\n",
       "      <td>Wednesday</td>\n",
       "      <td>Mobile</td>\n",
       "      <td>8</td>\n",
       "      <td>Above average</td>\n",
       "      <td>Below average</td>\n",
       "      <td>Above average</td>\n",
       "    </tr>\n",
       "  </tbody>\n",
       "</table>\n",
       "<p>5 rows × 25 columns</p>\n",
       "</div>"
      ],
      "text/plain": [
       "          Ad ID  Campaign ID    Keyword ID       Date  Keyword max CPC  \\\n",
       "0  357859796080   1376132377  442183914904 2019-07-05             0.51   \n",
       "1  314179203506   1376048789  354206717502 2019-07-06             0.60   \n",
       "2  314179203965   1376133520  315359911820 2019-07-07             0.51   \n",
       "3  357859796818   1376524026  443040648236 2019-07-17             0.17   \n",
       "4  314179203962   1376133520  441743760160 2019-07-17             0.51   \n",
       "\n",
       "   First position CPC  Top of page CPC  Avg. position  Impressions  Clicks  \\\n",
       "0                0.75             0.14           1.00            1       1   \n",
       "1                0.12             0.12           1.00            1       1   \n",
       "2                0.34             0.18           1.00            2       0   \n",
       "3                0.34             0.06           1.00            1       1   \n",
       "4                0.37             0.31           1.33            3       2   \n",
       "\n",
       "   ...  Day of Year  Week of Year  Day of Week  Search term match type  \\\n",
       "0  ...          186            27            4                   Exact   \n",
       "1  ...          187            27            5                   Exact   \n",
       "2  ...          188            27            6                   Broad   \n",
       "3  ...          198            29            2                  Phrase   \n",
       "4  ...          198            29            2                   Broad   \n",
       "\n",
       "   Day of week   Device  Quality score  Expected clickthrough rate  \\\n",
       "0       Friday   Mobile              9               Above average   \n",
       "1     Saturday  Desktop              9               Above average   \n",
       "2       Sunday   Tablet              8               Above average   \n",
       "3    Wednesday   Mobile              8               Above average   \n",
       "4    Wednesday   Mobile              8               Above average   \n",
       "\n",
       "    Ad relevance Landing page experience  \n",
       "0        Average           Above average  \n",
       "1        Average           Above average  \n",
       "2  Below average           Above average  \n",
       "3  Below average           Above average  \n",
       "4  Below average           Above average  \n",
       "\n",
       "[5 rows x 25 columns]"
      ]
     },
     "execution_count": 231,
     "metadata": {},
     "output_type": "execute_result"
    }
   ],
   "source": [
    "train_data.head()"
   ]
  },
  {
   "cell_type": "code",
   "execution_count": 234,
   "metadata": {},
   "outputs": [],
   "source": [
    "# select these cat columns for later\n",
    "categorical_columns = list(train_data.select_dtypes(['category']).columns)"
   ]
  },
  {
   "cell_type": "code",
   "execution_count": 254,
   "metadata": {},
   "outputs": [
    {
     "data": {
      "text/plain": [
       "['Search term match type',\n",
       " 'Day of week',\n",
       " 'Device',\n",
       " 'Quality score',\n",
       " 'Expected clickthrough rate',\n",
       " 'Ad relevance',\n",
       " 'Landing page experience']"
      ]
     },
     "execution_count": 254,
     "metadata": {},
     "output_type": "execute_result"
    }
   ],
   "source": [
    "categorical_columns"
   ]
  },
  {
   "cell_type": "markdown",
   "metadata": {},
   "source": [
    "### Ordinal Data Encoding"
   ]
  },
  {
   "cell_type": "code",
   "execution_count": 250,
   "metadata": {},
   "outputs": [
    {
     "ename": "ModuleNotFoundError",
     "evalue": "No module named 'category_encoders'",
     "output_type": "error",
     "traceback": [
      "\u001b[1;31m---------------------------------------------------------------------------\u001b[0m",
      "\u001b[1;31mModuleNotFoundError\u001b[0m                       Traceback (most recent call last)",
      "\u001b[1;32m<ipython-input-250-077c15cf0e6f>\u001b[0m in \u001b[0;36m<module>\u001b[1;34m\u001b[0m\n\u001b[1;32m----> 1\u001b[1;33m \u001b[1;32mfrom\u001b[0m \u001b[0mcategory_encoders\u001b[0m\u001b[1;33m.\u001b[0m\u001b[0mordinal\u001b[0m \u001b[1;32mimport\u001b[0m \u001b[0mOrdinalEncoder\u001b[0m\u001b[1;33m\u001b[0m\u001b[1;33m\u001b[0m\u001b[0m\n\u001b[0m",
      "\u001b[1;31mModuleNotFoundError\u001b[0m: No module named 'category_encoders'"
     ]
    }
   ],
   "source": [
    "from category_encoders.ordinal import OrdinalEncoder"
   ]
  },
  {
   "cell_type": "markdown",
   "metadata": {},
   "source": [
    "`Quality score`, `Expected clickthrough rate`, `Ad relevance` and `Landing page experience` are all categorical variables that should be encoded as ordered data. The values have inherent information in relation to each other"
   ]
  },
  {
   "cell_type": "code",
   "execution_count": 236,
   "metadata": {},
   "outputs": [],
   "source": [
    "ordinal_categorical_columns = categorical_columns[3:]"
   ]
  },
  {
   "cell_type": "code",
   "execution_count": 270,
   "metadata": {},
   "outputs": [],
   "source": [
    "one_hot_categorical_columns = list( categorical_columns[i] for i in [0, 2] )"
   ]
  },
  {
   "cell_type": "code",
   "execution_count": 271,
   "metadata": {},
   "outputs": [
    {
     "data": {
      "text/plain": [
       "['Search term match type', 'Device']"
      ]
     },
     "execution_count": 271,
     "metadata": {},
     "output_type": "execute_result"
    }
   ],
   "source": [
    "one_hot_categorical_columns"
   ]
  },
  {
   "cell_type": "code",
   "execution_count": 237,
   "metadata": {},
   "outputs": [
    {
     "data": {
      "text/plain": [
       "['Quality score',\n",
       " 'Expected clickthrough rate',\n",
       " 'Ad relevance',\n",
       " 'Landing page experience']"
      ]
     },
     "execution_count": 237,
     "metadata": {},
     "output_type": "execute_result"
    }
   ],
   "source": [
    "ordinal_categorical_columns"
   ]
  },
  {
   "cell_type": "code",
   "execution_count": 246,
   "metadata": {},
   "outputs": [],
   "source": [
    "enc = OrdinalEncoder()"
   ]
  },
  {
   "cell_type": "code",
   "execution_count": 252,
   "metadata": {},
   "outputs": [
    {
     "ename": "AttributeError",
     "evalue": "'Series' object has no attribute 'reshape'",
     "output_type": "error",
     "traceback": [
      "\u001b[1;31m---------------------------------------------------------------------------\u001b[0m",
      "\u001b[1;31mAttributeError\u001b[0m                            Traceback (most recent call last)",
      "\u001b[1;32m<ipython-input-252-a2fc3c05317c>\u001b[0m in \u001b[0;36m<module>\u001b[1;34m\u001b[0m\n\u001b[0;32m      1\u001b[0m \u001b[1;32mfor\u001b[0m \u001b[0mcolumn_name\u001b[0m \u001b[1;32min\u001b[0m \u001b[0mordinal_categorical_columns\u001b[0m\u001b[1;33m:\u001b[0m\u001b[1;33m\u001b[0m\u001b[1;33m\u001b[0m\u001b[0m\n\u001b[1;32m----> 2\u001b[1;33m     \u001b[0menc\u001b[0m\u001b[1;33m.\u001b[0m\u001b[0mfit\u001b[0m\u001b[1;33m(\u001b[0m\u001b[0mtrain_data\u001b[0m\u001b[1;33m[\u001b[0m\u001b[0mcolumn_name\u001b[0m\u001b[1;33m]\u001b[0m\u001b[1;33m.\u001b[0m\u001b[0mreshape\u001b[0m\u001b[1;33m(\u001b[0m\u001b[1;33m-\u001b[0m\u001b[1;36m1\u001b[0m\u001b[1;33m,\u001b[0m\u001b[1;36m1\u001b[0m\u001b[1;33m)\u001b[0m\u001b[1;33m)\u001b[0m\u001b[1;33m\u001b[0m\u001b[1;33m\u001b[0m\u001b[0m\n\u001b[0m",
      "\u001b[1;32mC:\\ProgramData\\Anaconda3\\envs\\bhn-ctr-optimization\\lib\\site-packages\\pandas\\core\\generic.py\u001b[0m in \u001b[0;36m__getattr__\u001b[1;34m(self, name)\u001b[0m\n\u001b[0;32m   5065\u001b[0m             \u001b[1;32mif\u001b[0m \u001b[0mself\u001b[0m\u001b[1;33m.\u001b[0m\u001b[0m_info_axis\u001b[0m\u001b[1;33m.\u001b[0m\u001b[0m_can_hold_identifiers_and_holds_name\u001b[0m\u001b[1;33m(\u001b[0m\u001b[0mname\u001b[0m\u001b[1;33m)\u001b[0m\u001b[1;33m:\u001b[0m\u001b[1;33m\u001b[0m\u001b[1;33m\u001b[0m\u001b[0m\n\u001b[0;32m   5066\u001b[0m                 \u001b[1;32mreturn\u001b[0m \u001b[0mself\u001b[0m\u001b[1;33m[\u001b[0m\u001b[0mname\u001b[0m\u001b[1;33m]\u001b[0m\u001b[1;33m\u001b[0m\u001b[1;33m\u001b[0m\u001b[0m\n\u001b[1;32m-> 5067\u001b[1;33m             \u001b[1;32mreturn\u001b[0m \u001b[0mobject\u001b[0m\u001b[1;33m.\u001b[0m\u001b[0m__getattribute__\u001b[0m\u001b[1;33m(\u001b[0m\u001b[0mself\u001b[0m\u001b[1;33m,\u001b[0m \u001b[0mname\u001b[0m\u001b[1;33m)\u001b[0m\u001b[1;33m\u001b[0m\u001b[1;33m\u001b[0m\u001b[0m\n\u001b[0m\u001b[0;32m   5068\u001b[0m \u001b[1;33m\u001b[0m\u001b[0m\n\u001b[0;32m   5069\u001b[0m     \u001b[1;32mdef\u001b[0m \u001b[0m__setattr__\u001b[0m\u001b[1;33m(\u001b[0m\u001b[0mself\u001b[0m\u001b[1;33m,\u001b[0m \u001b[0mname\u001b[0m\u001b[1;33m,\u001b[0m \u001b[0mvalue\u001b[0m\u001b[1;33m)\u001b[0m\u001b[1;33m:\u001b[0m\u001b[1;33m\u001b[0m\u001b[1;33m\u001b[0m\u001b[0m\n",
      "\u001b[1;31mAttributeError\u001b[0m: 'Series' object has no attribute 'reshape'"
     ]
    }
   ],
   "source": [
    "for column_name in ordinal_categorical_columns:\n",
    "    enc.fit(train_data[column_name].reshape(-1,1))"
   ]
  },
  {
   "cell_type": "code",
   "execution_count": 243,
   "metadata": {},
   "outputs": [],
   "source": [
    "ordinal_col_mapping = [{'col': column_name,\n",
    "                        'mapping': list(zip(train_data[column_name].cat.categories,\n",
    "                        train_data[column_name].cat.codes))}\n",
    "                       for column_name in ordinal_categorical_columns]\n",
    "                                        "
   ]
  },
  {
   "cell_type": "code",
   "execution_count": 245,
   "metadata": {},
   "outputs": [
    {
     "ename": "TypeError",
     "evalue": "__init__() got an unexpected keyword argument 'cols'",
     "output_type": "error",
     "traceback": [
      "\u001b[1;31m---------------------------------------------------------------------------\u001b[0m",
      "\u001b[1;31mTypeError\u001b[0m                                 Traceback (most recent call last)",
      "\u001b[1;32m<ipython-input-245-057a2a649c54>\u001b[0m in \u001b[0;36m<module>\u001b[1;34m\u001b[0m\n\u001b[1;32m----> 1\u001b[1;33m \u001b[0mord_enc\u001b[0m \u001b[1;33m=\u001b[0m \u001b[0mOrdinalEncoder\u001b[0m\u001b[1;33m(\u001b[0m\u001b[0mcols\u001b[0m\u001b[1;33m=\u001b[0m\u001b[0mcategorical_columns\u001b[0m\u001b[1;33m,\u001b[0m \u001b[0mmapping\u001b[0m\u001b[1;33m=\u001b[0m\u001b[0mordinal_col_mapping\u001b[0m\u001b[1;33m)\u001b[0m\u001b[1;33m\u001b[0m\u001b[1;33m\u001b[0m\u001b[0m\n\u001b[0m\u001b[0;32m      2\u001b[0m \u001b[0mord_enc\u001b[0m\u001b[1;33m\u001b[0m\u001b[1;33m\u001b[0m\u001b[0m\n",
      "\u001b[1;31mTypeError\u001b[0m: __init__() got an unexpected keyword argument 'cols'"
     ]
    }
   ],
   "source": [
    "ord_enc = OrdinalEncoder(cols=categorical_columns, mapping=ordinal_col_mapping)\n",
    "ord_enc"
   ]
  },
  {
   "cell_type": "markdown",
   "metadata": {},
   "source": [
    "### One-Hot Encoding"
   ]
  },
  {
   "cell_type": "code",
   "execution_count": null,
   "metadata": {},
   "outputs": [],
   "source": [
    "# get dummies encoding\n",
    "train_data = train_data.copy()\n",
    "cat_df_flights_onehot = pd.get_dummies(train_data, columns=['Search term match type', 'Device', ''], prefix = ['carrier'])\n",
    "\n",
    "print(cat_df_flights_onehot.head())"
   ]
  },
  {
   "cell_type": "markdown",
   "metadata": {},
   "source": [
    "## Cyclical Encoding of Time"
   ]
  },
  {
   "cell_type": "markdown",
   "metadata": {},
   "source": [
    "A common method for encoding cyclical data is to transform the data into two dimensions using a sine and consine transformation.\n",
    "\n",
    "We can do that using the following transformations:\n",
    "\n",
    "$x_{sin} = \\sin(\\frac{2 * \\pi * x}{\\max(x)})$\n",
    "\n",
    "$x_{cos} = \\cos(\\frac{2 * \\pi * x}{\\max(x)})$\n",
    "\n",
    "Let's do this for the time components that are cyclical"
   ]
  },
  {
   "cell_type": "code",
   "execution_count": 274,
   "metadata": {},
   "outputs": [
    {
     "ename": "TypeError",
     "evalue": "Series with dtype category cannot perform the numpy op sin",
     "output_type": "error",
     "traceback": [
      "\u001b[1;31m---------------------------------------------------------------------------\u001b[0m",
      "\u001b[1;31mTypeError\u001b[0m                                 Traceback (most recent call last)",
      "\u001b[1;32m<ipython-input-274-c0bc7e75b210>\u001b[0m in \u001b[0;36m<module>\u001b[1;34m\u001b[0m\n\u001b[0;32m      1\u001b[0m \u001b[1;31m# encoding cyclical features\u001b[0m\u001b[1;33m\u001b[0m\u001b[1;33m\u001b[0m\u001b[1;33m\u001b[0m\u001b[0m\n\u001b[1;32m----> 2\u001b[1;33m \u001b[0mtrain_data\u001b[0m\u001b[1;33m[\u001b[0m\u001b[1;34m'day_of_week_sin'\u001b[0m\u001b[1;33m]\u001b[0m \u001b[1;33m=\u001b[0m \u001b[0mnp\u001b[0m\u001b[1;33m.\u001b[0m\u001b[0msin\u001b[0m\u001b[1;33m(\u001b[0m\u001b[0mtrain_data\u001b[0m\u001b[1;33m[\u001b[0m\u001b[1;34m'Day of week'\u001b[0m\u001b[1;33m]\u001b[0m\u001b[1;33m)\u001b[0m\u001b[1;33m*\u001b[0m\u001b[1;33m(\u001b[0m\u001b[1;36m2.\u001b[0m\u001b[1;33m*\u001b[0m\u001b[0mnp\u001b[0m\u001b[1;33m.\u001b[0m\u001b[0mpi\u001b[0m\u001b[1;33m/\u001b[0m\u001b[1;36m7\u001b[0m\u001b[1;33m)\u001b[0m\u001b[1;33m\u001b[0m\u001b[1;33m\u001b[0m\u001b[0m\n\u001b[0m\u001b[0;32m      3\u001b[0m \u001b[0mtrain_data\u001b[0m\u001b[1;33m[\u001b[0m\u001b[1;34m'day_of_week_cos'\u001b[0m\u001b[1;33m]\u001b[0m \u001b[1;33m=\u001b[0m \u001b[0mnp\u001b[0m\u001b[1;33m.\u001b[0m\u001b[0mcos\u001b[0m\u001b[1;33m(\u001b[0m\u001b[0mtrain_data\u001b[0m\u001b[1;33m[\u001b[0m\u001b[1;34m'Day of week'\u001b[0m\u001b[1;33m]\u001b[0m\u001b[1;33m*\u001b[0m\u001b[1;33m(\u001b[0m\u001b[1;36m2.\u001b[0m\u001b[1;33m*\u001b[0m\u001b[0mnp\u001b[0m\u001b[1;33m.\u001b[0m\u001b[0mpi\u001b[0m\u001b[1;33m/\u001b[0m\u001b[1;36m7\u001b[0m\u001b[1;33m)\u001b[0m\u001b[1;33m)\u001b[0m\u001b[1;33m\u001b[0m\u001b[1;33m\u001b[0m\u001b[0m\n\u001b[0;32m      4\u001b[0m \u001b[0mtrain_data\u001b[0m\u001b[1;33m[\u001b[0m\u001b[1;34m'month_sin'\u001b[0m\u001b[1;33m]\u001b[0m \u001b[1;33m=\u001b[0m \u001b[0mnp\u001b[0m\u001b[1;33m.\u001b[0m\u001b[0msin\u001b[0m\u001b[1;33m(\u001b[0m\u001b[1;33m(\u001b[0m\u001b[0mtrain_data\u001b[0m\u001b[1;33m[\u001b[0m\u001b[1;34m'Month'\u001b[0m\u001b[1;33m]\u001b[0m\u001b[1;33m-\u001b[0m\u001b[1;36m1\u001b[0m\u001b[1;33m)\u001b[0m\u001b[1;33m*\u001b[0m\u001b[1;33m(\u001b[0m\u001b[1;36m2.\u001b[0m\u001b[1;33m*\u001b[0m\u001b[0mnp\u001b[0m\u001b[1;33m.\u001b[0m\u001b[0mpi\u001b[0m\u001b[1;33m/\u001b[0m\u001b[1;36m12\u001b[0m\u001b[1;33m)\u001b[0m\u001b[1;33m)\u001b[0m\u001b[1;33m\u001b[0m\u001b[1;33m\u001b[0m\u001b[0m\n\u001b[0;32m      5\u001b[0m \u001b[0mtrain_data\u001b[0m\u001b[1;33m[\u001b[0m\u001b[1;34m'month_cos'\u001b[0m\u001b[1;33m]\u001b[0m \u001b[1;33m=\u001b[0m \u001b[0mnp\u001b[0m\u001b[1;33m.\u001b[0m\u001b[0mcos\u001b[0m\u001b[1;33m(\u001b[0m\u001b[1;33m(\u001b[0m\u001b[0mtrain_data\u001b[0m\u001b[1;33m[\u001b[0m\u001b[1;34m'Month'\u001b[0m\u001b[1;33m]\u001b[0m\u001b[1;33m-\u001b[0m\u001b[1;36m1\u001b[0m\u001b[1;33m)\u001b[0m\u001b[1;33m*\u001b[0m\u001b[1;33m(\u001b[0m\u001b[1;36m2.\u001b[0m\u001b[1;33m*\u001b[0m\u001b[0mnp\u001b[0m\u001b[1;33m.\u001b[0m\u001b[0mpi\u001b[0m\u001b[1;33m/\u001b[0m\u001b[1;36m12\u001b[0m\u001b[1;33m)\u001b[0m\u001b[1;33m)\u001b[0m\u001b[1;33m\u001b[0m\u001b[1;33m\u001b[0m\u001b[0m\n",
      "\u001b[1;32mC:\\ProgramData\\Anaconda3\\envs\\bhn-ctr-optimization\\lib\\site-packages\\pandas\\core\\series.py\u001b[0m in \u001b[0;36m__array_prepare__\u001b[1;34m(self, result, context)\u001b[0m\n\u001b[0;32m    749\u001b[0m                                 \u001b[0mobj\u001b[0m\u001b[1;33m=\u001b[0m\u001b[0mtype\u001b[0m\u001b[1;33m(\u001b[0m\u001b[0mobj\u001b[0m\u001b[1;33m)\u001b[0m\u001b[1;33m.\u001b[0m\u001b[0m__name__\u001b[0m\u001b[1;33m,\u001b[0m\u001b[1;33m\u001b[0m\u001b[1;33m\u001b[0m\u001b[0m\n\u001b[0;32m    750\u001b[0m                                 \u001b[0mdtype\u001b[0m\u001b[1;33m=\u001b[0m\u001b[0mgetattr\u001b[0m\u001b[1;33m(\u001b[0m\u001b[0mobj\u001b[0m\u001b[1;33m,\u001b[0m \u001b[1;34m'dtype'\u001b[0m\u001b[1;33m,\u001b[0m \u001b[1;32mNone\u001b[0m\u001b[1;33m)\u001b[0m\u001b[1;33m,\u001b[0m\u001b[1;33m\u001b[0m\u001b[1;33m\u001b[0m\u001b[0m\n\u001b[1;32m--> 751\u001b[1;33m                                 op=context[0].__name__))\n\u001b[0m\u001b[0;32m    752\u001b[0m         \u001b[1;32mreturn\u001b[0m \u001b[0mresult\u001b[0m\u001b[1;33m\u001b[0m\u001b[1;33m\u001b[0m\u001b[0m\n\u001b[0;32m    753\u001b[0m \u001b[1;33m\u001b[0m\u001b[0m\n",
      "\u001b[1;31mTypeError\u001b[0m: Series with dtype category cannot perform the numpy op sin"
     ]
    }
   ],
   "source": [
    "# encoding cyclical features\n",
    "train_data['day_of_week_sin'] = np.sin(train_data['Day of week'])*(2.*np.pi/7)\n",
    "train_data['day_of_week_cos'] = np.cos(train_data['Day of week'])*(2.*np.pi/7)\n",
    "train_data['month_sin'] = np.sin((train_data['Month']-1)*(2.*np.pi/12))\n",
    "train_data['month_cos'] = np.cos((train_data['Month']-1)*(2.*np.pi/12))\n",
    "train_data['day_of_year_sin'] = np.sin((train_data['Day of Year']-1)*(2.*np.pi/365))\n",
    "train_data['day_of_year_cos'] = np.cos((train_data['Day of Year']-1)*(2.*np.pi/365))\n",
    "# date or day of month is a potential to investigate later ie. 31, 26 etc"
   ]
  },
  {
   "cell_type": "code",
   "execution_count": null,
   "metadata": {},
   "outputs": [],
   "source": [
    "# create train and test datasets\n"
   ]
  },
  {
   "cell_type": "markdown",
   "metadata": {},
   "source": [
    "## Correcting Class Imbalance"
   ]
  },
  {
   "cell_type": "markdown",
   "metadata": {},
   "source": [
    "### Upsampling"
   ]
  },
  {
   "cell_type": "code",
   "execution_count": null,
   "metadata": {},
   "outputs": [],
   "source": [
    "from sklearn.utils import resample\n",
    "\n",
    "# Separate input features and target\n",
    "y = df.Class\n",
    "X = df.drop('Class', axis=1)\n",
    "\n",
    "# setting up testing and training sets\n",
    "X_train, X_test, y_train, y_test = train_test_split(X, y, test_size=0.25, random_state=27)\n",
    "\n",
    "# concatenate our training data back together\n",
    "X = pd.concat([X_train, y_train], axis=1)\n",
    "\n",
    "# separate minority and majority classes\n",
    "not_fraud = X[X.Class==0]\n",
    "fraud = X[X.Class==1]\n",
    "\n",
    "# upsample minority\n",
    "fraud_upsampled = resample(fraud,\n",
    "                          replace=True, # sample with replacement\n",
    "                          n_samples=len(not_fraud), # match number in majority class\n",
    "                          random_state=27) # reproducible results\n",
    "\n",
    "# combine majority and upsampled minority\n",
    "upsampled = pd.concat([not_fraud, fraud_upsampled])\n",
    "\n",
    "# check new class counts\n",
    "upsampled.Class.value_counts()\n",
    "    1    213245\n",
    "    0    213245"
   ]
  },
  {
   "cell_type": "code",
   "execution_count": null,
   "metadata": {},
   "outputs": [],
   "source": [
    "# trying logistic regression again with the balanced dataset\n",
    "y_train = upsampled.Class\n",
    "X_train = upsampled.drop('Class', axis=1)\n",
    "\n",
    "upsampled = LogisticRegression(solver='liblinear').fit(X_train, y_train)\n",
    "\n",
    "upsampled_pred = upsampled.predict(X_test)\n",
    "\n",
    "# Checking accuracy\n",
    "accuracy_score(y_test, upsampled_pred)\n",
    "    0.9807\n",
    "    \n",
    "# f1 score\n",
    "f1_score(y_test, upsampled_pred)\n",
    "    0.1437\n",
    "    \n",
    "recall_score(y_test, upsampled_pred)\n",
    "    0.8712"
   ]
  },
  {
   "cell_type": "markdown",
   "metadata": {},
   "source": [
    "### Downsampling"
   ]
  },
  {
   "cell_type": "code",
   "execution_count": null,
   "metadata": {},
   "outputs": [],
   "source": [
    "# trying logistic regression again with the undersampled dataset\n",
    "\n",
    "y_train = downsampled.Class\n",
    "X_train = downsampled.drop('Class', axis=1)\n",
    "\n",
    "undersampled = LogisticRegression(solver='liblinear').fit(X_train, y_train)\n",
    "\n",
    "undersampled_pred = undersampled.predict(X_test)\n",
    "\n",
    "# Checking accuracy\n",
    "accuracy_score(y_test, undersampled_pred)\n",
    "    0.9758\n",
    "\n",
    "# f1 score\n",
    "f1_score(y_test, undersampled_pred)\n",
    "    0.1171\n",
    "\n",
    "recall_score(y_test, undersampled_pred)\n",
    "    0.8636"
   ]
  },
  {
   "cell_type": "code",
   "execution_count": null,
   "metadata": {},
   "outputs": [],
   "source": [
    "# still using our separated classes fraud and not_fraud from above\n",
    "\n",
    "# downsample majority\n",
    "not_fraud_downsampled = resample(not_fraud,\n",
    "                                replace = False, # sample without replacement\n",
    "                                n_samples = len(fraud), # match minority n\n",
    "                                random_state = 27) # reproducible results\n",
    "\n",
    "# combine minority and downsampled majority\n",
    "downsampled = pd.concat([not_fraud_downsampled, fraud])\n",
    "\n",
    "# checking counts\n",
    "downsampled.Class.value_counts()\n",
    "    1    360\n",
    "    0    360\n",
    "    "
   ]
  },
  {
   "cell_type": "markdown",
   "metadata": {},
   "source": [
    "### SMOTE Resampling"
   ]
  },
  {
   "cell_type": "markdown",
   "metadata": {},
   "source": [
    "# Feature Selection"
   ]
  },
  {
   "cell_type": "code",
   "execution_count": null,
   "metadata": {},
   "outputs": [],
   "source": [
    "# Recursive Feature Elimination\n",
    "from sklearn import datasets\n",
    "from sklearn.feature_selection import RFE\n",
    "from sklearn.linear_model import LogisticRegression\n",
    "# load the iris datasets\n",
    "dataset = datasets.load_iris()\n",
    "# create a base classifier used to evaluate a subset of attributes\n",
    "model = LogisticRegression()\n",
    "# create the RFE model and select 3 attributes\n",
    "rfe = RFE(model, 3)\n",
    "rfe = rfe.fit(dataset.data, dataset.target)\n",
    "# summarize the selection of the attributes\n",
    "print(rfe.support_)\n",
    "print(rfe.ranking_)"
   ]
  },
  {
   "cell_type": "code",
   "execution_count": null,
   "metadata": {},
   "outputs": [],
   "source": [
    "# Feature Importance\n",
    "from sklearn import datasets\n",
    "from sklearn import metrics\n",
    "from sklearn.ensemble import ExtraTreesClassifier\n",
    "# load the iris datasets\n",
    "dataset = datasets.load_iris()\n",
    "# fit an Extra Trees model to the data\n",
    "model = ExtraTreesClassifier()\n",
    "model.fit(dataset.data, dataset.target)\n",
    "# display the relative importance of each attribute\n",
    "print(model.feature_importances_)"
   ]
  },
  {
   "cell_type": "code",
   "execution_count": null,
   "metadata": {},
   "outputs": [],
   "source": [
    "from sklearn.model_selection import train_test_split\n",
    "\n",
    "data_train, data_test = train_test_split(data, test_size=0.4)\n",
    "data_test, data_val = train_test_split(data_test, test_size=0.5)\n"
   ]
  },
  {
   "cell_type": "markdown",
   "metadata": {},
   "source": [
    "# Standardization "
   ]
  },
  {
   "cell_type": "code",
   "execution_count": null,
   "metadata": {},
   "outputs": [],
   "source": [
    "# Standardise and nrmalise\n",
    "from sklearn.preprocessing import StandardScaler\n",
    "X_train, X_test, y_train, y_test = train_test_split(StandardScaler().fit_transform(X), y, test_size=0.33, random_state=42)"
   ]
  },
  {
   "cell_type": "markdown",
   "metadata": {},
   "source": [
    "# Evaluation Metrics"
   ]
  },
  {
   "cell_type": "markdown",
   "metadata": {},
   "source": [
    "Change the performance metric\n",
    "\n",
    "As we saw above, accuracy is not the best metric to use when evaluating imbalanced datasets as it can be very misleading. Metrics that can provide better insight include:\n",
    "1. Confusion Matrix: a table showing correct predictions and types of incorrect predictions.\n",
    "\n",
    "2. Precision: the number of true positives divided by all positive predictions. Precision is also called Positive Predictive Value. It is a measure of a classifier’s exactness. Low precision indicates a high number of false positives.\n",
    "3. Recall: the number of true positives divided by the number of positive values in the test data. Recall is also called Sensitivity or the True Positive Rate. It is a measure of a classifier’s completeness. Low recall indicates a high number of false negatives.\n",
    "4. F1: Score: the weighted average of precision and recall."
   ]
  },
  {
   "cell_type": "markdown",
   "metadata": {},
   "source": [
    "### F1-score as a fucntion of regularization (penalty) parameter"
   ]
  },
  {
   "cell_type": "code",
   "execution_count": 193,
   "metadata": {},
   "outputs": [
    {
     "data": {
      "image/png": "[encoded data removed]",
      "text/plain": [
       "<matplotlib.figure.Figure at 0x2acbec964e0>"
      ]
     },
     "metadata": {},
     "output_type": "display_data"
    }
   ],
   "source": [
    "from sklearn.linear_model import LogisticRegression\n",
    "from sklearn.metrics import classification_report\n",
    "nsimu=201\n",
    "penalty=[0]*nsimu\n",
    "logmodel=[0]*nsimu\n",
    "predictions =[0]*nsimu\n",
    "class_report = [0]*nsimu\n",
    "f1=[0]*nsimu\n",
    "for i in range(1,nsimu):\n",
    "        logmodel[i] =(LogisticRegression(C=i/1000,tol=1e-4, max_iter=100,n_jobs=4))\n",
    "        logmodel[i].fit(X_train,y_train)\n",
    "        predictions[i] = logmodel[i].predict(X_test)\n",
    "        class_report[i] = classification_report(y_test,predictions[i])\n",
    "        l=class_report[i].split()\n",
    "        f1[i] = l[len(l)-2]\n",
    "        penalty[i]=1000/i\n",
    "\n",
    "plt.scatter(penalty[1:len(penalty)-2],f1[1:len(f1)-2])\n",
    "plt.title(\"F1-score vs. regularization parameter\",fontsize=20)\n",
    "plt.xlabel(\"Penalty parameter\",fontsize=17)\n",
    "plt.ylabel(\"F1-score on test data\",fontsize=17)\n",
    "plt.show()"
   ]
  },
  {
   "cell_type": "markdown",
   "metadata": {},
   "source": [
    "### F1-score as a function of test set size (fraction)"
   ]
  },
  {
   "cell_type": "code",
   "execution_count": 197,
   "metadata": {},
   "outputs": [
    {
     "data": {
      "image/png": "[encoded data removed]",
      "text/plain": [
       "<matplotlib.figure.Figure at 0x2acbcc90d30>"
      ]
     },
     "metadata": {},
     "output_type": "display_data"
    }
   ],
   "source": [
    "nsimu=101\n",
    "class_report = [0]*nsimu\n",
    "f1=[0]*nsimu\n",
    "test_fraction =[0]*nsimu\n",
    "for i in range(1,nsimu):\n",
    "        X_train, X_test, y_train, y_test = train_test_split(train.drop('Survived',axis=1), \n",
    "                                                    train['Survived'], test_size=0.1+(i-1)*0.007, \n",
    "                                                    random_state=111)\n",
    "        logmodel =(LogisticRegression(C=1,tol=1e-4, max_iter=1000,n_jobs=4))\n",
    "        logmodel.fit(X_train,y_train)\n",
    "        predictions = logmodel.predict(X_test)\n",
    "        class_report[i] = classification_report(y_test,predictions)\n",
    "        l=class_report[i].split()\n",
    "        f1[i] = l[len(l)-2]\n",
    "        test_fraction[i]=0.1+(i-1)*0.007\n",
    "\n",
    "plt.plot(test_fraction[1:len(test_fraction)-2],f1[1:len(f1)-2])\n",
    "plt.title(\"F1-score vs. test set size (fraction)\",fontsize=20)\n",
    "plt.xlabel(\"Test set size (fraction)\",fontsize=17)\n",
    "plt.ylabel(\"F1-score on test data\",fontsize=17)\n",
    "plt.show()"
   ]
  }
 ],
 "metadata": {
  "kernelspec": {
   "display_name": "Python 3",
   "language": "python",
   "name": "python3"
  },
  "language_info": {
   "codemirror_mode": {
    "name": "ipython",
    "version": 3
   },
   "file_extension": ".py",
   "mimetype": "text/x-python",
   "name": "python",
   "nbconvert_exporter": "python",
   "pygments_lexer": "ipython3",
   "version": "3.7.3"
  }
 },
 "nbformat": 4,
 "nbformat_minor": 4
}
