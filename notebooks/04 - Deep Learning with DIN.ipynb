{
 "cells": [
  {
   "cell_type": "markdown",
   "metadata": {},
   "source": [
    "# Deep Interest Network"
   ]
  },
  {
   "cell_type": "markdown",
   "metadata": {},
   "source": [
    "# Preface"
   ]
  },
  {
   "cell_type": "markdown",
   "metadata": {},
   "source": [
    "After traditional modelling has been done in workbook 03 to predict the CTR, I now move onto Deep Ealrning methods to see if we can identify n0on-linear trends in the data and predict with higher accuracy.\n",
    "\n",
    "Compared with commonly used logistic regression model [1], these deep learning methods can reduce a lot of feature engineering jobs and enhance the model capability greatly."
   ]
  },
  {
   "cell_type": "markdown",
   "metadata": {},
   "source": [
    "# Introduction"
   ]
  },
  {
   "cell_type": "markdown",
   "metadata": {},
   "source": [
    "# References"
   ]
  },
  {
   "cell_type": "markdown",
   "metadata": {},
   "source": [
    "[1] H. Brendan Mcmahan, H. Brendan Holt, et al. 2014. Ad Click Prediction: a\n",
    "View from the Trenches. In Proceedings of the 19th ACM SIGKDD International\n",
    "Conference on Knowledge Discovery and Data Mining. 1222–1230."
   ]
  }
 ],
 "metadata": {
  "kernelspec": {
   "display_name": "Python 3",
   "language": "python",
   "name": "python3"
  },
  "language_info": {
   "codemirror_mode": {
    "name": "ipython",
    "version": 3
   },
   "file_extension": ".py",
   "mimetype": "text/x-python",
   "name": "python",
   "nbconvert_exporter": "python",
   "pygments_lexer": "ipython3",
   "version": "3.7.3"
  }
 },
 "nbformat": 4,
 "nbformat_minor": 4
}
